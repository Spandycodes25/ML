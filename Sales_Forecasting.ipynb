{
  "nbformat": 4,
  "nbformat_minor": 0,
  "metadata": {
    "colab": {
      "provenance": []
    },
    "kernelspec": {
      "name": "python3",
      "display_name": "Python 3"
    },
    "language_info": {
      "name": "python"
    },
    "widgets": {
      "application/vnd.jupyter.widget-state+json": {
        "979923b3e22e4cbc863638232cc8d654": {
          "model_module": "@jupyter-widgets/controls",
          "model_name": "ButtonModel",
          "model_module_version": "2.0.0",
          "state": {
            "_dom_classes": [],
            "_model_module": "@jupyter-widgets/controls",
            "_model_module_version": "2.0.0",
            "_model_name": "ButtonModel",
            "_view_count": null,
            "_view_module": "@jupyter-widgets/controls",
            "_view_module_version": "2.0.0",
            "_view_name": "ButtonView",
            "button_style": "danger",
            "description": "Request a quote",
            "disabled": false,
            "icon": "",
            "layout": "IPY_MODEL_4977b8830c4540e48fc0ed942f18356c",
            "style": "IPY_MODEL_7d251b67719e49ad957f59a95963a4b8",
            "tabbable": null,
            "tooltip": null
          }
        },
        "4977b8830c4540e48fc0ed942f18356c": {
          "model_module": "@jupyter-widgets/base",
          "model_name": "LayoutModel",
          "model_module_version": "2.0.0",
          "state": {
            "_model_module": "@jupyter-widgets/base",
            "_model_module_version": "2.0.0",
            "_model_name": "LayoutModel",
            "_view_count": null,
            "_view_module": "@jupyter-widgets/base",
            "_view_module_version": "2.0.0",
            "_view_name": "LayoutView",
            "align_content": null,
            "align_items": null,
            "align_self": null,
            "border_bottom": null,
            "border_left": null,
            "border_right": null,
            "border_top": null,
            "bottom": null,
            "display": null,
            "flex": null,
            "flex_flow": null,
            "grid_area": null,
            "grid_auto_columns": null,
            "grid_auto_flow": null,
            "grid_auto_rows": null,
            "grid_column": null,
            "grid_gap": null,
            "grid_row": null,
            "grid_template_areas": null,
            "grid_template_columns": null,
            "grid_template_rows": null,
            "height": null,
            "justify_content": null,
            "justify_items": null,
            "left": null,
            "margin": null,
            "max_height": null,
            "max_width": null,
            "min_height": null,
            "min_width": null,
            "object_fit": null,
            "object_position": null,
            "order": null,
            "overflow": null,
            "padding": null,
            "right": null,
            "top": null,
            "visibility": null,
            "width": null
          }
        },
        "7d251b67719e49ad957f59a95963a4b8": {
          "model_module": "@jupyter-widgets/controls",
          "model_name": "ButtonStyleModel",
          "model_module_version": "2.0.0",
          "state": {
            "_model_module": "@jupyter-widgets/controls",
            "_model_module_version": "2.0.0",
            "_model_name": "ButtonStyleModel",
            "_view_count": null,
            "_view_module": "@jupyter-widgets/base",
            "_view_module_version": "2.0.0",
            "_view_name": "StyleView",
            "button_color": null,
            "font_family": null,
            "font_size": null,
            "font_style": null,
            "font_variant": null,
            "font_weight": null,
            "text_color": null,
            "text_decoration": null
          }
        }
      }
    }
  },
  "cells": [
    {
      "cell_type": "markdown",
      "source": [
        "\"Upgini\" is a feature search and enrichment library in Python. It searches through thousands of public and community data sources and then creates features that enrich the capabilities of our models. These new features improve the prediction power of the models.\n",
        "\n",
        "\n",
        "\"CatBoost\" is a supervised machine learning method that is used by the Train Using AutoML tool and uses decision trees for classification and regression. As its name suggests, CatBoost has two main features, it works with categorical data (the Cat) and it uses gradient boosting (the Boost)."
      ],
      "metadata": {
        "id": "Q3o5GU1-DKpy"
      }
    },
    {
      "cell_type": "code",
      "execution_count": 2,
      "metadata": {
        "colab": {
          "base_uri": "https://localhost:8080/"
        },
        "id": "o129s1MwPJoL",
        "outputId": "d6d15af9-5619-4059-8b8b-0bf1bd5523b6"
      },
      "outputs": [
        {
          "output_type": "stream",
          "name": "stdout",
          "text": [
            "\u001b[2K     \u001b[90m━━━━━━━━━━━━━━━━━━━━━━━━━━━━━━━━━━━━━━━━\u001b[0m \u001b[32m165.5/165.5 kB\u001b[0m \u001b[31m2.0 MB/s\u001b[0m eta \u001b[36m0:00:00\u001b[0m\n",
            "\u001b[2K     \u001b[90m━━━━━━━━━━━━━━━━━━━━━━━━━━━━━━━━━━━━━━━━\u001b[0m \u001b[32m98.7/98.7 MB\u001b[0m \u001b[31m10.3 MB/s\u001b[0m eta \u001b[36m0:00:00\u001b[0m\n",
            "\u001b[2K     \u001b[90m━━━━━━━━━━━━━━━━━━━━━━━━━━━━━━━━━━━━━━━━\u001b[0m \u001b[32m1.7/1.7 MB\u001b[0m \u001b[31m61.6 MB/s\u001b[0m eta \u001b[36m0:00:00\u001b[0m\n",
            "\u001b[2K     \u001b[90m━━━━━━━━━━━━━━━━━━━━━━━━━━━━━━━━━━━━━━━━\u001b[0m \u001b[32m108.3/108.3 kB\u001b[0m \u001b[31m9.7 MB/s\u001b[0m eta \u001b[36m0:00:00\u001b[0m\n",
            "\u001b[?25h  Preparing metadata (setup.py) ... \u001b[?25l\u001b[?25hdone\n",
            "\u001b[2K     \u001b[90m━━━━━━━━━━━━━━━━━━━━━━━━━━━━━━━━━━━━━━━━\u001b[0m \u001b[32m139.4/139.4 kB\u001b[0m \u001b[31m11.0 MB/s\u001b[0m eta \u001b[36m0:00:00\u001b[0m\n",
            "\u001b[2K     \u001b[90m━━━━━━━━━━━━━━━━━━━━━━━━━━━━━━━━━━━━━━━━\u001b[0m \u001b[32m433.2/433.2 kB\u001b[0m \u001b[31m41.5 MB/s\u001b[0m eta \u001b[36m0:00:00\u001b[0m\n",
            "\u001b[2K     \u001b[90m━━━━━━━━━━━━━━━━━━━━━━━━━━━━━━━━━━━━━━━━\u001b[0m \u001b[32m109.4/109.4 kB\u001b[0m \u001b[31m11.5 MB/s\u001b[0m eta \u001b[36m0:00:00\u001b[0m\n",
            "\u001b[2K     \u001b[90m━━━━━━━━━━━━━━━━━━━━━━━━━━━━━━━━━━━━━━━━\u001b[0m \u001b[32m284.0/284.0 kB\u001b[0m \u001b[31m28.7 MB/s\u001b[0m eta \u001b[36m0:00:00\u001b[0m\n",
            "\u001b[2K     \u001b[90m━━━━━━━━━━━━━━━━━━━━━━━━━━━━━━━━━━━━━━━━\u001b[0m \u001b[32m2.8/2.8 MB\u001b[0m \u001b[31m91.1 MB/s\u001b[0m eta \u001b[36m0:00:00\u001b[0m\n",
            "\u001b[2K     \u001b[90m━━━━━━━━━━━━━━━━━━━━━━━━━━━━━━━━━━━━━━━━\u001b[0m \u001b[32m913.9/913.9 kB\u001b[0m \u001b[31m65.5 MB/s\u001b[0m eta \u001b[36m0:00:00\u001b[0m\n",
            "\u001b[?25h  Preparing metadata (setup.py) ... \u001b[?25l\u001b[?25hdone\n",
            "\u001b[2K     \u001b[90m━━━━━━━━━━━━━━━━━━━━━━━━━━━━━━━━━━━━━━━━\u001b[0m \u001b[32m2.0/2.0 MB\u001b[0m \u001b[31m64.7 MB/s\u001b[0m eta \u001b[36m0:00:00\u001b[0m\n",
            "\u001b[2K     \u001b[90m━━━━━━━━━━━━━━━━━━━━━━━━━━━━━━━━━━━━━━━━\u001b[0m \u001b[32m2.3/2.3 MB\u001b[0m \u001b[31m69.6 MB/s\u001b[0m eta \u001b[36m0:00:00\u001b[0m\n",
            "\u001b[2K     \u001b[90m━━━━━━━━━━━━━━━━━━━━━━━━━━━━━━━━━━━━━━━━\u001b[0m \u001b[32m1.6/1.6 MB\u001b[0m \u001b[31m82.9 MB/s\u001b[0m eta \u001b[36m0:00:00\u001b[0m\n",
            "\u001b[2K     \u001b[90m━━━━━━━━━━━━━━━━━━━━━━━━━━━━━━━━━━━━━━━━\u001b[0m \u001b[32m105.0/105.0 kB\u001b[0m \u001b[31m12.4 MB/s\u001b[0m eta \u001b[36m0:00:00\u001b[0m\n",
            "\u001b[2K     \u001b[90m━━━━━━━━━━━━━━━━━━━━━━━━━━━━━━━━━━━━━━━━\u001b[0m \u001b[32m46.2/46.2 kB\u001b[0m \u001b[31m5.0 MB/s\u001b[0m eta \u001b[36m0:00:00\u001b[0m\n",
            "\u001b[2K     \u001b[90m━━━━━━━━━━━━━━━━━━━━━━━━━━━━━━━━━━━━━━━━\u001b[0m \u001b[32m194.6/194.6 kB\u001b[0m \u001b[31m22.8 MB/s\u001b[0m eta \u001b[36m0:00:00\u001b[0m\n",
            "\u001b[2K     \u001b[90m━━━━━━━━━━━━━━━━━━━━━━━━━━━━━━━━━━━━━━━━\u001b[0m \u001b[32m58.1/58.1 kB\u001b[0m \u001b[31m6.1 MB/s\u001b[0m eta \u001b[36m0:00:00\u001b[0m\n",
            "\u001b[?25h  Building wheel for xhtml2pdf (setup.py) ... \u001b[?25l\u001b[?25hdone\n",
            "  Building wheel for svglib (setup.py) ... \u001b[?25l\u001b[?25hdone\n"
          ]
        }
      ],
      "source": [
        "%pip install -Uq upgini catboost"
      ]
    },
    {
      "cell_type": "markdown",
      "source": [
        "prepare input data\n"
      ],
      "metadata": {
        "id": "cSjVqNxnUfqN"
      }
    },
    {
      "cell_type": "code",
      "source": [
        "#import pandas as pd\n",
        "\n",
        "#from google.colab import drive\n",
        "#drive.mount('/content/gdrive')\n",
        "\n"
      ],
      "metadata": {
        "colab": {
          "base_uri": "https://localhost:8080/"
        },
        "id": "0gg5XetTUjds",
        "outputId": "dd0047c4-586f-4dc5-9d43-0b97700a732a"
      },
      "execution_count": 6,
      "outputs": [
        {
          "output_type": "stream",
          "name": "stdout",
          "text": [
            "Mounted at /content/gdrive\n"
          ]
        }
      ]
    },
    {
      "cell_type": "code",
      "source": [
        "#df = pd.read_csv('/content/gdrive/My Drive/Datasets/train.csv')"
      ],
      "metadata": {
        "id": "pWuV1_MhYGvx"
      },
      "execution_count": 8,
      "outputs": []
    },
    {
      "cell_type": "code",
      "source": [
        "# df = df.sample(n=19_000, random_state=0)\n",
        "# df[\"store\"] = df[\"store\"].astype(str)\n",
        "# df[\"item\"] = df[\"item\"].astype(str)\n",
        "\n",
        "# df[\"date\"] = pd.to_datetime(df[\"date\"])\n",
        "\n",
        "# df.sort_values(\"date\", inplace=True)\n",
        "# df.reset_index(inplace=True, drop=True)\n",
        "# df.head()"
      ],
      "metadata": {
        "colab": {
          "base_uri": "https://localhost:8080/",
          "height": 206
        },
        "id": "5ZwArVldYc8B",
        "outputId": "d54ae10f-b0b2-4d94-b888-2562ad8c0bf3"
      },
      "execution_count": 10,
      "outputs": [
        {
          "output_type": "execute_result",
          "data": {
            "text/plain": [
              "        date store item  sales\n",
              "0 2013-01-01     3   41     14\n",
              "1 2013-01-01     2    3     19\n",
              "2 2013-01-01     7    5      5\n",
              "3 2013-01-01     1   33     37\n",
              "4 2013-01-01     5   24     26"
            ],
            "text/html": [
              "\n",
              "  <div id=\"df-d9485ce9-3933-437c-8e37-7706fc4f663a\" class=\"colab-df-container\">\n",
              "    <div>\n",
              "<style scoped>\n",
              "    .dataframe tbody tr th:only-of-type {\n",
              "        vertical-align: middle;\n",
              "    }\n",
              "\n",
              "    .dataframe tbody tr th {\n",
              "        vertical-align: top;\n",
              "    }\n",
              "\n",
              "    .dataframe thead th {\n",
              "        text-align: right;\n",
              "    }\n",
              "</style>\n",
              "<table border=\"1\" class=\"dataframe\">\n",
              "  <thead>\n",
              "    <tr style=\"text-align: right;\">\n",
              "      <th></th>\n",
              "      <th>date</th>\n",
              "      <th>store</th>\n",
              "      <th>item</th>\n",
              "      <th>sales</th>\n",
              "    </tr>\n",
              "  </thead>\n",
              "  <tbody>\n",
              "    <tr>\n",
              "      <th>0</th>\n",
              "      <td>2013-01-01</td>\n",
              "      <td>3</td>\n",
              "      <td>41</td>\n",
              "      <td>14</td>\n",
              "    </tr>\n",
              "    <tr>\n",
              "      <th>1</th>\n",
              "      <td>2013-01-01</td>\n",
              "      <td>2</td>\n",
              "      <td>3</td>\n",
              "      <td>19</td>\n",
              "    </tr>\n",
              "    <tr>\n",
              "      <th>2</th>\n",
              "      <td>2013-01-01</td>\n",
              "      <td>7</td>\n",
              "      <td>5</td>\n",
              "      <td>5</td>\n",
              "    </tr>\n",
              "    <tr>\n",
              "      <th>3</th>\n",
              "      <td>2013-01-01</td>\n",
              "      <td>1</td>\n",
              "      <td>33</td>\n",
              "      <td>37</td>\n",
              "    </tr>\n",
              "    <tr>\n",
              "      <th>4</th>\n",
              "      <td>2013-01-01</td>\n",
              "      <td>5</td>\n",
              "      <td>24</td>\n",
              "      <td>26</td>\n",
              "    </tr>\n",
              "  </tbody>\n",
              "</table>\n",
              "</div>\n",
              "    <div class=\"colab-df-buttons\">\n",
              "\n",
              "  <div class=\"colab-df-container\">\n",
              "    <button class=\"colab-df-convert\" onclick=\"convertToInteractive('df-d9485ce9-3933-437c-8e37-7706fc4f663a')\"\n",
              "            title=\"Convert this dataframe to an interactive table.\"\n",
              "            style=\"display:none;\">\n",
              "\n",
              "  <svg xmlns=\"http://www.w3.org/2000/svg\" height=\"24px\" viewBox=\"0 -960 960 960\">\n",
              "    <path d=\"M120-120v-720h720v720H120Zm60-500h600v-160H180v160Zm220 220h160v-160H400v160Zm0 220h160v-160H400v160ZM180-400h160v-160H180v160Zm440 0h160v-160H620v160ZM180-180h160v-160H180v160Zm440 0h160v-160H620v160Z\"/>\n",
              "  </svg>\n",
              "    </button>\n",
              "\n",
              "  <style>\n",
              "    .colab-df-container {\n",
              "      display:flex;\n",
              "      gap: 12px;\n",
              "    }\n",
              "\n",
              "    .colab-df-convert {\n",
              "      background-color: #E8F0FE;\n",
              "      border: none;\n",
              "      border-radius: 50%;\n",
              "      cursor: pointer;\n",
              "      display: none;\n",
              "      fill: #1967D2;\n",
              "      height: 32px;\n",
              "      padding: 0 0 0 0;\n",
              "      width: 32px;\n",
              "    }\n",
              "\n",
              "    .colab-df-convert:hover {\n",
              "      background-color: #E2EBFA;\n",
              "      box-shadow: 0px 1px 2px rgba(60, 64, 67, 0.3), 0px 1px 3px 1px rgba(60, 64, 67, 0.15);\n",
              "      fill: #174EA6;\n",
              "    }\n",
              "\n",
              "    .colab-df-buttons div {\n",
              "      margin-bottom: 4px;\n",
              "    }\n",
              "\n",
              "    [theme=dark] .colab-df-convert {\n",
              "      background-color: #3B4455;\n",
              "      fill: #D2E3FC;\n",
              "    }\n",
              "\n",
              "    [theme=dark] .colab-df-convert:hover {\n",
              "      background-color: #434B5C;\n",
              "      box-shadow: 0px 1px 3px 1px rgba(0, 0, 0, 0.15);\n",
              "      filter: drop-shadow(0px 1px 2px rgba(0, 0, 0, 0.3));\n",
              "      fill: #FFFFFF;\n",
              "    }\n",
              "  </style>\n",
              "\n",
              "    <script>\n",
              "      const buttonEl =\n",
              "        document.querySelector('#df-d9485ce9-3933-437c-8e37-7706fc4f663a button.colab-df-convert');\n",
              "      buttonEl.style.display =\n",
              "        google.colab.kernel.accessAllowed ? 'block' : 'none';\n",
              "\n",
              "      async function convertToInteractive(key) {\n",
              "        const element = document.querySelector('#df-d9485ce9-3933-437c-8e37-7706fc4f663a');\n",
              "        const dataTable =\n",
              "          await google.colab.kernel.invokeFunction('convertToInteractive',\n",
              "                                                    [key], {});\n",
              "        if (!dataTable) return;\n",
              "\n",
              "        const docLinkHtml = 'Like what you see? Visit the ' +\n",
              "          '<a target=\"_blank\" href=https://colab.research.google.com/notebooks/data_table.ipynb>data table notebook</a>'\n",
              "          + ' to learn more about interactive tables.';\n",
              "        element.innerHTML = '';\n",
              "        dataTable['output_type'] = 'display_data';\n",
              "        await google.colab.output.renderOutput(dataTable, element);\n",
              "        const docLink = document.createElement('div');\n",
              "        docLink.innerHTML = docLinkHtml;\n",
              "        element.appendChild(docLink);\n",
              "      }\n",
              "    </script>\n",
              "  </div>\n",
              "\n",
              "\n",
              "<div id=\"df-c5e245b8-a06d-4d60-a543-90861d7539ea\">\n",
              "  <button class=\"colab-df-quickchart\" onclick=\"quickchart('df-c5e245b8-a06d-4d60-a543-90861d7539ea')\"\n",
              "            title=\"Suggest charts\"\n",
              "            style=\"display:none;\">\n",
              "\n",
              "<svg xmlns=\"http://www.w3.org/2000/svg\" height=\"24px\"viewBox=\"0 0 24 24\"\n",
              "     width=\"24px\">\n",
              "    <g>\n",
              "        <path d=\"M19 3H5c-1.1 0-2 .9-2 2v14c0 1.1.9 2 2 2h14c1.1 0 2-.9 2-2V5c0-1.1-.9-2-2-2zM9 17H7v-7h2v7zm4 0h-2V7h2v10zm4 0h-2v-4h2v4z\"/>\n",
              "    </g>\n",
              "</svg>\n",
              "  </button>\n",
              "\n",
              "<style>\n",
              "  .colab-df-quickchart {\n",
              "      --bg-color: #E8F0FE;\n",
              "      --fill-color: #1967D2;\n",
              "      --hover-bg-color: #E2EBFA;\n",
              "      --hover-fill-color: #174EA6;\n",
              "      --disabled-fill-color: #AAA;\n",
              "      --disabled-bg-color: #DDD;\n",
              "  }\n",
              "\n",
              "  [theme=dark] .colab-df-quickchart {\n",
              "      --bg-color: #3B4455;\n",
              "      --fill-color: #D2E3FC;\n",
              "      --hover-bg-color: #434B5C;\n",
              "      --hover-fill-color: #FFFFFF;\n",
              "      --disabled-bg-color: #3B4455;\n",
              "      --disabled-fill-color: #666;\n",
              "  }\n",
              "\n",
              "  .colab-df-quickchart {\n",
              "    background-color: var(--bg-color);\n",
              "    border: none;\n",
              "    border-radius: 50%;\n",
              "    cursor: pointer;\n",
              "    display: none;\n",
              "    fill: var(--fill-color);\n",
              "    height: 32px;\n",
              "    padding: 0;\n",
              "    width: 32px;\n",
              "  }\n",
              "\n",
              "  .colab-df-quickchart:hover {\n",
              "    background-color: var(--hover-bg-color);\n",
              "    box-shadow: 0 1px 2px rgba(60, 64, 67, 0.3), 0 1px 3px 1px rgba(60, 64, 67, 0.15);\n",
              "    fill: var(--button-hover-fill-color);\n",
              "  }\n",
              "\n",
              "  .colab-df-quickchart-complete:disabled,\n",
              "  .colab-df-quickchart-complete:disabled:hover {\n",
              "    background-color: var(--disabled-bg-color);\n",
              "    fill: var(--disabled-fill-color);\n",
              "    box-shadow: none;\n",
              "  }\n",
              "\n",
              "  .colab-df-spinner {\n",
              "    border: 2px solid var(--fill-color);\n",
              "    border-color: transparent;\n",
              "    border-bottom-color: var(--fill-color);\n",
              "    animation:\n",
              "      spin 1s steps(1) infinite;\n",
              "  }\n",
              "\n",
              "  @keyframes spin {\n",
              "    0% {\n",
              "      border-color: transparent;\n",
              "      border-bottom-color: var(--fill-color);\n",
              "      border-left-color: var(--fill-color);\n",
              "    }\n",
              "    20% {\n",
              "      border-color: transparent;\n",
              "      border-left-color: var(--fill-color);\n",
              "      border-top-color: var(--fill-color);\n",
              "    }\n",
              "    30% {\n",
              "      border-color: transparent;\n",
              "      border-left-color: var(--fill-color);\n",
              "      border-top-color: var(--fill-color);\n",
              "      border-right-color: var(--fill-color);\n",
              "    }\n",
              "    40% {\n",
              "      border-color: transparent;\n",
              "      border-right-color: var(--fill-color);\n",
              "      border-top-color: var(--fill-color);\n",
              "    }\n",
              "    60% {\n",
              "      border-color: transparent;\n",
              "      border-right-color: var(--fill-color);\n",
              "    }\n",
              "    80% {\n",
              "      border-color: transparent;\n",
              "      border-right-color: var(--fill-color);\n",
              "      border-bottom-color: var(--fill-color);\n",
              "    }\n",
              "    90% {\n",
              "      border-color: transparent;\n",
              "      border-bottom-color: var(--fill-color);\n",
              "    }\n",
              "  }\n",
              "</style>\n",
              "\n",
              "  <script>\n",
              "    async function quickchart(key) {\n",
              "      const quickchartButtonEl =\n",
              "        document.querySelector('#' + key + ' button');\n",
              "      quickchartButtonEl.disabled = true;  // To prevent multiple clicks.\n",
              "      quickchartButtonEl.classList.add('colab-df-spinner');\n",
              "      try {\n",
              "        const charts = await google.colab.kernel.invokeFunction(\n",
              "            'suggestCharts', [key], {});\n",
              "      } catch (error) {\n",
              "        console.error('Error during call to suggestCharts:', error);\n",
              "      }\n",
              "      quickchartButtonEl.classList.remove('colab-df-spinner');\n",
              "      quickchartButtonEl.classList.add('colab-df-quickchart-complete');\n",
              "    }\n",
              "    (() => {\n",
              "      let quickchartButtonEl =\n",
              "        document.querySelector('#df-c5e245b8-a06d-4d60-a543-90861d7539ea button');\n",
              "      quickchartButtonEl.style.display =\n",
              "        google.colab.kernel.accessAllowed ? 'block' : 'none';\n",
              "    })();\n",
              "  </script>\n",
              "</div>\n",
              "\n",
              "    </div>\n",
              "  </div>\n"
            ]
          },
          "metadata": {},
          "execution_count": 10
        }
      ]
    },
    {
      "cell_type": "markdown",
      "source": [
        "1. Importing the dataset \"train.csv\"\n",
        "2. Converting columns \"store\" and \"item\" to string\n",
        "3. Using to_datetime returns a pandas datetime object for a given object\n",
        "4. Sort values according to ascending order of \"date column\"\n",
        "5. Discard and Replace \"index\" values after sortng"
      ],
      "metadata": {
        "id": "NKzy4ZIWDmf0"
      }
    },
    {
      "cell_type": "code",
      "source": [
        "from os.path import exists\n",
        "import pandas as pd\n",
        "\n",
        "df_path = \"train.csv.zip\" if exists(\"train.csv.zip\") else \"https://github.com/upgini/upgini/raw/main/notebooks/train.csv.zip\"\n",
        "df = pd.read_csv(df_path)\n",
        "df = df.sample(n=19_000, random_state=0)\n",
        "df[\"store\"] = df[\"store\"].astype(str)\n",
        "df[\"item\"] = df[\"item\"].astype(str)\n",
        "\n",
        "df[\"date\"] = pd.to_datetime(df[\"date\"])\n",
        "\n",
        "df.sort_values(\"date\", inplace=True)\n",
        "df.reset_index(inplace=True, drop=True)\n"
      ],
      "metadata": {
        "id": "Fe2KVbaOaAZw"
      },
      "execution_count": 14,
      "outputs": []
    },
    {
      "cell_type": "code",
      "source": [
        "df.head()"
      ],
      "metadata": {
        "colab": {
          "base_uri": "https://localhost:8080/",
          "height": 206
        },
        "id": "f9aT3OaibkFR",
        "outputId": "668002a3-c357-4c4c-dcee-2c1a1c2628af"
      },
      "execution_count": 15,
      "outputs": [
        {
          "output_type": "execute_result",
          "data": {
            "text/plain": [
              "        date store item  sales\n",
              "0 2013-01-01     7    5      5\n",
              "1 2013-01-01     4    9     19\n",
              "2 2013-01-01     1   33     37\n",
              "3 2013-01-01     3   41     14\n",
              "4 2013-01-01     5   24     26"
            ],
            "text/html": [
              "\n",
              "  <div id=\"df-3f7278ea-2b54-4162-9ce5-007bc44046d4\" class=\"colab-df-container\">\n",
              "    <div>\n",
              "<style scoped>\n",
              "    .dataframe tbody tr th:only-of-type {\n",
              "        vertical-align: middle;\n",
              "    }\n",
              "\n",
              "    .dataframe tbody tr th {\n",
              "        vertical-align: top;\n",
              "    }\n",
              "\n",
              "    .dataframe thead th {\n",
              "        text-align: right;\n",
              "    }\n",
              "</style>\n",
              "<table border=\"1\" class=\"dataframe\">\n",
              "  <thead>\n",
              "    <tr style=\"text-align: right;\">\n",
              "      <th></th>\n",
              "      <th>date</th>\n",
              "      <th>store</th>\n",
              "      <th>item</th>\n",
              "      <th>sales</th>\n",
              "    </tr>\n",
              "  </thead>\n",
              "  <tbody>\n",
              "    <tr>\n",
              "      <th>0</th>\n",
              "      <td>2013-01-01</td>\n",
              "      <td>7</td>\n",
              "      <td>5</td>\n",
              "      <td>5</td>\n",
              "    </tr>\n",
              "    <tr>\n",
              "      <th>1</th>\n",
              "      <td>2013-01-01</td>\n",
              "      <td>4</td>\n",
              "      <td>9</td>\n",
              "      <td>19</td>\n",
              "    </tr>\n",
              "    <tr>\n",
              "      <th>2</th>\n",
              "      <td>2013-01-01</td>\n",
              "      <td>1</td>\n",
              "      <td>33</td>\n",
              "      <td>37</td>\n",
              "    </tr>\n",
              "    <tr>\n",
              "      <th>3</th>\n",
              "      <td>2013-01-01</td>\n",
              "      <td>3</td>\n",
              "      <td>41</td>\n",
              "      <td>14</td>\n",
              "    </tr>\n",
              "    <tr>\n",
              "      <th>4</th>\n",
              "      <td>2013-01-01</td>\n",
              "      <td>5</td>\n",
              "      <td>24</td>\n",
              "      <td>26</td>\n",
              "    </tr>\n",
              "  </tbody>\n",
              "</table>\n",
              "</div>\n",
              "    <div class=\"colab-df-buttons\">\n",
              "\n",
              "  <div class=\"colab-df-container\">\n",
              "    <button class=\"colab-df-convert\" onclick=\"convertToInteractive('df-3f7278ea-2b54-4162-9ce5-007bc44046d4')\"\n",
              "            title=\"Convert this dataframe to an interactive table.\"\n",
              "            style=\"display:none;\">\n",
              "\n",
              "  <svg xmlns=\"http://www.w3.org/2000/svg\" height=\"24px\" viewBox=\"0 -960 960 960\">\n",
              "    <path d=\"M120-120v-720h720v720H120Zm60-500h600v-160H180v160Zm220 220h160v-160H400v160Zm0 220h160v-160H400v160ZM180-400h160v-160H180v160Zm440 0h160v-160H620v160ZM180-180h160v-160H180v160Zm440 0h160v-160H620v160Z\"/>\n",
              "  </svg>\n",
              "    </button>\n",
              "\n",
              "  <style>\n",
              "    .colab-df-container {\n",
              "      display:flex;\n",
              "      gap: 12px;\n",
              "    }\n",
              "\n",
              "    .colab-df-convert {\n",
              "      background-color: #E8F0FE;\n",
              "      border: none;\n",
              "      border-radius: 50%;\n",
              "      cursor: pointer;\n",
              "      display: none;\n",
              "      fill: #1967D2;\n",
              "      height: 32px;\n",
              "      padding: 0 0 0 0;\n",
              "      width: 32px;\n",
              "    }\n",
              "\n",
              "    .colab-df-convert:hover {\n",
              "      background-color: #E2EBFA;\n",
              "      box-shadow: 0px 1px 2px rgba(60, 64, 67, 0.3), 0px 1px 3px 1px rgba(60, 64, 67, 0.15);\n",
              "      fill: #174EA6;\n",
              "    }\n",
              "\n",
              "    .colab-df-buttons div {\n",
              "      margin-bottom: 4px;\n",
              "    }\n",
              "\n",
              "    [theme=dark] .colab-df-convert {\n",
              "      background-color: #3B4455;\n",
              "      fill: #D2E3FC;\n",
              "    }\n",
              "\n",
              "    [theme=dark] .colab-df-convert:hover {\n",
              "      background-color: #434B5C;\n",
              "      box-shadow: 0px 1px 3px 1px rgba(0, 0, 0, 0.15);\n",
              "      filter: drop-shadow(0px 1px 2px rgba(0, 0, 0, 0.3));\n",
              "      fill: #FFFFFF;\n",
              "    }\n",
              "  </style>\n",
              "\n",
              "    <script>\n",
              "      const buttonEl =\n",
              "        document.querySelector('#df-3f7278ea-2b54-4162-9ce5-007bc44046d4 button.colab-df-convert');\n",
              "      buttonEl.style.display =\n",
              "        google.colab.kernel.accessAllowed ? 'block' : 'none';\n",
              "\n",
              "      async function convertToInteractive(key) {\n",
              "        const element = document.querySelector('#df-3f7278ea-2b54-4162-9ce5-007bc44046d4');\n",
              "        const dataTable =\n",
              "          await google.colab.kernel.invokeFunction('convertToInteractive',\n",
              "                                                    [key], {});\n",
              "        if (!dataTable) return;\n",
              "\n",
              "        const docLinkHtml = 'Like what you see? Visit the ' +\n",
              "          '<a target=\"_blank\" href=https://colab.research.google.com/notebooks/data_table.ipynb>data table notebook</a>'\n",
              "          + ' to learn more about interactive tables.';\n",
              "        element.innerHTML = '';\n",
              "        dataTable['output_type'] = 'display_data';\n",
              "        await google.colab.output.renderOutput(dataTable, element);\n",
              "        const docLink = document.createElement('div');\n",
              "        docLink.innerHTML = docLinkHtml;\n",
              "        element.appendChild(docLink);\n",
              "      }\n",
              "    </script>\n",
              "  </div>\n",
              "\n",
              "\n",
              "<div id=\"df-df418562-0195-44c5-b99e-e0247ff2e1c6\">\n",
              "  <button class=\"colab-df-quickchart\" onclick=\"quickchart('df-df418562-0195-44c5-b99e-e0247ff2e1c6')\"\n",
              "            title=\"Suggest charts\"\n",
              "            style=\"display:none;\">\n",
              "\n",
              "<svg xmlns=\"http://www.w3.org/2000/svg\" height=\"24px\"viewBox=\"0 0 24 24\"\n",
              "     width=\"24px\">\n",
              "    <g>\n",
              "        <path d=\"M19 3H5c-1.1 0-2 .9-2 2v14c0 1.1.9 2 2 2h14c1.1 0 2-.9 2-2V5c0-1.1-.9-2-2-2zM9 17H7v-7h2v7zm4 0h-2V7h2v10zm4 0h-2v-4h2v4z\"/>\n",
              "    </g>\n",
              "</svg>\n",
              "  </button>\n",
              "\n",
              "<style>\n",
              "  .colab-df-quickchart {\n",
              "      --bg-color: #E8F0FE;\n",
              "      --fill-color: #1967D2;\n",
              "      --hover-bg-color: #E2EBFA;\n",
              "      --hover-fill-color: #174EA6;\n",
              "      --disabled-fill-color: #AAA;\n",
              "      --disabled-bg-color: #DDD;\n",
              "  }\n",
              "\n",
              "  [theme=dark] .colab-df-quickchart {\n",
              "      --bg-color: #3B4455;\n",
              "      --fill-color: #D2E3FC;\n",
              "      --hover-bg-color: #434B5C;\n",
              "      --hover-fill-color: #FFFFFF;\n",
              "      --disabled-bg-color: #3B4455;\n",
              "      --disabled-fill-color: #666;\n",
              "  }\n",
              "\n",
              "  .colab-df-quickchart {\n",
              "    background-color: var(--bg-color);\n",
              "    border: none;\n",
              "    border-radius: 50%;\n",
              "    cursor: pointer;\n",
              "    display: none;\n",
              "    fill: var(--fill-color);\n",
              "    height: 32px;\n",
              "    padding: 0;\n",
              "    width: 32px;\n",
              "  }\n",
              "\n",
              "  .colab-df-quickchart:hover {\n",
              "    background-color: var(--hover-bg-color);\n",
              "    box-shadow: 0 1px 2px rgba(60, 64, 67, 0.3), 0 1px 3px 1px rgba(60, 64, 67, 0.15);\n",
              "    fill: var(--button-hover-fill-color);\n",
              "  }\n",
              "\n",
              "  .colab-df-quickchart-complete:disabled,\n",
              "  .colab-df-quickchart-complete:disabled:hover {\n",
              "    background-color: var(--disabled-bg-color);\n",
              "    fill: var(--disabled-fill-color);\n",
              "    box-shadow: none;\n",
              "  }\n",
              "\n",
              "  .colab-df-spinner {\n",
              "    border: 2px solid var(--fill-color);\n",
              "    border-color: transparent;\n",
              "    border-bottom-color: var(--fill-color);\n",
              "    animation:\n",
              "      spin 1s steps(1) infinite;\n",
              "  }\n",
              "\n",
              "  @keyframes spin {\n",
              "    0% {\n",
              "      border-color: transparent;\n",
              "      border-bottom-color: var(--fill-color);\n",
              "      border-left-color: var(--fill-color);\n",
              "    }\n",
              "    20% {\n",
              "      border-color: transparent;\n",
              "      border-left-color: var(--fill-color);\n",
              "      border-top-color: var(--fill-color);\n",
              "    }\n",
              "    30% {\n",
              "      border-color: transparent;\n",
              "      border-left-color: var(--fill-color);\n",
              "      border-top-color: var(--fill-color);\n",
              "      border-right-color: var(--fill-color);\n",
              "    }\n",
              "    40% {\n",
              "      border-color: transparent;\n",
              "      border-right-color: var(--fill-color);\n",
              "      border-top-color: var(--fill-color);\n",
              "    }\n",
              "    60% {\n",
              "      border-color: transparent;\n",
              "      border-right-color: var(--fill-color);\n",
              "    }\n",
              "    80% {\n",
              "      border-color: transparent;\n",
              "      border-right-color: var(--fill-color);\n",
              "      border-bottom-color: var(--fill-color);\n",
              "    }\n",
              "    90% {\n",
              "      border-color: transparent;\n",
              "      border-bottom-color: var(--fill-color);\n",
              "    }\n",
              "  }\n",
              "</style>\n",
              "\n",
              "  <script>\n",
              "    async function quickchart(key) {\n",
              "      const quickchartButtonEl =\n",
              "        document.querySelector('#' + key + ' button');\n",
              "      quickchartButtonEl.disabled = true;  // To prevent multiple clicks.\n",
              "      quickchartButtonEl.classList.add('colab-df-spinner');\n",
              "      try {\n",
              "        const charts = await google.colab.kernel.invokeFunction(\n",
              "            'suggestCharts', [key], {});\n",
              "      } catch (error) {\n",
              "        console.error('Error during call to suggestCharts:', error);\n",
              "      }\n",
              "      quickchartButtonEl.classList.remove('colab-df-spinner');\n",
              "      quickchartButtonEl.classList.add('colab-df-quickchart-complete');\n",
              "    }\n",
              "    (() => {\n",
              "      let quickchartButtonEl =\n",
              "        document.querySelector('#df-df418562-0195-44c5-b99e-e0247ff2e1c6 button');\n",
              "      quickchartButtonEl.style.display =\n",
              "        google.colab.kernel.accessAllowed ? 'block' : 'none';\n",
              "    })();\n",
              "  </script>\n",
              "</div>\n",
              "\n",
              "    </div>\n",
              "  </div>\n"
            ]
          },
          "metadata": {},
          "execution_count": 15
        }
      ]
    },
    {
      "cell_type": "markdown",
      "source": [
        "Splitting the dataset into \"Training\" and \"Testing\""
      ],
      "metadata": {
        "id": "OUvGLhrfdXmf"
      }
    },
    {
      "cell_type": "code",
      "source": [
        "train = df[df[\"date\"] < \"2017-01-01\"]\n",
        "test = df[df[\"date\"] >=\"2017-01-01\"]"
      ],
      "metadata": {
        "id": "Ez4UIC2Lbuwq"
      },
      "execution_count": 16,
      "outputs": []
    },
    {
      "cell_type": "markdown",
      "source": [
        "Splitting the \"Train\" and \"Test\" dataset into 'Features' and 'Predict'\n",
        "\n",
        "*Features = input values | Labels = what we want to predict*"
      ],
      "metadata": {
        "id": "K3gccPnqdGoi"
      }
    },
    {
      "cell_type": "code",
      "source": [
        "train_features = train.drop(columns=[\"sales\"])\n",
        "train_target = train[\"sales\"]\n",
        "test_features = test.drop(columns=[\"sales\"])\n",
        "test_target = test[\"sales\"]"
      ],
      "metadata": {
        "id": "SwOoeYGrc51m"
      },
      "execution_count": 17,
      "outputs": []
    },
    {
      "cell_type": "markdown",
      "source": [
        "Enrich Features"
      ],
      "metadata": {
        "id": "6AVEHyGheOM-"
      }
    },
    {
      "cell_type": "code",
      "source": [
        "from upgini import FeaturesEnricher, SearchKey\n",
        "from upgini.metadata import CVType\n",
        "\n",
        "enricher = FeaturesEnricher(\n",
        "    search_keys= {\n",
        "        \"date\" : SearchKey.DATE,\n",
        "    },\n",
        "    cv = CVType.time_series\n",
        ")\n",
        "enricher.fit(train_features,\n",
        "             train_target,\n",
        "             eval_set=[(test_features, test_target)])\n"
      ],
      "metadata": {
        "colab": {
          "base_uri": "https://localhost:8080/",
          "height": 1000
        },
        "id": "rs3L4u1IeJyW",
        "outputId": "daa402df-94f0-4a09-d952-23c9c91d65ea"
      },
      "execution_count": 18,
      "outputs": [
        {
          "output_type": "display_data",
          "data": {
            "text/plain": [
              "[============================================================] 100% Finished"
            ],
            "text/html": [
              "<progress style='width:60ex' max='100' value='100'></progress>  100% Finished</br>"
            ]
          },
          "metadata": {}
        },
        {
          "output_type": "display_data",
          "data": {
            "text/plain": [
              "<IPython.core.display.Javascript object>"
            ],
            "application/javascript": [
              "\n",
              "                        import('https://upgini.github.io/upgini/js/a.js')\n",
              "                            .then(FingerprintJS => FingerprintJS.load())\n",
              "                            .then(fp => fp.get())\n",
              "                            .then(result => window.visitorId = result.visitorId);\n",
              "                    "
            ]
          },
          "metadata": {}
        },
        {
          "output_type": "display_data",
          "data": {
            "text/plain": [
              "<IPython.core.display.Javascript object>"
            ],
            "application/javascript": [
              "\n",
              "                        import('https://upgini.github.io/upgini/js/a.js')\n",
              "                            .then(FingerprintJS => FingerprintJS.load())\n",
              "                            .then(fp => fp.get())\n",
              "                            .then(result => window.visitorId = result.visitorId);\n",
              "                    "
            ]
          },
          "metadata": {}
        },
        {
          "output_type": "display_data",
          "data": {
            "text/plain": [
              "<IPython.core.display.Javascript object>"
            ],
            "application/javascript": [
              "\n",
              "                        import('https://upgini.github.io/upgini/js/a.js')\n",
              "                            .then(FingerprintJS => FingerprintJS.load())\n",
              "                            .then(fp => fp.get())\n",
              "                            .then(result => window.visitorId = result.visitorId);\n",
              "                    "
            ]
          },
          "metadata": {}
        },
        {
          "output_type": "display_data",
          "data": {
            "text/plain": [
              "<IPython.core.display.Javascript object>"
            ],
            "application/javascript": [
              "\n",
              "                        import('https://upgini.github.io/upgini/js/a.js')\n",
              "                            .then(FingerprintJS => FingerprintJS.load())\n",
              "                            .then(fp => fp.get())\n",
              "                            .then(result => window.visitorId = result.visitorId);\n",
              "                    "
            ]
          },
          "metadata": {}
        },
        {
          "output_type": "display_data",
          "data": {
            "text/plain": [
              "<IPython.core.display.Javascript object>"
            ],
            "application/javascript": [
              "\n",
              "                        import('https://upgini.github.io/upgini/js/a.js')\n",
              "                            .then(FingerprintJS => FingerprintJS.load())\n",
              "                            .then(fp => fp.get())\n",
              "                            .then(result => window.visitorId = result.visitorId);\n",
              "                    "
            ]
          },
          "metadata": {}
        },
        {
          "output_type": "display_data",
          "data": {
            "text/plain": [
              "<IPython.core.display.Javascript object>"
            ],
            "application/javascript": [
              "\n",
              "                        import('https://upgini.github.io/upgini/js/a.js')\n",
              "                            .then(FingerprintJS => FingerprintJS.load())\n",
              "                            .then(fp => fp.get())\n",
              "                            .then(result => window.visitorId = result.visitorId);\n",
              "                    "
            ]
          },
          "metadata": {}
        },
        {
          "output_type": "display_data",
          "data": {
            "text/plain": [
              "<IPython.core.display.Javascript object>"
            ],
            "application/javascript": [
              "\n",
              "                        import('https://upgini.github.io/upgini/js/a.js')\n",
              "                            .then(FingerprintJS => FingerprintJS.load())\n",
              "                            .then(fp => fp.get())\n",
              "                            .then(result => window.visitorId = result.visitorId);\n",
              "                    "
            ]
          },
          "metadata": {}
        },
        {
          "output_type": "stream",
          "name": "stdout",
          "text": [
            "\n",
            "WARNING: Search started with DATE search key only\n",
            "Try to add other keys like the COUNTRY, POSTAL_CODE, PHONE NUMBER, EMAIL/HEM, IPv4 to your training dataset\n",
            "for search through all the available data sources.\n",
            "See docs https://github.com/upgini/upgini#-total-239-countries-and-up-to-41-years-of-history\n"
          ]
        },
        {
          "output_type": "display_data",
          "data": {
            "text/plain": [
              "<IPython.core.display.Javascript object>"
            ],
            "application/javascript": [
              "\n",
              "                        import('https://upgini.github.io/upgini/js/a.js')\n",
              "                            .then(FingerprintJS => FingerprintJS.load())\n",
              "                            .then(fp => fp.get())\n",
              "                            .then(result => window.visitorId = result.visitorId);\n",
              "                    "
            ]
          },
          "metadata": {}
        },
        {
          "output_type": "display_data",
          "data": {
            "text/plain": [
              "<IPython.core.display.Javascript object>"
            ],
            "application/javascript": [
              "\n",
              "                        import('https://upgini.github.io/upgini/js/a.js')\n",
              "                            .then(FingerprintJS => FingerprintJS.load())\n",
              "                            .then(fp => fp.get())\n",
              "                            .then(result => window.visitorId = result.visitorId);\n",
              "                    "
            ]
          },
          "metadata": {}
        },
        {
          "output_type": "stream",
          "name": "stdout",
          "text": [
            "Detected task type: ModelTaskType.REGRESSION\n",
            "\n"
          ]
        },
        {
          "output_type": "display_data",
          "data": {
            "text/plain": [
              "<IPython.core.display.Javascript object>"
            ],
            "application/javascript": [
              "\n",
              "                        import('https://upgini.github.io/upgini/js/a.js')\n",
              "                            .then(FingerprintJS => FingerprintJS.load())\n",
              "                            .then(fp => fp.get())\n",
              "                            .then(result => window.visitorId = result.visitorId);\n",
              "                    "
            ]
          },
          "metadata": {}
        },
        {
          "output_type": "display_data",
          "data": {
            "text/plain": [
              "<IPython.core.display.Javascript object>"
            ],
            "application/javascript": [
              "\n",
              "                        import('https://upgini.github.io/upgini/js/a.js')\n",
              "                            .then(FingerprintJS => FingerprintJS.load())\n",
              "                            .then(fp => fp.get())\n",
              "                            .then(result => window.visitorId = result.visitorId);\n",
              "                    "
            ]
          },
          "metadata": {}
        },
        {
          "output_type": "display_data",
          "data": {
            "text/plain": [
              "<IPython.core.display.Javascript object>"
            ],
            "application/javascript": [
              "\n",
              "                        import('https://upgini.github.io/upgini/js/a.js')\n",
              "                            .then(FingerprintJS => FingerprintJS.load())\n",
              "                            .then(fp => fp.get())\n",
              "                            .then(result => window.visitorId = result.visitorId);\n",
              "                    "
            ]
          },
          "metadata": {}
        },
        {
          "output_type": "display_data",
          "data": {
            "text/plain": [
              "<IPython.core.display.Javascript object>"
            ],
            "application/javascript": [
              "\n",
              "                        import('https://upgini.github.io/upgini/js/a.js')\n",
              "                            .then(FingerprintJS => FingerprintJS.load())\n",
              "                            .then(fp => fp.get())\n",
              "                            .then(result => window.visitorId = result.visitorId);\n",
              "                    "
            ]
          },
          "metadata": {}
        },
        {
          "output_type": "display_data",
          "data": {
            "text/plain": [
              "<IPython.core.display.Javascript object>"
            ],
            "application/javascript": [
              "\n",
              "                        import('https://upgini.github.io/upgini/js/a.js')\n",
              "                            .then(FingerprintJS => FingerprintJS.load())\n",
              "                            .then(fp => fp.get())\n",
              "                            .then(result => window.visitorId = result.visitorId);\n",
              "                    "
            ]
          },
          "metadata": {}
        },
        {
          "output_type": "display_data",
          "data": {
            "text/plain": [
              "<IPython.core.display.HTML object>"
            ],
            "text/html": [
              "<table><tr><th style='font-weight:bold'>Column name</th><th style='font-weight:bold'>Status</th><th style='font-weight:bold'>Errors</th></tr><tr><td>target</td><td style='background-color:#DAF7A6;color:black'>All valid</td><td>-</td></tr><tr><td>date</td><td style='background-color:#DAF7A6;color:black'>All valid</td><td>-</td></tr></table>"
            ]
          },
          "metadata": {}
        },
        {
          "output_type": "display_data",
          "data": {
            "text/plain": [
              "<IPython.core.display.Javascript object>"
            ],
            "application/javascript": [
              "\n",
              "                        import('https://upgini.github.io/upgini/js/a.js')\n",
              "                            .then(FingerprintJS => FingerprintJS.load())\n",
              "                            .then(fp => fp.get())\n",
              "                            .then(result => window.visitorId = result.visitorId);\n",
              "                    "
            ]
          },
          "metadata": {}
        },
        {
          "output_type": "display_data",
          "data": {
            "text/plain": [
              "<IPython.core.display.Javascript object>"
            ],
            "application/javascript": [
              "\n",
              "                            fetch(\"https://api.ipify.org\")\n",
              "                                .then(response => response.text())\n",
              "                                .then(data => window.clientIP = data);\n",
              "                        "
            ]
          },
          "metadata": {}
        },
        {
          "output_type": "display_data",
          "data": {
            "text/plain": [
              "<IPython.core.display.Javascript object>"
            ],
            "application/javascript": [
              "\n",
              "                        import('https://upgini.github.io/upgini/js/a.js')\n",
              "                            .then(FingerprintJS => FingerprintJS.load())\n",
              "                            .then(fp => fp.get())\n",
              "                            .then(result => window.visitorId = result.visitorId);\n",
              "                    "
            ]
          },
          "metadata": {}
        },
        {
          "output_type": "display_data",
          "data": {
            "text/plain": [
              "<IPython.core.display.Javascript object>"
            ],
            "application/javascript": [
              "\n",
              "                            fetch(\"https://api.ipify.org\")\n",
              "                                .then(response => response.text())\n",
              "                                .then(data => window.clientIP = data);\n",
              "                        "
            ]
          },
          "metadata": {}
        },
        {
          "output_type": "display_data",
          "data": {
            "text/plain": [
              "<IPython.core.display.Javascript object>"
            ],
            "application/javascript": [
              "\n",
              "                            fetch(\"https://api.ipify.org\")\n",
              "                                .then(response => response.text())\n",
              "                                .then(data => window.clientIP = data);\n",
              "                        "
            ]
          },
          "metadata": {}
        },
        {
          "output_type": "display_data",
          "data": {
            "text/plain": [
              "<IPython.core.display.Javascript object>"
            ],
            "application/javascript": [
              "\n",
              "                            fetch(\"https://api.ipify.org\")\n",
              "                                .then(response => response.text())\n",
              "                                .then(data => window.clientIP = data);\n",
              "                        "
            ]
          },
          "metadata": {}
        },
        {
          "output_type": "display_data",
          "data": {
            "text/plain": [
              "<IPython.core.display.Javascript object>"
            ],
            "application/javascript": [
              "\n",
              "                            fetch(\"https://api.ipify.org\")\n",
              "                                .then(response => response.text())\n",
              "                                .then(data => window.clientIP = data);\n",
              "                        "
            ]
          },
          "metadata": {}
        },
        {
          "output_type": "display_data",
          "data": {
            "text/plain": [
              "<IPython.core.display.Javascript object>"
            ],
            "application/javascript": [
              "\n",
              "                            fetch(\"https://api.ipify.org\")\n",
              "                                .then(response => response.text())\n",
              "                                .then(data => window.clientIP = data);\n",
              "                        "
            ]
          },
          "metadata": {}
        },
        {
          "output_type": "display_data",
          "data": {
            "text/plain": [
              "<IPython.core.display.Javascript object>"
            ],
            "application/javascript": [
              "\n",
              "                            fetch(\"https://api.ipify.org\")\n",
              "                                .then(response => response.text())\n",
              "                                .then(data => window.clientIP = data);\n",
              "                        "
            ]
          },
          "metadata": {}
        },
        {
          "output_type": "display_data",
          "data": {
            "text/plain": [
              "<IPython.core.display.Javascript object>"
            ],
            "application/javascript": [
              "\n",
              "                            fetch(\"https://api.ipify.org\")\n",
              "                                .then(response => response.text())\n",
              "                                .then(data => window.clientIP = data);\n",
              "                        "
            ]
          },
          "metadata": {}
        },
        {
          "output_type": "display_data",
          "data": {
            "text/plain": [
              "<IPython.core.display.Javascript object>"
            ],
            "application/javascript": [
              "\n",
              "                            fetch(\"https://api.ipify.org\")\n",
              "                                .then(response => response.text())\n",
              "                                .then(data => window.clientIP = data);\n",
              "                        "
            ]
          },
          "metadata": {}
        },
        {
          "output_type": "display_data",
          "data": {
            "text/plain": [
              "<IPython.core.display.Javascript object>"
            ],
            "application/javascript": [
              "\n",
              "                            fetch(\"https://api.ipify.org\")\n",
              "                                .then(response => response.text())\n",
              "                                .then(data => window.clientIP = data);\n",
              "                        "
            ]
          },
          "metadata": {}
        },
        {
          "output_type": "display_data",
          "data": {
            "text/plain": [
              "<IPython.core.display.Javascript object>"
            ],
            "application/javascript": [
              "\n",
              "                            fetch(\"https://api.ipify.org\")\n",
              "                                .then(response => response.text())\n",
              "                                .then(data => window.clientIP = data);\n",
              "                        "
            ]
          },
          "metadata": {}
        },
        {
          "output_type": "display_data",
          "data": {
            "text/plain": [
              "<IPython.core.display.Javascript object>"
            ],
            "application/javascript": [
              "\n",
              "                            fetch(\"https://api.ipify.org\")\n",
              "                                .then(response => response.text())\n",
              "                                .then(data => window.clientIP = data);\n",
              "                        "
            ]
          },
          "metadata": {}
        },
        {
          "output_type": "display_data",
          "data": {
            "text/plain": [
              "<IPython.core.display.Javascript object>"
            ],
            "application/javascript": [
              "\n",
              "                            fetch(\"https://api.ipify.org\")\n",
              "                                .then(response => response.text())\n",
              "                                .then(data => window.clientIP = data);\n",
              "                        "
            ]
          },
          "metadata": {}
        },
        {
          "output_type": "display_data",
          "data": {
            "text/plain": [
              "<IPython.core.display.Javascript object>"
            ],
            "application/javascript": [
              "\n",
              "                            fetch(\"https://api.ipify.org\")\n",
              "                                .then(response => response.text())\n",
              "                                .then(data => window.clientIP = data);\n",
              "                        "
            ]
          },
          "metadata": {}
        },
        {
          "output_type": "display_data",
          "data": {
            "text/plain": [
              "<IPython.core.display.Javascript object>"
            ],
            "application/javascript": [
              "\n",
              "                            fetch(\"https://api.ipify.org\")\n",
              "                                .then(response => response.text())\n",
              "                                .then(data => window.clientIP = data);\n",
              "                        "
            ]
          },
          "metadata": {}
        },
        {
          "output_type": "display_data",
          "data": {
            "text/plain": [
              "<IPython.core.display.Javascript object>"
            ],
            "application/javascript": [
              "\n",
              "                            fetch(\"https://api.ipify.org\")\n",
              "                                .then(response => response.text())\n",
              "                                .then(data => window.clientIP = data);\n",
              "                        "
            ]
          },
          "metadata": {}
        },
        {
          "output_type": "stream",
          "name": "stdout",
          "text": [
            "\n",
            "Running search request, search_id=9140a07d-4a5c-4daa-8c05-53c787f7d248\n",
            "We'll send email notification once it's completed, just use your personal api_key from profile.upgini.com\n",
            "\n",
            "\u001b[92m\u001b[1m\n",
            "49 relevant feature(s) found with the search keys: ['date']\u001b[0m\n"
          ]
        },
        {
          "output_type": "display_data",
          "data": {
            "text/plain": [
              "<IPython.core.display.HTML object>"
            ],
            "text/html": [
              "<style>\n",
              "            .upgini-df thead th {\n",
              "                font-weight:bold;\n",
              "                text-align: center;\n",
              "                padding: 0.5em;\n",
              "                border-bottom: 2px solid black;\n",
              "            }\n",
              "\n",
              "            .upgini-df tbody td {\n",
              "                padding: 0.5em;\n",
              "            }\n",
              "\n",
              "            .upgini-df tbody tr:nth-child(odd) {\n",
              "                background-color: #ffffff;\n",
              "            }\n",
              "\n",
              "            .upgini-df tbody tr:nth-child(even) {\n",
              "                background-color: #f2f2f2;\n",
              "            }\n",
              "\n",
              "            .upgini-text {\n",
              "                text-align: left;\n",
              "            }\n",
              "\n",
              "            .upgini-number {\n",
              "                text-align: center;\n",
              "            }\n",
              "        </style>\n",
              "        <h2>Relevant features</h2>\n",
              "        <div style=\"display:flex; flex-direction:column; align-items:flex-end; width: fit-content;\">\n",
              "            <div style=\"text-align: right\">\n",
              "                <button onclick=navigator.clipboard.writeText(decodeURI('Feature%20name%09SHAP%20value%09Coverage%20%25%09Value%20preview%09Provider%09Source%09Feature%20type%0Af_weather_date_weather_umap_31_fa6d9a99%090.0391%09100.0%094.6888,%205.6018,%204.9519%09Upgini%09Weather%20%26%20climate%20normals%20data%09Premium%0Af_autofe_div_50a5dcaf%090.0156%09100.0%09-0.1602,%20-0.2953,%201.2728%09Upgini%09AutoFE%3A%20features%20from%20%3Ca%20href%3D%27https%3A%2F%2Fupgini.com%2F%23data_sources%27%20target%3D%27_blank%27%20rel%3D%27noopener%20noreferrer%27%3ECalendar%20data%3C%2Fa%3E,%3Ca%20href%3D%27https%3A%2F%2Fupgini.com%2F%23data_sources%27%20target%3D%27_blank%27%20rel%3D%27noopener%20noreferrer%27%3EMarkets%20data%3C%2Fa%3E%09Free%0Af_autofe_mul_3f4a1860%090.0143%09100.0%09-0.907,%20-0.7954,%20-0.4698%09Upgini%09AutoFE%3A%20features%20from%20%3Ca%20href%3D%27https%3A%2F%2Fupgini.com%2F%23data_sources%27%20target%3D%27_blank%27%20rel%3D%27noopener%20noreferrer%27%3ECalendar%20data%3C%2Fa%3E,%3Ca%20href%3D%27https%3A%2F%2Fupgini.com%2F%23data_sources%27%20target%3D%27_blank%27%20rel%3D%27noopener%20noreferrer%27%3EMarkets%20data%3C%2Fa%3E%09Free%0Af_autofe_div_b603788b%090.0134%09100.0%09-1.228,%20-0.8091,%200.2005%09Upgini%09AutoFE%3A%20features%20from%20%3Ca%20href%3D%27https%3A%2F%2Fupgini.com%2F%23data_sources%27%20target%3D%27_blank%27%20rel%3D%27noopener%20noreferrer%27%3ECalendar%20data%3C%2Fa%3E,%3Ca%20href%3D%27https%3A%2F%2Fupgini.com%2F%23data_sources%27%20target%3D%27_blank%27%20rel%3D%27noopener%20noreferrer%27%3EMarkets%20data%3C%2Fa%3E%09Free%0Af_autofe_mul_28524d47%090.011%09100.0%090.2416,%200.4668,%200.9525%09Upgini%09AutoFE%3A%20features%20from%20%3Ca%20href%3D%27https%3A%2F%2Fupgini.com%2F%23data_sources%27%20target%3D%27_blank%27%20rel%3D%27noopener%20noreferrer%27%3ECalendar%20data%3C%2Fa%3E,%3Ca%20href%3D%27https%3A%2F%2Fupgini.com%2F%23data_sources%27%20target%3D%27_blank%27%20rel%3D%27noopener%20noreferrer%27%3EMarkets%20data%3C%2Fa%3E%09Free%0Af_autofe_div_029f75a6%090.0109%09100.0%090.7399,%20-0.397,%20-0.7709%09Upgini%09AutoFE%3A%20features%20from%20%3Ca%20href%3D%27https%3A%2F%2Fupgini.com%2F%23data_sources%27%20target%3D%27_blank%27%20rel%3D%27noopener%20noreferrer%27%3ECalendar%20data%3C%2Fa%3E,%3Ca%20href%3D%27https%3A%2F%2Fupgini.com%2F%23data_sources%27%20target%3D%27_blank%27%20rel%3D%27noopener%20noreferrer%27%3EMarkets%20data%3C%2Fa%3E%09Free%0Af_autofe_mul_c256dd85%090.0106%09100.0%09-0.4185,%200.8251,%200.9948%09Upgini%09AutoFE%3A%20features%20from%20%3Ca%20href%3D%27https%3A%2F%2Fupgini.com%2F%23data_sources%27%20target%3D%27_blank%27%20rel%3D%27noopener%20noreferrer%27%3ECalendar%20data%3C%2Fa%3E,%3Ca%20href%3D%27https%3A%2F%2Fupgini.com%2F%23data_sources%27%20target%3D%27_blank%27%20rel%3D%27noopener%20noreferrer%27%3EMarkets%20data%3C%2Fa%3E%09Free%0Af_weather_date_weather_umap_13_842ae1fc%090.0074%09100.0%094.7706,%205.26,%204.7666%09Upgini%09Weather%20%26%20climate%20normals%20data%09Premium%0Af_autofe_div_20a12630%090.0072%09100.0%090.01,%200.014,%200.0188%09Upgini%09AutoFE%3A%20features%20from%20%3Ca%20href%3D%27https%3A%2F%2Fupgini.com%2F%23data_sources%27%20target%3D%27_blank%27%20rel%3D%27noopener%20noreferrer%27%3ECalendar%20data%3C%2Fa%3E,%3Ca%20href%3D%27https%3A%2F%2Fupgini.com%2F%23data_sources%27%20target%3D%27_blank%27%20rel%3D%27noopener%20noreferrer%27%3EMarkets%20data%3C%2Fa%3E%09Free%0Af_events_date_year_cos1_9014a856%090.007%09100.0%090.4083,%200.5439,%200.2595%09Upgini%09Calendar%20data%09Free%0Af_autofe_div_3e22df83%090.0058%09100.0%090.0101,%20-0.0092,%20-0.02%09Upgini%09AutoFE%3A%20features%20from%20%3Ca%20href%3D%27https%3A%2F%2Fupgini.com%2F%23data_sources%27%20target%3D%27_blank%27%20rel%3D%27noopener%20noreferrer%27%3ECalendar%20data%3C%2Fa%3E,%3Ca%20href%3D%27https%3A%2F%2Fupgini.com%2F%23data_sources%27%20target%3D%27_blank%27%20rel%3D%27noopener%20noreferrer%27%3EMarkets%20data%3C%2Fa%3E%09Free%0Af_autofe_div_d6db5d7a%090.0056%09100.0%09-0.7894,%20-0.8276,%20-0.9136%09Upgini%09AutoFE%3A%20features%20from%20%3Ca%20href%3D%27https%3A%2F%2Fupgini.com%2F%23data_sources%27%20target%3D%27_blank%27%20rel%3D%27noopener%20noreferrer%27%3ECalendar%20data%3C%2Fa%3E,%3Ca%20href%3D%27https%3A%2F%2Fupgini.com%2F%23data_sources%27%20target%3D%27_blank%27%20rel%3D%27noopener%20noreferrer%27%3EMarkets%20data%3C%2Fa%3E%09Free%0Af_autofe_mul_6234ba3a%090.0049%09100.0%091.1459,%200.8101,%201.0295%09Upgini%09AutoFE%3A%20features%20from%20%3Ca%20href%3D%27https%3A%2F%2Fupgini.com%2F%23data_sources%27%20target%3D%27_blank%27%20rel%3D%27noopener%20noreferrer%27%3EMarkets%20data%3C%2Fa%3E%09Free%0Af_weather_date_weather_umap_16_25ac8b87%090.0032%09100.0%095.1941,%205.5155,%206.0526%09Upgini%09Weather%20%26%20climate%20normals%20data%09Premium%0Af_autofe_mul_4c9c7d0a%090.0023%09100.0%091.1129,%200.8541,%200.7541%09Upgini%09AutoFE%3A%20features%20from%20%3Ca%20href%3D%27https%3A%2F%2Fupgini.com%2F%23data_sources%27%20target%3D%27_blank%27%20rel%3D%27noopener%20noreferrer%27%3EMarkets%20data%3C%2Fa%3E%09Free%0Af_autofe_div_7eba89b2%090.0023%0985.46637744034707%09-0.6395,%201.1524,%20-0.5129%09Upgini%09AutoFE%3A%20features%20from%20%3Ca%20href%3D%27https%3A%2F%2Fupgini.com%2F%23data_sources%27%20target%3D%27_blank%27%20rel%3D%27noopener%20noreferrer%27%3ECalendar%20data%3C%2Fa%3E%09Free%0Af_autofe_mul_d8d61774%090.0022%09100.0%090.3729,%200.9894,%200.4258%09Upgini%09AutoFE%3A%20features%20from%20%3Ca%20href%3D%27https%3A%2F%2Fupgini.com%2F%23data_sources%27%20target%3D%27_blank%27%20rel%3D%27noopener%20noreferrer%27%3ECalendar%20data%3C%2Fa%3E,%3Ca%20href%3D%27https%3A%2F%2Fupgini.com%2F%23data_sources%27%20target%3D%27_blank%27%20rel%3D%27noopener%20noreferrer%27%3EMarkets%20data%3C%2Fa%3E%09Free%0Af_autofe_mul_0bc1cff4%090.0018%09100.0%09149.4859,%2026.2865,%2046.9586%09Upgini%09AutoFE%3A%20features%20from%20%3Ca%20href%3D%27https%3A%2F%2Fupgini.com%2F%23data_sources%27%20target%3D%27_blank%27%20rel%3D%27noopener%20noreferrer%27%3EMarkets%20data%3C%2Fa%3E%09Free%0Af_autofe_mul_acd980f4%090.0018%09100.0%09-0.1934,%20-0.7031,%200.5181%09Upgini%09AutoFE%3A%20features%20from%20%3Ca%20href%3D%27https%3A%2F%2Fupgini.com%2F%23data_sources%27%20target%3D%27_blank%27%20rel%3D%27noopener%20noreferrer%27%3ECalendar%20data%3C%2Fa%3E,%3Ca%20href%3D%27https%3A%2F%2Fupgini.com%2F%23data_sources%27%20target%3D%27_blank%27%20rel%3D%27noopener%20noreferrer%27%3EMarkets%20data%3C%2Fa%3E%09Free%0Af_autofe_mul_9a4ab68c%090.0016%09100.0%09-3.8692,%209.1584,%20-3.8009%09Upgini%09AutoFE%3A%20features%20from%20%3Ca%20href%3D%27https%3A%2F%2Fupgini.com%2F%23data_sources%27%20target%3D%27_blank%27%20rel%3D%27noopener%20noreferrer%27%3ECalendar%20data%3C%2Fa%3E,%3Ca%20href%3D%27https%3A%2F%2Fupgini.com%2F%23data_sources%27%20target%3D%27_blank%27%20rel%3D%27noopener%20noreferrer%27%3EMarkets%20data%3C%2Fa%3E%09Free%0Af_autofe_mul_0cc09d2d%090.0016%09100.0%0986.7273,%2036.2568,%20-12.3328%09Upgini%09AutoFE%3A%20features%20from%20%3Ca%20href%3D%27https%3A%2F%2Fupgini.com%2F%23data_sources%27%20target%3D%27_blank%27%20rel%3D%27noopener%20noreferrer%27%3ECalendar%20data%3C%2Fa%3E,%3Ca%20href%3D%27https%3A%2F%2Fupgini.com%2F%23data_sources%27%20target%3D%27_blank%27%20rel%3D%27noopener%20noreferrer%27%3EMarkets%20data%3C%2Fa%3E%09Free%0Af_autofe_div_1ce27d18%090.0015%09100.0%09-0.3931,%20-1.2351,%20-0.5304%09Upgini%09AutoFE%3A%20features%20from%20%3Ca%20href%3D%27https%3A%2F%2Fupgini.com%2F%23data_sources%27%20target%3D%27_blank%27%20rel%3D%27noopener%20noreferrer%27%3ECalendar%20data%3C%2Fa%3E,%3Ca%20href%3D%27https%3A%2F%2Fupgini.com%2F%23data_sources%27%20target%3D%27_blank%27%20rel%3D%27noopener%20noreferrer%27%3EMarkets%20data%3C%2Fa%3E%09Free%0Af_autofe_mul_05ba522d%090.0015%09100.0%0914.44,%2016.2974,%2014.5613%09Upgini%09AutoFE%3A%20features%20from%20%3Ca%20href%3D%27https%3A%2F%2Fupgini.com%2F%23data_sources%27%20target%3D%27_blank%27%20rel%3D%27noopener%20noreferrer%27%3EMarkets%20data%3C%2Fa%3E%09Free%0Af_autofe_mul_08e89348%090.0014%09100.0%0920.4576,%2034.7133,%20-104.7658%09Upgini%09AutoFE%3A%20features%20from%20%3Ca%20href%3D%27https%3A%2F%2Fupgini.com%2F%23data_sources%27%20target%3D%27_blank%27%20rel%3D%27noopener%20noreferrer%27%3ECalendar%20data%3C%2Fa%3E,%3Ca%20href%3D%27https%3A%2F%2Fupgini.com%2F%23data_sources%27%20target%3D%27_blank%27%20rel%3D%27noopener%20noreferrer%27%3EMarkets%20data%3C%2Fa%3E%09Free%0Af_autofe_div_210753e2%090.0013%09100.0%090.8882,%201.5448,%200.8521%09Upgini%09AutoFE%3A%20features%20from%20%3Ca%20href%3D%27https%3A%2F%2Fupgini.com%2F%23data_sources%27%20target%3D%27_blank%27%20rel%3D%27noopener%20noreferrer%27%3EMarkets%20data%3C%2Fa%3E%09Free%0Af_autofe_div_1d266053%090.0012%09100.0%09-0.798,%200.7938,%20-1.0859%09Upgini%09AutoFE%3A%20features%20from%20%3Ca%20href%3D%27https%3A%2F%2Fupgini.com%2F%23data_sources%27%20target%3D%27_blank%27%20rel%3D%27noopener%20noreferrer%27%3ECalendar%20data%3C%2Fa%3E,%3Ca%20href%3D%27https%3A%2F%2Fupgini.com%2F%23data_sources%27%20target%3D%27_blank%27%20rel%3D%27noopener%20noreferrer%27%3EMarkets%20data%3C%2Fa%3E%09Free%0Af_autofe_mul_af6d166b%090.0011%09100.0%09-0.2031,%20-0.1871,%20-0.8199%09Upgini%09AutoFE%3A%20features%20from%20%3Ca%20href%3D%27https%3A%2F%2Fupgini.com%2F%23data_sources%27%20target%3D%27_blank%27%20rel%3D%27noopener%20noreferrer%27%3ECalendar%20data%3C%2Fa%3E,%3Ca%20href%3D%27https%3A%2F%2Fupgini.com%2F%23data_sources%27%20target%3D%27_blank%27%20rel%3D%27noopener%20noreferrer%27%3EMarkets%20data%3C%2Fa%3E%09Free%0Af_autofe_div_ab3bd138%090.0011%09100.0%091.0053,%201.1796,%201.0539%09Upgini%09AutoFE%3A%20features%20from%20%3Ca%20href%3D%27https%3A%2F%2Fupgini.com%2F%23data_sources%27%20target%3D%27_blank%27%20rel%3D%27noopener%20noreferrer%27%3EMarkets%20data%3C%2Fa%3E%09Free%0Af_autofe_mul_6a97c336%090.0011%09100.0%090.4928,%20-0.215,%20-1.0254%09Upgini%09AutoFE%3A%20features%20from%20%3Ca%20href%3D%27https%3A%2F%2Fupgini.com%2F%23data_sources%27%20target%3D%27_blank%27%20rel%3D%27noopener%20noreferrer%27%3ECalendar%20data%3C%2Fa%3E,%3Ca%20href%3D%27https%3A%2F%2Fupgini.com%2F%23data_sources%27%20target%3D%27_blank%27%20rel%3D%27noopener%20noreferrer%27%3EMarkets%20data%3C%2Fa%3E%09Free%0Af_autofe_div_c4537a19%090.0011%09100.0%090.0028,%200.0028,%200.0031%09Upgini%09AutoFE%3A%20features%20from%20%3Ca%20href%3D%27https%3A%2F%2Fupgini.com%2F%23data_sources%27%20target%3D%27_blank%27%20rel%3D%27noopener%20noreferrer%27%3EMarkets%20data%3C%2Fa%3E%09Free%0Af_autofe_mul_44503c6f%090.0009%09100.0%095.0976,%205.0518,%207.7791%09Upgini%09AutoFE%3A%20features%20from%20%3Ca%20href%3D%27https%3A%2F%2Fupgini.com%2F%23data_sources%27%20target%3D%27_blank%27%20rel%3D%27noopener%20noreferrer%27%3EMarkets%20data%3C%2Fa%3E%09Free%0Af_autofe_mul_1737bd2a%090.0009%09100.0%09-0.1548,%20-0.9101,%20-0.2552%09Upgini%09AutoFE%3A%20features%20from%20%3Ca%20href%3D%27https%3A%2F%2Fupgini.com%2F%23data_sources%27%20target%3D%27_blank%27%20rel%3D%27noopener%20noreferrer%27%3ECalendar%20data%3C%2Fa%3E,%3Ca%20href%3D%27https%3A%2F%2Fupgini.com%2F%23data_sources%27%20target%3D%27_blank%27%20rel%3D%27noopener%20noreferrer%27%3EMarkets%20data%3C%2Fa%3E%09Free%0Af_autofe_mul_8c2f1d42%090.0008%09100.0%09-0.1563,%200.7467,%200.5573%09Upgini%09AutoFE%3A%20features%20from%20%3Ca%20href%3D%27https%3A%2F%2Fupgini.com%2F%23data_sources%27%20target%3D%27_blank%27%20rel%3D%27noopener%20noreferrer%27%3ECalendar%20data%3C%2Fa%3E%09Free%0Af_autofe_div_3109d259%090.0006%09100.0%09-0.8582,%20-0.4179,%20-0.379%09Upgini%09AutoFE%3A%20features%20from%20%3Ca%20href%3D%27https%3A%2F%2Fupgini.com%2F%23data_sources%27%20target%3D%27_blank%27%20rel%3D%27noopener%20noreferrer%27%3ECalendar%20data%3C%2Fa%3E,%3Ca%20href%3D%27https%3A%2F%2Fupgini.com%2F%23data_sources%27%20target%3D%27_blank%27%20rel%3D%27noopener%20noreferrer%27%3EMarkets%20data%3C%2Fa%3E%09Free%0Af_autofe_mul_156b207d%090.0006%09100.0%090.991,%201.2637,%201.0614%09Upgini%09AutoFE%3A%20features%20from%20%3Ca%20href%3D%27https%3A%2F%2Fupgini.com%2F%23data_sources%27%20target%3D%27_blank%27%20rel%3D%27noopener%20noreferrer%27%3EMarkets%20data%3C%2Fa%3E%09Free%0Af_autofe_mul_dfd3cddf%090.0005%09100.0%090.5951,%200.6504,%200.8576%09Upgini%09AutoFE%3A%20features%20from%20%3Ca%20href%3D%27https%3A%2F%2Fupgini.com%2F%23data_sources%27%20target%3D%27_blank%27%20rel%3D%27noopener%20noreferrer%27%3ECalendar%20data%3C%2Fa%3E,%3Ca%20href%3D%27https%3A%2F%2Fupgini.com%2F%23data_sources%27%20target%3D%27_blank%27%20rel%3D%27noopener%20noreferrer%27%3EMarkets%20data%3C%2Fa%3E%09Free%0Af_financial_date_stoxx_043cbcd4%090.0005%09100.0%09322.12,%20319.49,%20344.75%09Upgini%09Markets%20data%09Free%0Af_weather_date_weather_umap_12_d03be9a0%090.0004%09100.0%096.1198,%204.1905,%205.1236%09Upgini%09Weather%20%26%20climate%20normals%20data%09Premium%0Af_autofe_div_fb99ff57%090.0004%09100.0%09274.7427,%20329.8801,%20323.3158%09Upgini%09AutoFE%3A%20features%20from%20%3Ca%20href%3D%27https%3A%2F%2Fupgini.com%2F%23data_sources%27%20target%3D%27_blank%27%20rel%3D%27noopener%20noreferrer%27%3EMarkets%20data%3C%2Fa%3E%09Free%0Af_economic_date_cbpol_pca_9_bde660b4%090.0004%09100.0%09-2.3123,%20-0.9823,%20-2.8197%09Upgini%09World%20economic%20indicators%09Free%0Af_autofe_div_270d64a2%090.0003%09100.0%090.8097,%20-0.19,%20-0.2598%09Upgini%09AutoFE%3A%20features%20from%20%3Ca%20href%3D%27https%3A%2F%2Fupgini.com%2F%23data_sources%27%20target%3D%27_blank%27%20rel%3D%27noopener%20noreferrer%27%3ECalendar%20data%3C%2Fa%3E,%3Ca%20href%3D%27https%3A%2F%2Fupgini.com%2F%23data_sources%27%20target%3D%27_blank%27%20rel%3D%27noopener%20noreferrer%27%3EMarkets%20data%3C%2Fa%3E%09Free%0Af_autofe_mul_057844a2%090.0003%09100.0%09-92.079,%2056.74,%2035.5763%09Upgini%09AutoFE%3A%20features%20from%20%3Ca%20href%3D%27https%3A%2F%2Fupgini.com%2F%23data_sources%27%20target%3D%27_blank%27%20rel%3D%27noopener%20noreferrer%27%3ECalendar%20data%3C%2Fa%3E,%3Ca%20href%3D%27https%3A%2F%2Fupgini.com%2F%23data_sources%27%20target%3D%27_blank%27%20rel%3D%27noopener%20noreferrer%27%3EMarkets%20data%3C%2Fa%3E%09Free%0Af_autofe_mul_53c1ec55%090.0003%09100.0%0920.438,%2064.1072,%20-9.9912%09Upgini%09AutoFE%3A%20features%20from%20%3Ca%20href%3D%27https%3A%2F%2Fupgini.com%2F%23data_sources%27%20target%3D%27_blank%27%20rel%3D%27noopener%20noreferrer%27%3ECalendar%20data%3C%2Fa%3E,%3Ca%20href%3D%27https%3A%2F%2Fupgini.com%2F%23data_sources%27%20target%3D%27_blank%27%20rel%3D%27noopener%20noreferrer%27%3EMarkets%20data%3C%2Fa%3E%09Free%0Af_autofe_mul_2cc31c95%090.0003%09100.0%09-0.4361,%20-0.8223,%200.4456%09Upgini%09AutoFE%3A%20features%20from%20%3Ca%20href%3D%27https%3A%2F%2Fupgini.com%2F%23data_sources%27%20target%3D%27_blank%27%20rel%3D%27noopener%20noreferrer%27%3ECalendar%20data%3C%2Fa%3E,%3Ca%20href%3D%27https%3A%2F%2Fupgini.com%2F%23data_sources%27%20target%3D%27_blank%27%20rel%3D%27noopener%20noreferrer%27%3EMarkets%20data%3C%2Fa%3E%09Free%0Af_economic_date_cbpol_umap_4_c5ce4e90%090.0003%09100.0%098.3379,%208.3927,%208.4671%09Upgini%09World%20economic%20indicators%09Free%0Af_autofe_mul_3c157d80%090.0002%09100.0%091.0679,%20-0.5691,%200.844%09Upgini%09AutoFE%3A%20features%20from%20%3Ca%20href%3D%27https%3A%2F%2Fupgini.com%2F%23data_sources%27%20target%3D%27_blank%27%20rel%3D%27noopener%20noreferrer%27%3ECalendar%20data%3C%2Fa%3E,%3Ca%20href%3D%27https%3A%2F%2Fupgini.com%2F%23data_sources%27%20target%3D%27_blank%27%20rel%3D%27noopener%20noreferrer%27%3EMarkets%20data%3C%2Fa%3E%09Free%0Af_autofe_mul_c883f8a6%090.0002%09100.0%09428.9874,%20316.6266,%20497.5593%09Upgini%09AutoFE%3A%20features%20from%20%3Ca%20href%3D%27https%3A%2F%2Fupgini.com%2F%23data_sources%27%20target%3D%27_blank%27%20rel%3D%27noopener%20noreferrer%27%3EMarkets%20data%3C%2Fa%3E%09Free%0Af_autofe_div_b0916e06%090.0002%09100.0%091.0621,%201.2415,%201.537%09Upgini%09AutoFE%3A%20features%20from%20%3Ca%20href%3D%27https%3A%2F%2Fupgini.com%2F%23data_sources%27%20target%3D%27_blank%27%20rel%3D%27noopener%20noreferrer%27%3EMarkets%20data%3C%2Fa%3E%09Free%0Af_autofe_mul_5c76b026%090.0001%09100.0%0911.5944,%207.6914,%209.5409%09Upgini%09AutoFE%3A%20features%20from%20%3Ca%20href%3D%27https%3A%2F%2Fupgini.com%2F%23data_sources%27%20target%3D%27_blank%27%20rel%3D%27noopener%20noreferrer%27%3EMarkets%20data%3C%2Fa%3E%09Free%0A'))>📂 Copy</button>\n",
              "                <a href='mailto:<Share with...>?subject=Relevant external data sources from Upgini.com&body=Feature%20name%09SHAP%20value%09Coverage%20%25%09Value%20preview%09Provider%09Source%09Feature%20type%0Af_weather_date_weather_umap_31_fa6d9a99%090.0391%09100.0%094.6888,%205.6018,%204.9519%09Upgini%09Weather%20%26%20climate%20normals%20data%09Premium%0Af_autofe_div_50a5dcaf%090.0156%09100.0%09-0.1602,%20-0.2953,%201.2728%09Upgini%09AutoFE%3A%20features%20from%20%3Ca%20href%3D%27https%3A%2F%2Fupgini.com%2F%23data_sources%27%20target%3D%27_blank%27%20rel%3D%27noopener%20noreferrer%27%3ECalendar%20data%3C%2Fa%3E,%3Ca%20href%3D%27https%3A%2F%2Fupgini.com%2F%23data_sources%27%20target%3D%27_blank%27%20rel%3D%27noopener%20noreferrer%27%3EMarkets%20data%3C%2Fa%3E%09Free%0Af_autofe_mul_3f4a1860%090.0143%09100.0%09-0.907,%20-0.7954,%20-0.4698%09Upgini%09AutoFE%3A%20features%20from%20%3Ca%20href%3D%27https%3A%2F%2Fupgini.com%2F%23data_sources%27%20target%3D%27_blank%27%20rel%3D%27noopener%20noreferrer%27%3ECalendar%20data%3C%2Fa%3E,%3Ca%20href%3D%27https%3A%2F%2Fupgini.com%2F%23data_sources%27%20target%3D%27_blank%27%20rel%3D%27noopener%20noreferrer%27%3EMarkets%20data%3C%2Fa%3E%09Free%0Af_autofe_div_b603788b%090.0134%09100.0%09-1.228,%20-0.8091,%200.2005%09Upgini%09AutoFE%3A%20features%20from%20%3Ca%20href%3D%27https%3A%2F%2Fupgini.com%2F%23data_sources%27%20target%3D%27_blank%27%20rel%3D%27noopener%20noreferrer%27%3ECalendar%20data%3C%2Fa%3E,%3Ca%20href%3D%27https%3A%2F%2Fupgini.com%2F%23data_sources%27%20target%3D%27_blank%27%20rel%3D%27noopener%20noreferrer%27%3EMarkets%20data%3C%2Fa%3E%09Free%0Af_autofe_mul_28524d47%090.011%09100.0%090.2416,%200.4668,%200.9525%09Upgini%09AutoFE%3A%20features%20from%20%3Ca%20href%3D%27https%3A%2F%2Fupgini.com%2F%23data_sources%27%20target%3D%27_blank%27%20rel%3D%27noopener%20noreferrer%27%3ECalendar%20data%3C%2Fa%3E,%3Ca%20href%3D%27https%3A%2F%2Fupgini.com%2F%23data_sources%27%20target%3D%27_blank%27%20rel%3D%27noopener%20noreferrer%27%3EMarkets%20data%3C%2Fa%3E%09Free%0Af_autofe_div_029f75a6%090.0109%09100.0%090.7399,%20-0.397,%20-0.7709%09Upgini%09AutoFE%3A%20features%20from%20%3Ca%20href%3D%27https%3A%2F%2Fupgini.com%2F%23data_sources%27%20target%3D%27_blank%27%20rel%3D%27noopener%20noreferrer%27%3ECalendar%20data%3C%2Fa%3E,%3Ca%20href%3D%27https%3A%2F%2Fupgini.com%2F%23data_sources%27%20target%3D%27_blank%27%20rel%3D%27noopener%20noreferrer%27%3EMarkets%20data%3C%2Fa%3E%09Free%0Af_autofe_mul_c256dd85%090.0106%09100.0%09-0.4185,%200.8251,%200.9948%09Upgini%09AutoFE%3A%20features%20from%20%3Ca%20href%3D%27https%3A%2F%2Fupgini.com%2F%23data_sources%27%20target%3D%27_blank%27%20rel%3D%27noopener%20noreferrer%27%3ECalendar%20data%3C%2Fa%3E,%3Ca%20href%3D%27https%3A%2F%2Fupgini.com%2F%23data_sources%27%20target%3D%27_blank%27%20rel%3D%27noopener%20noreferrer%27%3EMarkets%20data%3C%2Fa%3E%09Free%0Af_weather_date_weather_umap_13_842ae1fc%090.0074%09100.0%094.7706,%205.26,%204.7666%09Upgini%09Weather%20%26%20climate%20normals%20data%09Premium%0Af_autofe_div_20a12630%090.0072%09100.0%090.01,%200.014,%200.0188%09Upgini%09AutoFE%3A%20features%20from%20%3Ca%20href%3D%27https%3A%2F%2Fupgini.com%2F%23data_sources%27%20target%3D%27_blank%27%20rel%3D%27noopener%20noreferrer%27%3ECalendar%20data%3C%2Fa%3E,%3Ca%20href%3D%27https%3A%2F%2Fupgini.com%2F%23data_sources%27%20target%3D%27_blank%27%20rel%3D%27noopener%20noreferrer%27%3EMarkets%20data%3C%2Fa%3E%09Free%0Af_events_date_year_cos1_9014a856%090.007%09100.0%090.4083,%200.5439,%200.2595%09Upgini%09Calendar%20data%09Free%0Af_autofe_div_3e22df83%090.0058%09100.0%090.0101,%20-0.0092,%20-0.02%09Upgini%09AutoFE%3A%20features%20from%20%3Ca%20href%3D%27https%3A%2F%2Fupgini.com%2F%23data_sources%27%20target%3D%27_blank%27%20rel%3D%27noopener%20noreferrer%27%3ECalendar%20data%3C%2Fa%3E,%3Ca%20href%3D%27https%3A%2F%2Fupgini.com%2F%23data_sources%27%20target%3D%27_blank%27%20rel%3D%27noopener%20noreferrer%27%3EMarkets%20data%3C%2Fa%3E%09Free%0Af_autofe_div_d6db5d7a%090.0056%09100.0%09-0.7894,%20-0.8276,%20-0.9136%09Upgini%09AutoFE%3A%20features%20from%20%3Ca%20href%3D%27https%3A%2F%2Fupgini.com%2F%23data_sources%27%20target%3D%27_blank%27%20rel%3D%27noopener%20noreferrer%27%3ECalendar%20data%3C%2Fa%3E,%3Ca%20href%3D%27https%3A%2F%2Fupgini.com%2F%23data_sources%27%20target%3D%27_blank%27%20rel%3D%27noopener%20noreferrer%27%3EMarkets%20data%3C%2Fa%3E%09Free%0Af_autofe_mul_6234ba3a%090.0049%09100.0%091.1459,%200.8101,%201.0295%09Upgini%09AutoFE%3A%20features%20from%20%3Ca%20href%3D%27https%3A%2F%2Fupgini.com%2F%23data_sources%27%20target%3D%27_blank%27%20rel%3D%27noopener%20noreferrer%27%3EMarkets%20data%3C%2Fa%3E%09Free%0Af_weather_date_weather_umap_16_25ac8b87%090.0032%09100.0%095.1941,%205.5155,%206.0526%09Upgini%09Weather%20%26%20climate%20normals%20data%09Premium%0Af_autofe_mul_4c9c7d0a%090.0023%09100.0%091.1129,%200.8541,%200.7541%09Upgini%09AutoFE%3A%20features%20from%20%3Ca%20href%3D%27https%3A%2F%2Fupgini.com%2F%23data_sources%27%20target%3D%27_blank%27%20rel%3D%27noopener%20noreferrer%27%3EMarkets%20data%3C%2Fa%3E%09Free%0Af_autofe_div_7eba89b2%090.0023%0985.46637744034707%09-0.6395,%201.1524,%20-0.5129%09Upgini%09AutoFE%3A%20features%20from%20%3Ca%20href%3D%27https%3A%2F%2Fupgini.com%2F%23data_sources%27%20target%3D%27_blank%27%20rel%3D%27noopener%20noreferrer%27%3ECalendar%20data%3C%2Fa%3E%09Free%0Af_autofe_mul_d8d61774%090.0022%09100.0%090.3729,%200.9894,%200.4258%09Upgini%09AutoFE%3A%20features%20from%20%3Ca%20href%3D%27https%3A%2F%2Fupgini.com%2F%23data_sources%27%20target%3D%27_blank%27%20rel%3D%27noopener%20noreferrer%27%3ECalendar%20data%3C%2Fa%3E,%3Ca%20href%3D%27https%3A%2F%2Fupgini.com%2F%23data_sources%27%20target%3D%27_blank%27%20rel%3D%27noopener%20noreferrer%27%3EMarkets%20data%3C%2Fa%3E%09Free%0Af_autofe_mul_0bc1cff4%090.0018%09100.0%09149.4859,%2026.2865,%2046.9586%09Upgini%09AutoFE%3A%20features%20from%20%3Ca%20href%3D%27https%3A%2F%2Fupgini.com%2F%23data_sources%27%20target%3D%27_blank%27%20rel%3D%27noopener%20noreferrer%27%3EMarkets%20data%3C%2Fa%3E%09Free%0Af_autofe_mul_acd980f4%090.0018%09100.0%09-0.1934,%20-0.7031,%200.5181%09Upgini%09AutoFE%3A%20features%20from%20%3Ca%20href%3D%27https%3A%2F%2Fupgini.com%2F%23data_sources%27%20target%3D%27_blank%27%20rel%3D%27noopener%20noreferrer%27%3ECalendar%20data%3C%2Fa%3E,%3Ca%20href%3D%27https%3A%2F%2Fupgini.com%2F%23data_sources%27%20target%3D%27_blank%27%20rel%3D%27noopener%20noreferrer%27%3EMarkets%20data%3C%2Fa%3E%09Free%0Af_autofe_mul_9a4ab68c%090.0016%09100.0%09-3.8692,%209.1584,%20-3.8009%09Upgini%09AutoFE%3A%20features%20from%20%3Ca%20href%3D%27https%3A%2F%2Fupgini.com%2F%23data_sources%27%20target%3D%27_blank%27%20rel%3D%27noopener%20noreferrer%27%3ECalendar%20data%3C%2Fa%3E,%3Ca%20href%3D%27https%3A%2F%2Fupgini.com%2F%23data_sources%27%20target%3D%27_blank%27%20rel%3D%27noopener%20noreferrer%27%3EMarkets%20data%3C%2Fa%3E%09Free%0Af_autofe_mul_0cc09d2d%090.0016%09100.0%0986.7273,%2036.2568,%20-12.3328%09Upgini%09AutoFE%3A%20features%20from%20%3Ca%20href%3D%27https%3A%2F%2Fupgini.com%2F%23data_sources%27%20target%3D%27_blank%27%20rel%3D%27noopener%20noreferrer%27%3ECalendar%20data%3C%2Fa%3E,%3Ca%20href%3D%27https%3A%2F%2Fupgini.com%2F%23data_sources%27%20target%3D%27_blank%27%20rel%3D%27noopener%20noreferrer%27%3EMarkets%20data%3C%2Fa%3E%09Free%0Af_autofe_div_1ce27d18%090.0015%09100.0%09-0.3931,%20-1.2351,%20-0.5304%09Upgini%09AutoFE%3A%20features%20from%20%3Ca%20href%3D%27https%3A%2F%2Fupgini.com%2F%23data_sources%27%20target%3D%27_blank%27%20rel%3D%27noopener%20noreferrer%27%3ECalendar%20data%3C%2Fa%3E,%3Ca%20href%3D%27https%3A%2F%2Fupgini.com%2F%23data_sources%27%20target%3D%27_blank%27%20rel%3D%27noopener%20noreferrer%27%3EMarkets%20data%3C%2Fa%3E%09Free%0Af_autofe_mul_05ba522d%090.0015%09100.0%0914.44,%2016.2974,%2014.5613%09Upgini%09AutoFE%3A%20features%20from%20%3Ca%20href%3D%27https%3A%2F%2Fupgini.com%2F%23data_sources%27%20target%3D%27_blank%27%20rel%3D%27noopener%20noreferrer%27%3EMarkets%20data%3C%2Fa%3E%09Free%0Af_autofe_mul_08e89348%090.0014%09100.0%0920.4576,%2034.7133,%20-104.7658%09Upgini%09AutoFE%3A%20features%20from%20%3Ca%20href%3D%27https%3A%2F%2Fupgini.com%2F%23data_sources%27%20target%3D%27_blank%27%20rel%3D%27noopener%20noreferrer%27%3ECalendar%20data%3C%2Fa%3E,%3Ca%20href%3D%27https%3A%2F%2Fupgini.com%2F%23data_sources%27%20target%3D%27_blank%27%20rel%3D%27noopener%20noreferrer%27%3EMarkets%20data%3C%2Fa%3E%09Free%0Af_autofe_div_210753e2%090.0013%09100.0%090.8882,%201.5448,%200.8521%09Upgini%09AutoFE%3A%20features%20from%20%3Ca%20href%3D%27https%3A%2F%2Fupgini.com%2F%23data_sources%27%20target%3D%27_blank%27%20rel%3D%27noopener%20noreferrer%27%3EMarkets%20data%3C%2Fa%3E%09Free%0Af_autofe_div_1d266053%090.0012%09100.0%09-0.798,%200.7938,%20-1.0859%09Upgini%09AutoFE%3A%20features%20from%20%3Ca%20href%3D%27https%3A%2F%2Fupgini.com%2F%23data_sources%27%20target%3D%27_blank%27%20rel%3D%27noopener%20noreferrer%27%3ECalendar%20data%3C%2Fa%3E,%3Ca%20href%3D%27https%3A%2F%2Fupgini.com%2F%23data_sources%27%20target%3D%27_blank%27%20rel%3D%27noopener%20noreferrer%27%3EMarkets%20data%3C%2Fa%3E%09Free%0Af_autofe_mul_af6d166b%090.0011%09100.0%09-0.2031,%20-0.1871,%20-0.8199%09Upgini%09AutoFE%3A%20features%20from%20%3Ca%20href%3D%27https%3A%2F%2Fupgini.com%2F%23data_sources%27%20target%3D%27_blank%27%20rel%3D%27noopener%20noreferrer%27%3ECalendar%20data%3C%2Fa%3E,%3Ca%20href%3D%27https%3A%2F%2Fupgini.com%2F%23data_sources%27%20target%3D%27_blank%27%20rel%3D%27noopener%20noreferrer%27%3EMarkets%20data%3C%2Fa%3E%09Free%0Af_autofe_div_ab3bd138%090.0011%09100.0%091.0053,%201.1796,%201.0539%09Upgini%09AutoFE%3A%20features%20from%20%3Ca%20href%3D%27https%3A%2F%2Fupgini.com%2F%23data_sources%27%20target%3D%27_blank%27%20rel%3D%27noopener%20noreferrer%27%3EMarkets%20data%3C%2Fa%3E%09Free%0Af_autofe_mul_6a97c336%090.0011%09100.0%090.4928,%20-0.215,%20-1.0254%09Upgini%09AutoFE%3A%20features%20from%20%3Ca%20href%3D%27https%3A%2F%2Fupgini.com%2F%23data_sources%27%20target%3D%27_blank%27%20rel%3D%27noopener%20noreferrer%27%3ECalendar%20data%3C%2Fa%3E,%3Ca%20href%3D%27https%3A%2F%2Fupgini.com%2F%23data_sources%27%20target%3D%27_blank%27%20rel%3D%27noopener%20noreferrer%27%3EMarkets%20data%3C%2Fa%3E%09Free%0Af_autofe_div_c4537a19%090.0011%09100.0%090.0028,%200.0028,%200.0031%09Upgini%09AutoFE%3A%20features%20from%20%3Ca%20href%3D%27https%3A%2F%2Fupgini.com%2F%23data_sources%27%20target%3D%27_blank%27%20rel%3D%27noopener%20noreferrer%27%3EMarkets%20data%3C%2Fa%3E%09Free%0Af_autofe_mul_44503c6f%090.0009%09100.0%095.0976,%205.0518,%207.7791%09Upgini%09AutoFE%3A%20features%20from%20%3Ca%20href%3D%27https%3A%2F%2Fupgini.com%2F%23data_sources%27%20target%3D%27_blank%27%20rel%3D%27noopener%20noreferrer%27%3EMarkets%20data%3C%2Fa%3E%09Free%0Af_autofe_mul_1737bd2a%090.0009%09100.0%09-0.1548,%20-0.9101,%20-0.2552%09Upgini%09AutoFE%3A%20features%20from%20%3Ca%20href%3D%27https%3A%2F%2Fupgini.com%2F%23data_sources%27%20target%3D%27_blank%27%20rel%3D%27noopener%20noreferrer%27%3ECalendar%20data%3C%2Fa%3E,%3Ca%20href%3D%27https%3A%2F%2Fupgini.com%2F%23data_sources%27%20target%3D%27_blank%27%20rel%3D%27noopener%20noreferrer%27%3EMarkets%20data%3C%2Fa%3E%09Free%0Af_autofe_mul_8c2f1d42%090.0008%09100.0%09-0.1563,%200.7467,%200.5573%09Upgini%09AutoFE%3A%20features%20from%20%3Ca%20href%3D%27https%3A%2F%2Fupgini.com%2F%23data_sources%27%20target%3D%27_blank%27%20rel%3D%27noopener%20noreferrer%27%3ECalendar%20data%3C%2Fa%3E%09Free%0Af_autofe_div_3109d259%090.0006%09100.0%09-0.8582,%20-0.4179,%20-0.379%09Upgini%09AutoFE%3A%20features%20from%20%3Ca%20href%3D%27https%3A%2F%2Fupgini.com%2F%23data_sources%27%20target%3D%27_blank%27%20rel%3D%27noopener%20noreferrer%27%3ECalendar%20data%3C%2Fa%3E,%3Ca%20href%3D%27https%3A%2F%2Fupgini.com%2F%23data_sources%27%20target%3D%27_blank%27%20rel%3D%27noopener%20noreferrer%27%3EMarkets%20data%3C%2Fa%3E%09Free%0Af_autofe_mul_156b207d%090.0006%09100.0%090.991,%201.2637,%201.0614%09Upgini%09AutoFE%3A%20features%20from%20%3Ca%20href%3D%27https%3A%2F%2Fupgini.com%2F%23data_sources%27%20target%3D%27_blank%27%20rel%3D%27noopener%20noreferrer%27%3EMarkets%20data%3C%2Fa%3E%09Free%0Af_autofe_mul_dfd3cddf%090.0005%09100.0%090.5951,%200.6504,%200.8576%09Upgini%09AutoFE%3A%20features%20from%20%3Ca%20href%3D%27https%3A%2F%2Fupgini.com%2F%23data_sources%27%20target%3D%27_blank%27%20rel%3D%27noopener%20noreferrer%27%3ECalendar%20data%3C%2Fa%3E,%3Ca%20href%3D%27https%3A%2F%2Fupgini.com%2F%23data_sources%27%20target%3D%27_blank%27%20rel%3D%27noopener%20noreferrer%27%3EMarkets%20data%3C%2Fa%3E%09Free%0Af_financial_date_stoxx_043cbcd4%090.0005%09100.0%09322.12,%20319.49,%20344.75%09Upgini%09Markets%20data%09Free%0Af_weather_date_weather_umap_12_d03be9a0%090.0004%09100.0%096.1198,%204.1905,%205.1236%09Upgini%09Weather%20%26%20climate%20normals%20data%09Premium%0Af_autofe_div_fb99ff57%090.0004%09100.0%09274.7427,%20329.8801,%20323.3158%09Upgini%09AutoFE%3A%20features%20from%20%3Ca%20href%3D%27https%3A%2F%2Fupgini.com%2F%23data_sources%27%20target%3D%27_blank%27%20rel%3D%27noopener%20noreferrer%27%3EMarkets%20data%3C%2Fa%3E%09Free%0Af_economic_date_cbpol_pca_9_bde660b4%090.0004%09100.0%09-2.3123,%20-0.9823,%20-2.8197%09Upgini%09World%20economic%20indicators%09Free%0Af_autofe_div_270d64a2%090.0003%09100.0%090.8097,%20-0.19,%20-0.2598%09Upgini%09AutoFE%3A%20features%20from%20%3Ca%20href%3D%27https%3A%2F%2Fupgini.com%2F%23data_sources%27%20target%3D%27_blank%27%20rel%3D%27noopener%20noreferrer%27%3ECalendar%20data%3C%2Fa%3E,%3Ca%20href%3D%27https%3A%2F%2Fupgini.com%2F%23data_sources%27%20target%3D%27_blank%27%20rel%3D%27noopener%20noreferrer%27%3EMarkets%20data%3C%2Fa%3E%09Free%0Af_autofe_mul_057844a2%090.0003%09100.0%09-92.079,%2056.74,%2035.5763%09Upgini%09AutoFE%3A%20features%20from%20%3Ca%20href%3D%27https%3A%2F%2Fupgini.com%2F%23data_sources%27%20target%3D%27_blank%27%20rel%3D%27noopener%20noreferrer%27%3ECalendar%20data%3C%2Fa%3E,%3Ca%20href%3D%27https%3A%2F%2Fupgini.com%2F%23data_sources%27%20target%3D%27_blank%27%20rel%3D%27noopener%20noreferrer%27%3EMarkets%20data%3C%2Fa%3E%09Free%0Af_autofe_mul_53c1ec55%090.0003%09100.0%0920.438,%2064.1072,%20-9.9912%09Upgini%09AutoFE%3A%20features%20from%20%3Ca%20href%3D%27https%3A%2F%2Fupgini.com%2F%23data_sources%27%20target%3D%27_blank%27%20rel%3D%27noopener%20noreferrer%27%3ECalendar%20data%3C%2Fa%3E,%3Ca%20href%3D%27https%3A%2F%2Fupgini.com%2F%23data_sources%27%20target%3D%27_blank%27%20rel%3D%27noopener%20noreferrer%27%3EMarkets%20data%3C%2Fa%3E%09Free%0Af_autofe_mul_2cc31c95%090.0003%09100.0%09-0.4361,%20-0.8223,%200.4456%09Upgini%09AutoFE%3A%20features%20from%20%3Ca%20href%3D%27https%3A%2F%2Fupgini.com%2F%23data_sources%27%20target%3D%27_blank%27%20rel%3D%27noopener%20noreferrer%27%3ECalendar%20data%3C%2Fa%3E,%3Ca%20href%3D%27https%3A%2F%2Fupgini.com%2F%23data_sources%27%20target%3D%27_blank%27%20rel%3D%27noopener%20noreferrer%27%3EMarkets%20data%3C%2Fa%3E%09Free%0Af_economic_date_cbpol_umap_4_c5ce4e90%090.0003%09100.0%098.3379,%208.3927,%208.4671%09Upgini%09World%20economic%20indicators%09Free%0Af_autofe_mul_3c157d80%090.0002%09100.0%091.0679,%20-0.5691,%200.844%09Upgini%09AutoFE%3A%20features%20from%20%3Ca%20href%3D%27https%3A%2F%2Fupgini.com%2F%23data_sources%27%20target%3D%27_blank%27%20rel%3D%27noopener%20noreferrer%27%3ECalendar%20data%3C%2Fa%3E,%3Ca%20href%3D%27https%3A%2F%2Fupgini.com%2F%23data_sources%27%20target%3D%27_blank%27%20rel%3D%27noopener%20noreferrer%27%3EMarkets%20data%3C%2Fa%3E%09Free%0Af_autofe_mul_c883f8a6%090.0002%09100.0%09428.9874,%20316.6266,%20497.5593%09Upgini%09AutoFE%3A%20features%20from%20%3Ca%20href%3D%27https%3A%2F%2Fupgini.com%2F%23data_sources%27%20target%3D%27_blank%27%20rel%3D%27noopener%20noreferrer%27%3EMarkets%20data%3C%2Fa%3E%09Free%0Af_autofe_div_b0916e06%090.0002%09100.0%091.0621,%201.2415,%201.537%09Upgini%09AutoFE%3A%20features%20from%20%3Ca%20href%3D%27https%3A%2F%2Fupgini.com%2F%23data_sources%27%20target%3D%27_blank%27%20rel%3D%27noopener%20noreferrer%27%3EMarkets%20data%3C%2Fa%3E%09Free%0Af_autofe_mul_5c76b026%090.0001%09100.0%0911.5944,%207.6914,%209.5409%09Upgini%09AutoFE%3A%20features%20from%20%3Ca%20href%3D%27https%3A%2F%2Fupgini.com%2F%23data_sources%27%20target%3D%27_blank%27%20rel%3D%27noopener%20noreferrer%27%3EMarkets%20data%3C%2Fa%3E%09Free%0A'>\n",
              "                    <button>📨 Share</button>\n",
              "                </a>\n",
              "            </div>\n",
              "            <table class='upgini-df'><thead><th>Feature name</th><th>SHAP value</th><th>Coverage %</th><th>Value preview</th><th>Provider</th><th>Source</th><th>Feature type</th></thead><tbody><tr><td class='upgini-text'><a href='https://docs.upgini.com/public/weather/weather_umap#f_weather_date_weather_umap_31_fa6d9a99' target='_blank' rel='noopener noreferrer'>f_weather_date_weather_umap_31_fa6d9a99</a></td><td class='upgini-number'>0.0391</td><td class='upgini-number'>100.0000</td><td class='upgini-text'>4.6888, 5.6018, 4.9519</td><td class='upgini-text'><a href='https://upgini.com' target='_blank' rel='noopener noreferrer'>Upgini</a></td><td class='upgini-text'><a href='https://upgini.com/#data_sources' target='_blank' rel='noopener noreferrer'>Weather & climate normals data</a></td><td class='upgini-text'>Premium</td></tr><tr><td class='upgini-text'>f_autofe_div_50a5dcaf</td><td class='upgini-number'>0.0156</td><td class='upgini-number'>100.0000</td><td class='upgini-text'>-0.1602, -0.2953, 1.2728</td><td class='upgini-text'><a href='https://upgini.com' target='_blank' rel='noopener noreferrer'>Upgini</a></td><td class='upgini-text'>AutoFE: features from <a href='https://upgini.com/#data_sources' target='_blank' rel='noopener noreferrer'>Calendar data</a>,<a href='https://upgini.com/#data_sources' target='_blank' rel='noopener noreferrer'>Markets data</a></td><td class='upgini-text'>Free</td></tr><tr><td class='upgini-text'>f_autofe_mul_3f4a1860</td><td class='upgini-number'>0.0143</td><td class='upgini-number'>100.0000</td><td class='upgini-text'>-0.907, -0.7954, -0.4698</td><td class='upgini-text'><a href='https://upgini.com' target='_blank' rel='noopener noreferrer'>Upgini</a></td><td class='upgini-text'>AutoFE: features from <a href='https://upgini.com/#data_sources' target='_blank' rel='noopener noreferrer'>Calendar data</a>,<a href='https://upgini.com/#data_sources' target='_blank' rel='noopener noreferrer'>Markets data</a></td><td class='upgini-text'>Free</td></tr><tr><td class='upgini-text'>f_autofe_div_b603788b</td><td class='upgini-number'>0.0134</td><td class='upgini-number'>100.0000</td><td class='upgini-text'>-1.228, -0.8091, 0.2005</td><td class='upgini-text'><a href='https://upgini.com' target='_blank' rel='noopener noreferrer'>Upgini</a></td><td class='upgini-text'>AutoFE: features from <a href='https://upgini.com/#data_sources' target='_blank' rel='noopener noreferrer'>Calendar data</a>,<a href='https://upgini.com/#data_sources' target='_blank' rel='noopener noreferrer'>Markets data</a></td><td class='upgini-text'>Free</td></tr><tr><td class='upgini-text'>f_autofe_mul_28524d47</td><td class='upgini-number'>0.0110</td><td class='upgini-number'>100.0000</td><td class='upgini-text'>0.2416, 0.4668, 0.9525</td><td class='upgini-text'><a href='https://upgini.com' target='_blank' rel='noopener noreferrer'>Upgini</a></td><td class='upgini-text'>AutoFE: features from <a href='https://upgini.com/#data_sources' target='_blank' rel='noopener noreferrer'>Calendar data</a>,<a href='https://upgini.com/#data_sources' target='_blank' rel='noopener noreferrer'>Markets data</a></td><td class='upgini-text'>Free</td></tr><tr><td class='upgini-text'>f_autofe_div_029f75a6</td><td class='upgini-number'>0.0109</td><td class='upgini-number'>100.0000</td><td class='upgini-text'>0.7399, -0.397, -0.7709</td><td class='upgini-text'><a href='https://upgini.com' target='_blank' rel='noopener noreferrer'>Upgini</a></td><td class='upgini-text'>AutoFE: features from <a href='https://upgini.com/#data_sources' target='_blank' rel='noopener noreferrer'>Calendar data</a>,<a href='https://upgini.com/#data_sources' target='_blank' rel='noopener noreferrer'>Markets data</a></td><td class='upgini-text'>Free</td></tr><tr><td class='upgini-text'>f_autofe_mul_c256dd85</td><td class='upgini-number'>0.0106</td><td class='upgini-number'>100.0000</td><td class='upgini-text'>-0.4185, 0.8251, 0.9948</td><td class='upgini-text'><a href='https://upgini.com' target='_blank' rel='noopener noreferrer'>Upgini</a></td><td class='upgini-text'>AutoFE: features from <a href='https://upgini.com/#data_sources' target='_blank' rel='noopener noreferrer'>Calendar data</a>,<a href='https://upgini.com/#data_sources' target='_blank' rel='noopener noreferrer'>Markets data</a></td><td class='upgini-text'>Free</td></tr><tr><td class='upgini-text'><a href='https://docs.upgini.com/public/weather/weather_umap#f_weather_date_weather_umap_13_842ae1fc' target='_blank' rel='noopener noreferrer'>f_weather_date_weather_umap_13_842ae1fc</a></td><td class='upgini-number'>0.0074</td><td class='upgini-number'>100.0000</td><td class='upgini-text'>4.7706, 5.26, 4.7666</td><td class='upgini-text'><a href='https://upgini.com' target='_blank' rel='noopener noreferrer'>Upgini</a></td><td class='upgini-text'><a href='https://upgini.com/#data_sources' target='_blank' rel='noopener noreferrer'>Weather & climate normals data</a></td><td class='upgini-text'>Premium</td></tr><tr><td class='upgini-text'>f_autofe_div_20a12630</td><td class='upgini-number'>0.0072</td><td class='upgini-number'>100.0000</td><td class='upgini-text'>0.01, 0.014, 0.0188</td><td class='upgini-text'><a href='https://upgini.com' target='_blank' rel='noopener noreferrer'>Upgini</a></td><td class='upgini-text'>AutoFE: features from <a href='https://upgini.com/#data_sources' target='_blank' rel='noopener noreferrer'>Calendar data</a>,<a href='https://upgini.com/#data_sources' target='_blank' rel='noopener noreferrer'>Markets data</a></td><td class='upgini-text'>Free</td></tr><tr><td class='upgini-text'><a href='https://docs.upgini.com/public/calendar/calendar#f_events_date_year_cos1_9014a856' target='_blank' rel='noopener noreferrer'>f_events_date_year_cos1_9014a856</a></td><td class='upgini-number'>0.0070</td><td class='upgini-number'>100.0000</td><td class='upgini-text'>0.4083, 0.5439, 0.2595</td><td class='upgini-text'><a href='https://upgini.com' target='_blank' rel='noopener noreferrer'>Upgini</a></td><td class='upgini-text'><a href='https://upgini.com/#data_sources' target='_blank' rel='noopener noreferrer'>Calendar data</a></td><td class='upgini-text'>Free</td></tr><tr><td class='upgini-text'>f_autofe_div_3e22df83</td><td class='upgini-number'>0.0058</td><td class='upgini-number'>100.0000</td><td class='upgini-text'>0.0101, -0.0092, -0.02</td><td class='upgini-text'><a href='https://upgini.com' target='_blank' rel='noopener noreferrer'>Upgini</a></td><td class='upgini-text'>AutoFE: features from <a href='https://upgini.com/#data_sources' target='_blank' rel='noopener noreferrer'>Calendar data</a>,<a href='https://upgini.com/#data_sources' target='_blank' rel='noopener noreferrer'>Markets data</a></td><td class='upgini-text'>Free</td></tr><tr><td class='upgini-text'>f_autofe_div_d6db5d7a</td><td class='upgini-number'>0.0056</td><td class='upgini-number'>100.0000</td><td class='upgini-text'>-0.7894, -0.8276, -0.9136</td><td class='upgini-text'><a href='https://upgini.com' target='_blank' rel='noopener noreferrer'>Upgini</a></td><td class='upgini-text'>AutoFE: features from <a href='https://upgini.com/#data_sources' target='_blank' rel='noopener noreferrer'>Calendar data</a>,<a href='https://upgini.com/#data_sources' target='_blank' rel='noopener noreferrer'>Markets data</a></td><td class='upgini-text'>Free</td></tr><tr><td class='upgini-text'>f_autofe_mul_6234ba3a</td><td class='upgini-number'>0.0049</td><td class='upgini-number'>100.0000</td><td class='upgini-text'>1.1459, 0.8101, 1.0295</td><td class='upgini-text'><a href='https://upgini.com' target='_blank' rel='noopener noreferrer'>Upgini</a></td><td class='upgini-text'>AutoFE: features from <a href='https://upgini.com/#data_sources' target='_blank' rel='noopener noreferrer'>Markets data</a></td><td class='upgini-text'>Free</td></tr><tr><td class='upgini-text'><a href='https://docs.upgini.com/public/weather/weather_umap#f_weather_date_weather_umap_16_25ac8b87' target='_blank' rel='noopener noreferrer'>f_weather_date_weather_umap_16_25ac8b87</a></td><td class='upgini-number'>0.0032</td><td class='upgini-number'>100.0000</td><td class='upgini-text'>5.1941, 5.5155, 6.0526</td><td class='upgini-text'><a href='https://upgini.com' target='_blank' rel='noopener noreferrer'>Upgini</a></td><td class='upgini-text'><a href='https://upgini.com/#data_sources' target='_blank' rel='noopener noreferrer'>Weather & climate normals data</a></td><td class='upgini-text'>Premium</td></tr><tr><td class='upgini-text'>f_autofe_mul_4c9c7d0a</td><td class='upgini-number'>0.0023</td><td class='upgini-number'>100.0000</td><td class='upgini-text'>1.1129, 0.8541, 0.7541</td><td class='upgini-text'><a href='https://upgini.com' target='_blank' rel='noopener noreferrer'>Upgini</a></td><td class='upgini-text'>AutoFE: features from <a href='https://upgini.com/#data_sources' target='_blank' rel='noopener noreferrer'>Markets data</a></td><td class='upgini-text'>Free</td></tr><tr><td class='upgini-text'>f_autofe_div_7eba89b2</td><td class='upgini-number'>0.0023</td><td class='upgini-number'>85.4664</td><td class='upgini-text'>-0.6395, 1.1524, -0.5129</td><td class='upgini-text'><a href='https://upgini.com' target='_blank' rel='noopener noreferrer'>Upgini</a></td><td class='upgini-text'>AutoFE: features from <a href='https://upgini.com/#data_sources' target='_blank' rel='noopener noreferrer'>Calendar data</a></td><td class='upgini-text'>Free</td></tr><tr><td class='upgini-text'>f_autofe_mul_d8d61774</td><td class='upgini-number'>0.0022</td><td class='upgini-number'>100.0000</td><td class='upgini-text'>0.3729, 0.9894, 0.4258</td><td class='upgini-text'><a href='https://upgini.com' target='_blank' rel='noopener noreferrer'>Upgini</a></td><td class='upgini-text'>AutoFE: features from <a href='https://upgini.com/#data_sources' target='_blank' rel='noopener noreferrer'>Calendar data</a>,<a href='https://upgini.com/#data_sources' target='_blank' rel='noopener noreferrer'>Markets data</a></td><td class='upgini-text'>Free</td></tr><tr><td class='upgini-text'>f_autofe_mul_0bc1cff4</td><td class='upgini-number'>0.0018</td><td class='upgini-number'>100.0000</td><td class='upgini-text'>149.4859, 26.2865, 46.9586</td><td class='upgini-text'><a href='https://upgini.com' target='_blank' rel='noopener noreferrer'>Upgini</a></td><td class='upgini-text'>AutoFE: features from <a href='https://upgini.com/#data_sources' target='_blank' rel='noopener noreferrer'>Markets data</a></td><td class='upgini-text'>Free</td></tr><tr><td class='upgini-text'>f_autofe_mul_acd980f4</td><td class='upgini-number'>0.0018</td><td class='upgini-number'>100.0000</td><td class='upgini-text'>-0.1934, -0.7031, 0.5181</td><td class='upgini-text'><a href='https://upgini.com' target='_blank' rel='noopener noreferrer'>Upgini</a></td><td class='upgini-text'>AutoFE: features from <a href='https://upgini.com/#data_sources' target='_blank' rel='noopener noreferrer'>Calendar data</a>,<a href='https://upgini.com/#data_sources' target='_blank' rel='noopener noreferrer'>Markets data</a></td><td class='upgini-text'>Free</td></tr><tr><td class='upgini-text'>f_autofe_mul_9a4ab68c</td><td class='upgini-number'>0.0016</td><td class='upgini-number'>100.0000</td><td class='upgini-text'>-3.8692, 9.1584, -3.8009</td><td class='upgini-text'><a href='https://upgini.com' target='_blank' rel='noopener noreferrer'>Upgini</a></td><td class='upgini-text'>AutoFE: features from <a href='https://upgini.com/#data_sources' target='_blank' rel='noopener noreferrer'>Calendar data</a>,<a href='https://upgini.com/#data_sources' target='_blank' rel='noopener noreferrer'>Markets data</a></td><td class='upgini-text'>Free</td></tr><tr><td class='upgini-text'>f_autofe_mul_0cc09d2d</td><td class='upgini-number'>0.0016</td><td class='upgini-number'>100.0000</td><td class='upgini-text'>86.7273, 36.2568, -12.3328</td><td class='upgini-text'><a href='https://upgini.com' target='_blank' rel='noopener noreferrer'>Upgini</a></td><td class='upgini-text'>AutoFE: features from <a href='https://upgini.com/#data_sources' target='_blank' rel='noopener noreferrer'>Calendar data</a>,<a href='https://upgini.com/#data_sources' target='_blank' rel='noopener noreferrer'>Markets data</a></td><td class='upgini-text'>Free</td></tr><tr><td class='upgini-text'>f_autofe_div_1ce27d18</td><td class='upgini-number'>0.0015</td><td class='upgini-number'>100.0000</td><td class='upgini-text'>-0.3931, -1.2351, -0.5304</td><td class='upgini-text'><a href='https://upgini.com' target='_blank' rel='noopener noreferrer'>Upgini</a></td><td class='upgini-text'>AutoFE: features from <a href='https://upgini.com/#data_sources' target='_blank' rel='noopener noreferrer'>Calendar data</a>,<a href='https://upgini.com/#data_sources' target='_blank' rel='noopener noreferrer'>Markets data</a></td><td class='upgini-text'>Free</td></tr><tr><td class='upgini-text'>f_autofe_mul_05ba522d</td><td class='upgini-number'>0.0015</td><td class='upgini-number'>100.0000</td><td class='upgini-text'>14.44, 16.2974, 14.5613</td><td class='upgini-text'><a href='https://upgini.com' target='_blank' rel='noopener noreferrer'>Upgini</a></td><td class='upgini-text'>AutoFE: features from <a href='https://upgini.com/#data_sources' target='_blank' rel='noopener noreferrer'>Markets data</a></td><td class='upgini-text'>Free</td></tr><tr><td class='upgini-text'>f_autofe_mul_08e89348</td><td class='upgini-number'>0.0014</td><td class='upgini-number'>100.0000</td><td class='upgini-text'>20.4576, 34.7133, -104.7658</td><td class='upgini-text'><a href='https://upgini.com' target='_blank' rel='noopener noreferrer'>Upgini</a></td><td class='upgini-text'>AutoFE: features from <a href='https://upgini.com/#data_sources' target='_blank' rel='noopener noreferrer'>Calendar data</a>,<a href='https://upgini.com/#data_sources' target='_blank' rel='noopener noreferrer'>Markets data</a></td><td class='upgini-text'>Free</td></tr><tr><td class='upgini-text'>f_autofe_div_210753e2</td><td class='upgini-number'>0.0013</td><td class='upgini-number'>100.0000</td><td class='upgini-text'>0.8882, 1.5448, 0.8521</td><td class='upgini-text'><a href='https://upgini.com' target='_blank' rel='noopener noreferrer'>Upgini</a></td><td class='upgini-text'>AutoFE: features from <a href='https://upgini.com/#data_sources' target='_blank' rel='noopener noreferrer'>Markets data</a></td><td class='upgini-text'>Free</td></tr><tr><td class='upgini-text'>f_autofe_div_1d266053</td><td class='upgini-number'>0.0012</td><td class='upgini-number'>100.0000</td><td class='upgini-text'>-0.798, 0.7938, -1.0859</td><td class='upgini-text'><a href='https://upgini.com' target='_blank' rel='noopener noreferrer'>Upgini</a></td><td class='upgini-text'>AutoFE: features from <a href='https://upgini.com/#data_sources' target='_blank' rel='noopener noreferrer'>Calendar data</a>,<a href='https://upgini.com/#data_sources' target='_blank' rel='noopener noreferrer'>Markets data</a></td><td class='upgini-text'>Free</td></tr><tr><td class='upgini-text'>f_autofe_mul_af6d166b</td><td class='upgini-number'>0.0011</td><td class='upgini-number'>100.0000</td><td class='upgini-text'>-0.2031, -0.1871, -0.8199</td><td class='upgini-text'><a href='https://upgini.com' target='_blank' rel='noopener noreferrer'>Upgini</a></td><td class='upgini-text'>AutoFE: features from <a href='https://upgini.com/#data_sources' target='_blank' rel='noopener noreferrer'>Calendar data</a>,<a href='https://upgini.com/#data_sources' target='_blank' rel='noopener noreferrer'>Markets data</a></td><td class='upgini-text'>Free</td></tr><tr><td class='upgini-text'>f_autofe_div_ab3bd138</td><td class='upgini-number'>0.0011</td><td class='upgini-number'>100.0000</td><td class='upgini-text'>1.0053, 1.1796, 1.0539</td><td class='upgini-text'><a href='https://upgini.com' target='_blank' rel='noopener noreferrer'>Upgini</a></td><td class='upgini-text'>AutoFE: features from <a href='https://upgini.com/#data_sources' target='_blank' rel='noopener noreferrer'>Markets data</a></td><td class='upgini-text'>Free</td></tr><tr><td class='upgini-text'>f_autofe_mul_6a97c336</td><td class='upgini-number'>0.0011</td><td class='upgini-number'>100.0000</td><td class='upgini-text'>0.4928, -0.215, -1.0254</td><td class='upgini-text'><a href='https://upgini.com' target='_blank' rel='noopener noreferrer'>Upgini</a></td><td class='upgini-text'>AutoFE: features from <a href='https://upgini.com/#data_sources' target='_blank' rel='noopener noreferrer'>Calendar data</a>,<a href='https://upgini.com/#data_sources' target='_blank' rel='noopener noreferrer'>Markets data</a></td><td class='upgini-text'>Free</td></tr><tr><td class='upgini-text'>f_autofe_div_c4537a19</td><td class='upgini-number'>0.0011</td><td class='upgini-number'>100.0000</td><td class='upgini-text'>0.0028, 0.0028, 0.0031</td><td class='upgini-text'><a href='https://upgini.com' target='_blank' rel='noopener noreferrer'>Upgini</a></td><td class='upgini-text'>AutoFE: features from <a href='https://upgini.com/#data_sources' target='_blank' rel='noopener noreferrer'>Markets data</a></td><td class='upgini-text'>Free</td></tr><tr><td class='upgini-text'>f_autofe_mul_44503c6f</td><td class='upgini-number'>0.0009</td><td class='upgini-number'>100.0000</td><td class='upgini-text'>5.0976, 5.0518, 7.7791</td><td class='upgini-text'><a href='https://upgini.com' target='_blank' rel='noopener noreferrer'>Upgini</a></td><td class='upgini-text'>AutoFE: features from <a href='https://upgini.com/#data_sources' target='_blank' rel='noopener noreferrer'>Markets data</a></td><td class='upgini-text'>Free</td></tr><tr><td class='upgini-text'>f_autofe_mul_1737bd2a</td><td class='upgini-number'>0.0009</td><td class='upgini-number'>100.0000</td><td class='upgini-text'>-0.1548, -0.9101, -0.2552</td><td class='upgini-text'><a href='https://upgini.com' target='_blank' rel='noopener noreferrer'>Upgini</a></td><td class='upgini-text'>AutoFE: features from <a href='https://upgini.com/#data_sources' target='_blank' rel='noopener noreferrer'>Calendar data</a>,<a href='https://upgini.com/#data_sources' target='_blank' rel='noopener noreferrer'>Markets data</a></td><td class='upgini-text'>Free</td></tr><tr><td class='upgini-text'>f_autofe_mul_8c2f1d42</td><td class='upgini-number'>0.0008</td><td class='upgini-number'>100.0000</td><td class='upgini-text'>-0.1563, 0.7467, 0.5573</td><td class='upgini-text'><a href='https://upgini.com' target='_blank' rel='noopener noreferrer'>Upgini</a></td><td class='upgini-text'>AutoFE: features from <a href='https://upgini.com/#data_sources' target='_blank' rel='noopener noreferrer'>Calendar data</a></td><td class='upgini-text'>Free</td></tr><tr><td class='upgini-text'>f_autofe_div_3109d259</td><td class='upgini-number'>0.0006</td><td class='upgini-number'>100.0000</td><td class='upgini-text'>-0.8582, -0.4179, -0.379</td><td class='upgini-text'><a href='https://upgini.com' target='_blank' rel='noopener noreferrer'>Upgini</a></td><td class='upgini-text'>AutoFE: features from <a href='https://upgini.com/#data_sources' target='_blank' rel='noopener noreferrer'>Calendar data</a>,<a href='https://upgini.com/#data_sources' target='_blank' rel='noopener noreferrer'>Markets data</a></td><td class='upgini-text'>Free</td></tr><tr><td class='upgini-text'>f_autofe_mul_156b207d</td><td class='upgini-number'>0.0006</td><td class='upgini-number'>100.0000</td><td class='upgini-text'>0.991, 1.2637, 1.0614</td><td class='upgini-text'><a href='https://upgini.com' target='_blank' rel='noopener noreferrer'>Upgini</a></td><td class='upgini-text'>AutoFE: features from <a href='https://upgini.com/#data_sources' target='_blank' rel='noopener noreferrer'>Markets data</a></td><td class='upgini-text'>Free</td></tr><tr><td class='upgini-text'>f_autofe_mul_dfd3cddf</td><td class='upgini-number'>0.0005</td><td class='upgini-number'>100.0000</td><td class='upgini-text'>0.5951, 0.6504, 0.8576</td><td class='upgini-text'><a href='https://upgini.com' target='_blank' rel='noopener noreferrer'>Upgini</a></td><td class='upgini-text'>AutoFE: features from <a href='https://upgini.com/#data_sources' target='_blank' rel='noopener noreferrer'>Calendar data</a>,<a href='https://upgini.com/#data_sources' target='_blank' rel='noopener noreferrer'>Markets data</a></td><td class='upgini-text'>Free</td></tr><tr><td class='upgini-text'><a href='https://docs.upgini.com/public/markets/finance#f_financial_date_stoxx_043cbcd4' target='_blank' rel='noopener noreferrer'>f_financial_date_stoxx_043cbcd4</a></td><td class='upgini-number'>0.0005</td><td class='upgini-number'>100.0000</td><td class='upgini-text'>322.12, 319.49, 344.75</td><td class='upgini-text'><a href='https://upgini.com' target='_blank' rel='noopener noreferrer'>Upgini</a></td><td class='upgini-text'><a href='https://upgini.com/#data_sources' target='_blank' rel='noopener noreferrer'>Markets data</a></td><td class='upgini-text'>Free</td></tr><tr><td class='upgini-text'><a href='https://docs.upgini.com/public/weather/weather_umap#f_weather_date_weather_umap_12_d03be9a0' target='_blank' rel='noopener noreferrer'>f_weather_date_weather_umap_12_d03be9a0</a></td><td class='upgini-number'>0.0004</td><td class='upgini-number'>100.0000</td><td class='upgini-text'>6.1198, 4.1905, 5.1236</td><td class='upgini-text'><a href='https://upgini.com' target='_blank' rel='noopener noreferrer'>Upgini</a></td><td class='upgini-text'><a href='https://upgini.com/#data_sources' target='_blank' rel='noopener noreferrer'>Weather & climate normals data</a></td><td class='upgini-text'>Premium</td></tr><tr><td class='upgini-text'>f_autofe_div_fb99ff57</td><td class='upgini-number'>0.0004</td><td class='upgini-number'>100.0000</td><td class='upgini-text'>274.7427, 329.8801, 323.3158</td><td class='upgini-text'><a href='https://upgini.com' target='_blank' rel='noopener noreferrer'>Upgini</a></td><td class='upgini-text'>AutoFE: features from <a href='https://upgini.com/#data_sources' target='_blank' rel='noopener noreferrer'>Markets data</a></td><td class='upgini-text'>Free</td></tr><tr><td class='upgini-text'><a href='https://docs.upgini.com/public/economics/cbpol_pca#f_economic_date_cbpol_pca_9_bde660b4' target='_blank' rel='noopener noreferrer'>f_economic_date_cbpol_pca_9_bde660b4</a></td><td class='upgini-number'>0.0004</td><td class='upgini-number'>100.0000</td><td class='upgini-text'>-2.3123, -0.9823, -2.8197</td><td class='upgini-text'><a href='https://upgini.com' target='_blank' rel='noopener noreferrer'>Upgini</a></td><td class='upgini-text'><a href='https://upgini.com/#data_sources' target='_blank' rel='noopener noreferrer'>World economic indicators</a></td><td class='upgini-text'>Free</td></tr><tr><td class='upgini-text'>f_autofe_div_270d64a2</td><td class='upgini-number'>0.0003</td><td class='upgini-number'>100.0000</td><td class='upgini-text'>0.8097, -0.19, -0.2598</td><td class='upgini-text'><a href='https://upgini.com' target='_blank' rel='noopener noreferrer'>Upgini</a></td><td class='upgini-text'>AutoFE: features from <a href='https://upgini.com/#data_sources' target='_blank' rel='noopener noreferrer'>Calendar data</a>,<a href='https://upgini.com/#data_sources' target='_blank' rel='noopener noreferrer'>Markets data</a></td><td class='upgini-text'>Free</td></tr><tr><td class='upgini-text'>f_autofe_mul_057844a2</td><td class='upgini-number'>0.0003</td><td class='upgini-number'>100.0000</td><td class='upgini-text'>-92.079, 56.74, 35.5763</td><td class='upgini-text'><a href='https://upgini.com' target='_blank' rel='noopener noreferrer'>Upgini</a></td><td class='upgini-text'>AutoFE: features from <a href='https://upgini.com/#data_sources' target='_blank' rel='noopener noreferrer'>Calendar data</a>,<a href='https://upgini.com/#data_sources' target='_blank' rel='noopener noreferrer'>Markets data</a></td><td class='upgini-text'>Free</td></tr><tr><td class='upgini-text'>f_autofe_mul_53c1ec55</td><td class='upgini-number'>0.0003</td><td class='upgini-number'>100.0000</td><td class='upgini-text'>20.438, 64.1072, -9.9912</td><td class='upgini-text'><a href='https://upgini.com' target='_blank' rel='noopener noreferrer'>Upgini</a></td><td class='upgini-text'>AutoFE: features from <a href='https://upgini.com/#data_sources' target='_blank' rel='noopener noreferrer'>Calendar data</a>,<a href='https://upgini.com/#data_sources' target='_blank' rel='noopener noreferrer'>Markets data</a></td><td class='upgini-text'>Free</td></tr><tr><td class='upgini-text'>f_autofe_mul_2cc31c95</td><td class='upgini-number'>0.0003</td><td class='upgini-number'>100.0000</td><td class='upgini-text'>-0.4361, -0.8223, 0.4456</td><td class='upgini-text'><a href='https://upgini.com' target='_blank' rel='noopener noreferrer'>Upgini</a></td><td class='upgini-text'>AutoFE: features from <a href='https://upgini.com/#data_sources' target='_blank' rel='noopener noreferrer'>Calendar data</a>,<a href='https://upgini.com/#data_sources' target='_blank' rel='noopener noreferrer'>Markets data</a></td><td class='upgini-text'>Free</td></tr><tr><td class='upgini-text'><a href='https://docs.upgini.com/public/economics/cbpol_umap#f_economic_date_cbpol_umap_4_c5ce4e90' target='_blank' rel='noopener noreferrer'>f_economic_date_cbpol_umap_4_c5ce4e90</a></td><td class='upgini-number'>0.0003</td><td class='upgini-number'>100.0000</td><td class='upgini-text'>8.3379, 8.3927, 8.4671</td><td class='upgini-text'><a href='https://upgini.com' target='_blank' rel='noopener noreferrer'>Upgini</a></td><td class='upgini-text'><a href='https://upgini.com/#data_sources' target='_blank' rel='noopener noreferrer'>World economic indicators</a></td><td class='upgini-text'>Free</td></tr><tr><td class='upgini-text'>f_autofe_mul_3c157d80</td><td class='upgini-number'>0.0002</td><td class='upgini-number'>100.0000</td><td class='upgini-text'>1.0679, -0.5691, 0.844</td><td class='upgini-text'><a href='https://upgini.com' target='_blank' rel='noopener noreferrer'>Upgini</a></td><td class='upgini-text'>AutoFE: features from <a href='https://upgini.com/#data_sources' target='_blank' rel='noopener noreferrer'>Calendar data</a>,<a href='https://upgini.com/#data_sources' target='_blank' rel='noopener noreferrer'>Markets data</a></td><td class='upgini-text'>Free</td></tr><tr><td class='upgini-text'>f_autofe_mul_c883f8a6</td><td class='upgini-number'>0.0002</td><td class='upgini-number'>100.0000</td><td class='upgini-text'>428.9874, 316.6266, 497.5593</td><td class='upgini-text'><a href='https://upgini.com' target='_blank' rel='noopener noreferrer'>Upgini</a></td><td class='upgini-text'>AutoFE: features from <a href='https://upgini.com/#data_sources' target='_blank' rel='noopener noreferrer'>Markets data</a></td><td class='upgini-text'>Free</td></tr><tr><td class='upgini-text'>f_autofe_div_b0916e06</td><td class='upgini-number'>0.0002</td><td class='upgini-number'>100.0000</td><td class='upgini-text'>1.0621, 1.2415, 1.537</td><td class='upgini-text'><a href='https://upgini.com' target='_blank' rel='noopener noreferrer'>Upgini</a></td><td class='upgini-text'>AutoFE: features from <a href='https://upgini.com/#data_sources' target='_blank' rel='noopener noreferrer'>Markets data</a></td><td class='upgini-text'>Free</td></tr><tr><td class='upgini-text'>f_autofe_mul_5c76b026</td><td class='upgini-number'>0.0001</td><td class='upgini-number'>100.0000</td><td class='upgini-text'>11.5944, 7.6914, 9.5409</td><td class='upgini-text'><a href='https://upgini.com' target='_blank' rel='noopener noreferrer'>Upgini</a></td><td class='upgini-text'>AutoFE: features from <a href='https://upgini.com/#data_sources' target='_blank' rel='noopener noreferrer'>Markets data</a></td><td class='upgini-text'>Free</td></tr></tbody></table>\n",
              "        </div>\n",
              "        "
            ]
          },
          "metadata": {}
        },
        {
          "output_type": "display_data",
          "data": {
            "text/plain": [
              "<IPython.core.display.HTML object>"
            ],
            "text/html": [
              "<style>\n",
              "            .upgini-df thead th {\n",
              "                font-weight:bold;\n",
              "                text-align: center;\n",
              "                padding: 0.5em;\n",
              "                border-bottom: 2px solid black;\n",
              "            }\n",
              "\n",
              "            .upgini-df tbody td {\n",
              "                padding: 0.5em;\n",
              "            }\n",
              "\n",
              "            .upgini-df tbody tr:nth-child(odd) {\n",
              "                background-color: #ffffff;\n",
              "            }\n",
              "\n",
              "            .upgini-df tbody tr:nth-child(even) {\n",
              "                background-color: #f2f2f2;\n",
              "            }\n",
              "\n",
              "            .upgini-text {\n",
              "                text-align: left;\n",
              "            }\n",
              "\n",
              "            .upgini-number {\n",
              "                text-align: center;\n",
              "            }\n",
              "        </style>\n",
              "        <h2>Relevant data sources</h2>\n",
              "        <div style=\"display:flex; flex-direction:column; align-items:flex-end; width: fit-content;\">\n",
              "            <div style=\"text-align: right\">\n",
              "                <button onclick=navigator.clipboard.writeText(decodeURI('Provider%09Source%09All%20features%20SHAP%09Number%20of%20relevant%20features%0AUpgini%09AutoFE%3A%20features%20from%20%3Ca%20href%3D%27https%3A%2F%2Fupgini.com%2F%23data_sources%27%20target%3D%27_blank%27%20rel%3D%27noopener%20noreferrer%27%3ECalendar%20data%3C%2Fa%3E,%3Ca%20href%3D%27https%3A%2F%2Fupgini.com%2F%23data_sources%27%20target%3D%27_blank%27%20rel%3D%27noopener%20noreferrer%27%3EMarkets%20data%3C%2Fa%3E%090.1113%0926%0AUpgini%09Weather%20%26%20climate%20normals%20data%090.050100000000000006%094%0AUpgini%09AutoFE%3A%20features%20from%20%3Ca%20href%3D%27https%3A%2F%2Fupgini.com%2F%23data_sources%27%20target%3D%27_blank%27%20rel%3D%27noopener%20noreferrer%27%3EMarkets%20data%3C%2Fa%3E%090.0164%0913%0AUpgini%09Calendar%20data%090.007%091%0AUpgini%09AutoFE%3A%20features%20from%20%3Ca%20href%3D%27https%3A%2F%2Fupgini.com%2F%23data_sources%27%20target%3D%27_blank%27%20rel%3D%27noopener%20noreferrer%27%3ECalendar%20data%3C%2Fa%3E%090.0031%092%0AUpgini%09World%20economic%20indicators%090.0007%092%0AUpgini%09Markets%20data%090.0005%091%0A'))>📂 Copy</button>\n",
              "                <a href='mailto:<Share with...>?subject=Relevant external data sources from Upgini.com&body=Provider%09Source%09All%20features%20SHAP%09Number%20of%20relevant%20features%0AUpgini%09AutoFE%3A%20features%20from%20%3Ca%20href%3D%27https%3A%2F%2Fupgini.com%2F%23data_sources%27%20target%3D%27_blank%27%20rel%3D%27noopener%20noreferrer%27%3ECalendar%20data%3C%2Fa%3E,%3Ca%20href%3D%27https%3A%2F%2Fupgini.com%2F%23data_sources%27%20target%3D%27_blank%27%20rel%3D%27noopener%20noreferrer%27%3EMarkets%20data%3C%2Fa%3E%090.1113%0926%0AUpgini%09Weather%20%26%20climate%20normals%20data%090.050100000000000006%094%0AUpgini%09AutoFE%3A%20features%20from%20%3Ca%20href%3D%27https%3A%2F%2Fupgini.com%2F%23data_sources%27%20target%3D%27_blank%27%20rel%3D%27noopener%20noreferrer%27%3EMarkets%20data%3C%2Fa%3E%090.0164%0913%0AUpgini%09Calendar%20data%090.007%091%0AUpgini%09AutoFE%3A%20features%20from%20%3Ca%20href%3D%27https%3A%2F%2Fupgini.com%2F%23data_sources%27%20target%3D%27_blank%27%20rel%3D%27noopener%20noreferrer%27%3ECalendar%20data%3C%2Fa%3E%090.0031%092%0AUpgini%09World%20economic%20indicators%090.0007%092%0AUpgini%09Markets%20data%090.0005%091%0A'>\n",
              "                    <button>📨 Share</button>\n",
              "                </a>\n",
              "            </div>\n",
              "            <table class='upgini-df'><thead><th>Provider</th><th>Source</th><th>All features SHAP</th><th>Number of relevant features</th></thead><tbody><tr><td class='upgini-text'><a href='https://upgini.com' target='_blank' rel='noopener noreferrer'>Upgini</a></td><td class='upgini-text'>AutoFE: features from <a href='https://upgini.com/#data_sources' target='_blank' rel='noopener noreferrer'>Calendar data</a>,<a href='https://upgini.com/#data_sources' target='_blank' rel='noopener noreferrer'>Markets data</a></td><td class='upgini-number'>0.1113</td><td class='upgini-number'>26</td></tr><tr><td class='upgini-text'><a href='https://upgini.com' target='_blank' rel='noopener noreferrer'>Upgini</a></td><td class='upgini-text'><a href='https://upgini.com/#data_sources' target='_blank' rel='noopener noreferrer'>Weather & climate normals data</a></td><td class='upgini-number'>0.0501</td><td class='upgini-number'>4</td></tr><tr><td class='upgini-text'><a href='https://upgini.com' target='_blank' rel='noopener noreferrer'>Upgini</a></td><td class='upgini-text'>AutoFE: features from <a href='https://upgini.com/#data_sources' target='_blank' rel='noopener noreferrer'>Markets data</a></td><td class='upgini-number'>0.0164</td><td class='upgini-number'>13</td></tr><tr><td class='upgini-text'><a href='https://upgini.com' target='_blank' rel='noopener noreferrer'>Upgini</a></td><td class='upgini-text'><a href='https://upgini.com/#data_sources' target='_blank' rel='noopener noreferrer'>Calendar data</a></td><td class='upgini-number'>0.0070</td><td class='upgini-number'>1</td></tr><tr><td class='upgini-text'><a href='https://upgini.com' target='_blank' rel='noopener noreferrer'>Upgini</a></td><td class='upgini-text'>AutoFE: features from <a href='https://upgini.com/#data_sources' target='_blank' rel='noopener noreferrer'>Calendar data</a></td><td class='upgini-number'>0.0031</td><td class='upgini-number'>2</td></tr><tr><td class='upgini-text'><a href='https://upgini.com' target='_blank' rel='noopener noreferrer'>Upgini</a></td><td class='upgini-text'><a href='https://upgini.com/#data_sources' target='_blank' rel='noopener noreferrer'>World economic indicators</a></td><td class='upgini-number'>0.0007</td><td class='upgini-number'>2</td></tr><tr><td class='upgini-text'><a href='https://upgini.com' target='_blank' rel='noopener noreferrer'>Upgini</a></td><td class='upgini-text'><a href='https://upgini.com/#data_sources' target='_blank' rel='noopener noreferrer'>Markets data</a></td><td class='upgini-number'>0.0005</td><td class='upgini-number'>1</td></tr></tbody></table>\n",
              "        </div>\n",
              "        "
            ]
          },
          "metadata": {}
        },
        {
          "output_type": "display_data",
          "data": {
            "text/plain": [
              "<IPython.core.display.HTML object>"
            ],
            "text/html": [
              "<style>\n",
              "            .upgini-df thead th {\n",
              "                font-weight:bold;\n",
              "                text-align: center;\n",
              "                padding: 0.5em;\n",
              "                border-bottom: 2px solid black;\n",
              "            }\n",
              "\n",
              "            .upgini-df tbody td {\n",
              "                padding: 0.5em;\n",
              "            }\n",
              "\n",
              "            .upgini-df tbody tr:nth-child(odd) {\n",
              "                background-color: #ffffff;\n",
              "            }\n",
              "\n",
              "            .upgini-df tbody tr:nth-child(even) {\n",
              "                background-color: #f2f2f2;\n",
              "            }\n",
              "\n",
              "            .upgini-text {\n",
              "                text-align: left;\n",
              "            }\n",
              "\n",
              "            .upgini-number {\n",
              "                text-align: center;\n",
              "            }\n",
              "        </style>\n",
              "        <h2>*Description of AutoFE feature names</h2>\n",
              "        <div style=\"display:flex; flex-direction:column; align-items:flex-end; width: fit-content;\">\n",
              "            <div style=\"text-align: right\">\n",
              "                <button onclick=navigator.clipboard.writeText(decodeURI('Sources%09Feature%20name%09Feature%201%09Feature%202%09Function%0A%3Ca%20href%3D%27https%3A%2F%2Fupgini.com%2F%23data_sources%27%20target%3D%27_blank%27%20rel%3D%27noopener%20noreferrer%27%3ECalendar%20data%3C%2Fa%3E,%3Ca%20href%3D%27https%3A%2F%2Fupgini.com%2F%23data_sources%27%20target%3D%27_blank%27%20rel%3D%27noopener%20noreferrer%27%3EMarkets%20data%3C%2Fa%3E%09f_autofe_div_50a5dcaf%09f_events_date_week_cos3_7525fe31%09f_financial_date_silver_7d_to_7d_1y_shift_55fa8001%09%2F%0A%3Ca%20href%3D%27https%3A%2F%2Fupgini.com%2F%23data_sources%27%20target%3D%27_blank%27%20rel%3D%27noopener%20noreferrer%27%3ECalendar%20data%3C%2Fa%3E,%3Ca%20href%3D%27https%3A%2F%2Fupgini.com%2F%23data_sources%27%20target%3D%27_blank%27%20rel%3D%27noopener%20noreferrer%27%3EMarkets%20data%3C%2Fa%3E%09f_autofe_mul_3f4a1860%09f_events_date_year_cos1_9014a856%09f_financial_date_crude_oil_7d_to_7d_1y_shift_718136ef%09%2A%0A%3Ca%20href%3D%27https%3A%2F%2Fupgini.com%2F%23data_sources%27%20target%3D%27_blank%27%20rel%3D%27noopener%20noreferrer%27%3ECalendar%20data%3C%2Fa%3E,%3Ca%20href%3D%27https%3A%2F%2Fupgini.com%2F%23data_sources%27%20target%3D%27_blank%27%20rel%3D%27noopener%20noreferrer%27%3EMarkets%20data%3C%2Fa%3E%09f_autofe_div_b603788b%09f_events_date_year_cos1_9014a856%09f_financial_date_crude_oil_7d_to_7d_1y_shift_718136ef%09%2F%0A%3Ca%20href%3D%27https%3A%2F%2Fupgini.com%2F%23data_sources%27%20target%3D%27_blank%27%20rel%3D%27noopener%20noreferrer%27%3ECalendar%20data%3C%2Fa%3E,%3Ca%20href%3D%27https%3A%2F%2Fupgini.com%2F%23data_sources%27%20target%3D%27_blank%27%20rel%3D%27noopener%20noreferrer%27%3EMarkets%20data%3C%2Fa%3E%09f_autofe_mul_28524d47%09f_events_date_year_cos1_9014a856%09f_financial_date_natural_gas_7d_to_1y_7a6f300d%09%2A%0A%3Ca%20href%3D%27https%3A%2F%2Fupgini.com%2F%23data_sources%27%20target%3D%27_blank%27%20rel%3D%27noopener%20noreferrer%27%3ECalendar%20data%3C%2Fa%3E,%3Ca%20href%3D%27https%3A%2F%2Fupgini.com%2F%23data_sources%27%20target%3D%27_blank%27%20rel%3D%27noopener%20noreferrer%27%3EMarkets%20data%3C%2Fa%3E%09f_autofe_div_029f75a6%09f_events_date_week_sin1_847b5db1%09f_financial_date_nasdaq_7d_to_7d_1y_shift_4a4dd6ce%09%2F%0A%3Ca%20href%3D%27https%3A%2F%2Fupgini.com%2F%23data_sources%27%20target%3D%27_blank%27%20rel%3D%27noopener%20noreferrer%27%3ECalendar%20data%3C%2Fa%3E,%3Ca%20href%3D%27https%3A%2F%2Fupgini.com%2F%23data_sources%27%20target%3D%27_blank%27%20rel%3D%27noopener%20noreferrer%27%3EMarkets%20data%3C%2Fa%3E%09f_autofe_mul_c256dd85%09f_events_date_week_sin1_847b5db1%09f_financial_date_crude_oil_7d_to_1y_c3e0ad17%09%2A%0A%3Ca%20href%3D%27https%3A%2F%2Fupgini.com%2F%23data_sources%27%20target%3D%27_blank%27%20rel%3D%27noopener%20noreferrer%27%3ECalendar%20data%3C%2Fa%3E,%3Ca%20href%3D%27https%3A%2F%2Fupgini.com%2F%23data_sources%27%20target%3D%27_blank%27%20rel%3D%27noopener%20noreferrer%27%3EMarkets%20data%3C%2Fa%3E%09f_autofe_div_20a12630%09f_events_date_year_cos1_9014a856%09f_financial_date_crude_oil_1f195998%09%2F%0A%3Ca%20href%3D%27https%3A%2F%2Fupgini.com%2F%23data_sources%27%20target%3D%27_blank%27%20rel%3D%27noopener%20noreferrer%27%3ECalendar%20data%3C%2Fa%3E,%3Ca%20href%3D%27https%3A%2F%2Fupgini.com%2F%23data_sources%27%20target%3D%27_blank%27%20rel%3D%27noopener%20noreferrer%27%3EMarkets%20data%3C%2Fa%3E%09f_autofe_div_3e22df83%09f_events_date_week_sin1_847b5db1%09f_financial_date_crude_oil_1f195998%09%2F%0A%3Ca%20href%3D%27https%3A%2F%2Fupgini.com%2F%23data_sources%27%20target%3D%27_blank%27%20rel%3D%27noopener%20noreferrer%27%3ECalendar%20data%3C%2Fa%3E,%3Ca%20href%3D%27https%3A%2F%2Fupgini.com%2F%23data_sources%27%20target%3D%27_blank%27%20rel%3D%27noopener%20noreferrer%27%3EMarkets%20data%3C%2Fa%3E%09f_autofe_div_d6db5d7a%09f_events_date_year_cos1_9014a856%09f_financial_date_crude_oil_7d_to_1y_c3e0ad17%09%2F%0A%3Ca%20href%3D%27https%3A%2F%2Fupgini.com%2F%23data_sources%27%20target%3D%27_blank%27%20rel%3D%27noopener%20noreferrer%27%3EMarkets%20data%3C%2Fa%3E%09f_autofe_mul_6234ba3a%09f_financial_date_crude_oil_7d_to_1y_c3e0ad17%09f_financial_date_silver_7d_to_7d_1y_shift_55fa8001%09%2A%0A%3Ca%20href%3D%27https%3A%2F%2Fupgini.com%2F%23data_sources%27%20target%3D%27_blank%27%20rel%3D%27noopener%20noreferrer%27%3EMarkets%20data%3C%2Fa%3E%09f_autofe_mul_4c9c7d0a%09f_financial_date_natural_gas_7d_to_1y_7a6f300d%09f_financial_date_silver_7d_to_7d_1y_shift_55fa8001%09%2A%0A%3Ca%20href%3D%27https%3A%2F%2Fupgini.com%2F%23data_sources%27%20target%3D%27_blank%27%20rel%3D%27noopener%20noreferrer%27%3ECalendar%20data%3C%2Fa%3E%09f_autofe_div_7eba89b2%09f_events_date_week_cos3_7525fe31%09f_events_date_week_sin1_847b5db1%09%2F%0A%3Ca%20href%3D%27https%3A%2F%2Fupgini.com%2F%23data_sources%27%20target%3D%27_blank%27%20rel%3D%27noopener%20noreferrer%27%3ECalendar%20data%3C%2Fa%3E,%3Ca%20href%3D%27https%3A%2F%2Fupgini.com%2F%23data_sources%27%20target%3D%27_blank%27%20rel%3D%27noopener%20noreferrer%27%3EMarkets%20data%3C%2Fa%3E%09f_autofe_mul_d8d61774%09f_events_date_week_sin1_847b5db1%09f_financial_date_gold_7d_to_1y_ae310379%09%2A%0A%3Ca%20href%3D%27https%3A%2F%2Fupgini.com%2F%23data_sources%27%20target%3D%27_blank%27%20rel%3D%27noopener%20noreferrer%27%3EMarkets%20data%3C%2Fa%3E%09f_autofe_mul_0bc1cff4%09f_financial_date_crude_oil_1f195998%09f_financial_date_natural_gas_7d_to_7d_1y_shift_a5c3c07f%09%2A%0A%3Ca%20href%3D%27https%3A%2F%2Fupgini.com%2F%23data_sources%27%20target%3D%27_blank%27%20rel%3D%27noopener%20noreferrer%27%3ECalendar%20data%3C%2Fa%3E,%3Ca%20href%3D%27https%3A%2F%2Fupgini.com%2F%23data_sources%27%20target%3D%27_blank%27%20rel%3D%27noopener%20noreferrer%27%3EMarkets%20data%3C%2Fa%3E%09f_autofe_mul_acd980f4%09f_events_date_week_cos1_f6a8c1fc%09f_financial_date_silver_7d_to_7d_1y_shift_55fa8001%09%2A%0A%3Ca%20href%3D%27https%3A%2F%2Fupgini.com%2F%23data_sources%27%20target%3D%27_blank%27%20rel%3D%27noopener%20noreferrer%27%3ECalendar%20data%3C%2Fa%3E,%3Ca%20href%3D%27https%3A%2F%2Fupgini.com%2F%23data_sources%27%20target%3D%27_blank%27%20rel%3D%27noopener%20noreferrer%27%3EMarkets%20data%3C%2Fa%3E%09f_autofe_mul_9a4ab68c%09f_events_date_week_cos1_f6a8c1fc%09f_financial_date_silver_e4e33014%09%2A%0A%3Ca%20href%3D%27https%3A%2F%2Fupgini.com%2F%23data_sources%27%20target%3D%27_blank%27%20rel%3D%27noopener%20noreferrer%27%3ECalendar%20data%3C%2Fa%3E,%3Ca%20href%3D%27https%3A%2F%2Fupgini.com%2F%23data_sources%27%20target%3D%27_blank%27%20rel%3D%27noopener%20noreferrer%27%3EMarkets%20data%3C%2Fa%3E%09f_autofe_mul_0cc09d2d%09f_events_date_year_cos1_9014a856%09f_financial_date_crude_oil_1f195998%09%2A%0A%3Ca%20href%3D%27https%3A%2F%2Fupgini.com%2F%23data_sources%27%20target%3D%27_blank%27%20rel%3D%27noopener%20noreferrer%27%3ECalendar%20data%3C%2Fa%3E,%3Ca%20href%3D%27https%3A%2F%2Fupgini.com%2F%23data_sources%27%20target%3D%27_blank%27%20rel%3D%27noopener%20noreferrer%27%3EMarkets%20data%3C%2Fa%3E%09f_autofe_div_1ce27d18%09f_events_date_week_sin1_847b5db1%09f_financial_date_crude_oil_7d_to_1y_c3e0ad17%09%2F%0A%3Ca%20href%3D%27https%3A%2F%2Fupgini.com%2F%23data_sources%27%20target%3D%27_blank%27%20rel%3D%27noopener%20noreferrer%27%3EMarkets%20data%3C%2Fa%3E%09f_autofe_mul_05ba522d%09f_financial_date_silver_e4e33014%09f_financial_date_silver_7d_to_7d_1y_shift_55fa8001%09%2A%0A%3Ca%20href%3D%27https%3A%2F%2Fupgini.com%2F%23data_sources%27%20target%3D%27_blank%27%20rel%3D%27noopener%20noreferrer%27%3ECalendar%20data%3C%2Fa%3E,%3Ca%20href%3D%27https%3A%2F%2Fupgini.com%2F%23data_sources%27%20target%3D%27_blank%27%20rel%3D%27noopener%20noreferrer%27%3EMarkets%20data%3C%2Fa%3E%09f_autofe_mul_08e89348%09f_events_date_week_sin1_847b5db1%09f_financial_date_crude_oil_1f195998%09%2A%0A%3Ca%20href%3D%27https%3A%2F%2Fupgini.com%2F%23data_sources%27%20target%3D%27_blank%27%20rel%3D%27noopener%20noreferrer%27%3EMarkets%20data%3C%2Fa%3E%09f_autofe_div_210753e2%09f_financial_date_natural_gas_7d_to_7d_1y_shift_a5c3c07f%09f_financial_date_silver_7d_to_7d_1y_shift_55fa8001%09%2F%0A%3Ca%20href%3D%27https%3A%2F%2Fupgini.com%2F%23data_sources%27%20target%3D%27_blank%27%20rel%3D%27noopener%20noreferrer%27%3ECalendar%20data%3C%2Fa%3E,%3Ca%20href%3D%27https%3A%2F%2Fupgini.com%2F%23data_sources%27%20target%3D%27_blank%27%20rel%3D%27noopener%20noreferrer%27%3EMarkets%20data%3C%2Fa%3E%09f_autofe_div_1d266053%09f_events_date_week_cos3_7525fe31%09f_financial_date_crude_oil_7d_to_1y_c3e0ad17%09%2F%0A%3Ca%20href%3D%27https%3A%2F%2Fupgini.com%2F%23data_sources%27%20target%3D%27_blank%27%20rel%3D%27noopener%20noreferrer%27%3ECalendar%20data%3C%2Fa%3E,%3Ca%20href%3D%27https%3A%2F%2Fupgini.com%2F%23data_sources%27%20target%3D%27_blank%27%20rel%3D%27noopener%20noreferrer%27%3EMarkets%20data%3C%2Fa%3E%09f_autofe_mul_af6d166b%09f_events_date_week_cos3_7525fe31%09f_financial_date_vix_7d_to_1y_634c77eb%09%2A%0A%3Ca%20href%3D%27https%3A%2F%2Fupgini.com%2F%23data_sources%27%20target%3D%27_blank%27%20rel%3D%27noopener%20noreferrer%27%3EMarkets%20data%3C%2Fa%3E%09f_autofe_div_ab3bd138%09f_financial_date_nasdaq_7d_to_7d_1y_shift_4a4dd6ce%09f_financial_date_snp500_7d_to_1y_378b9f99%09%2F%0A%3Ca%20href%3D%27https%3A%2F%2Fupgini.com%2F%23data_sources%27%20target%3D%27_blank%27%20rel%3D%27noopener%20noreferrer%27%3ECalendar%20data%3C%2Fa%3E,%3Ca%20href%3D%27https%3A%2F%2Fupgini.com%2F%23data_sources%27%20target%3D%27_blank%27%20rel%3D%27noopener%20noreferrer%27%3EMarkets%20data%3C%2Fa%3E%09f_autofe_mul_6a97c336%09f_events_date_week_cos1_f6a8c1fc%09f_financial_date_vix_7d_to_1y_634c77eb%09%2A%0A%3Ca%20href%3D%27https%3A%2F%2Fupgini.com%2F%23data_sources%27%20target%3D%27_blank%27%20rel%3D%27noopener%20noreferrer%27%3EMarkets%20data%3C%2Fa%3E%09f_autofe_div_c4537a19%09f_financial_date_snp500_7d_to_1y_378b9f99%09f_financial_date_stoxx_043cbcd4%09%2F%0A%3Ca%20href%3D%27https%3A%2F%2Fupgini.com%2F%23data_sources%27%20target%3D%27_blank%27%20rel%3D%27noopener%20noreferrer%27%3EMarkets%20data%3C%2Fa%3E%09f_autofe_mul_44503c6f%09f_financial_date_natural_gas_92dac942%09f_financial_date_natural_gas_7d_to_7d_1y_shift_a5c3c07f%09%2A%0A%3Ca%20href%3D%27https%3A%2F%2Fupgini.com%2F%23data_sources%27%20target%3D%27_blank%27%20rel%3D%27noopener%20noreferrer%27%3ECalendar%20data%3C%2Fa%3E,%3Ca%20href%3D%27https%3A%2F%2Fupgini.com%2F%23data_sources%27%20target%3D%27_blank%27%20rel%3D%27noopener%20noreferrer%27%3EMarkets%20data%3C%2Fa%3E%09f_autofe_mul_1737bd2a%09f_events_date_week_cos3_7525fe31%09f_financial_date_natural_gas_7d_to_1y_7a6f300d%09%2A%0A%3Ca%20href%3D%27https%3A%2F%2Fupgini.com%2F%23data_sources%27%20target%3D%27_blank%27%20rel%3D%27noopener%20noreferrer%27%3ECalendar%20data%3C%2Fa%3E%09f_autofe_mul_8c2f1d42%09f_events_date_week_cos3_7525fe31%09f_events_date_year_cos1_9014a856%09%2A%0A%3Ca%20href%3D%27https%3A%2F%2Fupgini.com%2F%23data_sources%27%20target%3D%27_blank%27%20rel%3D%27noopener%20noreferrer%27%3ECalendar%20data%3C%2Fa%3E,%3Ca%20href%3D%27https%3A%2F%2Fupgini.com%2F%23data_sources%27%20target%3D%27_blank%27%20rel%3D%27noopener%20noreferrer%27%3EMarkets%20data%3C%2Fa%3E%09f_autofe_div_3109d259%09f_events_date_week_sin1_847b5db1%09f_financial_date_stoxx_7d_to_1y_2ea815f4%09%2F%0A%3Ca%20href%3D%27https%3A%2F%2Fupgini.com%2F%23data_sources%27%20target%3D%27_blank%27%20rel%3D%27noopener%20noreferrer%27%3EMarkets%20data%3C%2Fa%3E%09f_autofe_mul_156b207d%09f_financial_date_nasdaq_7d_to_7d_1y_shift_4a4dd6ce%09f_financial_date_stoxx_7d_to_7d_1y_shift_abef6e91%09%2A%0A%3Ca%20href%3D%27https%3A%2F%2Fupgini.com%2F%23data_sources%27%20target%3D%27_blank%27%20rel%3D%27noopener%20noreferrer%27%3ECalendar%20data%3C%2Fa%3E,%3Ca%20href%3D%27https%3A%2F%2Fupgini.com%2F%23data_sources%27%20target%3D%27_blank%27%20rel%3D%27noopener%20noreferrer%27%3EMarkets%20data%3C%2Fa%3E%09f_autofe_mul_dfd3cddf%09f_events_date_week_sin1_847b5db1%09f_financial_date_crude_oil_7d_to_7d_1y_shift_718136ef%09%2A%0A%3Ca%20href%3D%27https%3A%2F%2Fupgini.com%2F%23data_sources%27%20target%3D%27_blank%27%20rel%3D%27noopener%20noreferrer%27%3EMarkets%20data%3C%2Fa%3E%09f_autofe_div_fb99ff57%09f_financial_date_stoxx_043cbcd4%09f_financial_date_usd_7d_to_7d_1y_shift_35cb53e9%09%2F%0A%3Ca%20href%3D%27https%3A%2F%2Fupgini.com%2F%23data_sources%27%20target%3D%27_blank%27%20rel%3D%27noopener%20noreferrer%27%3ECalendar%20data%3C%2Fa%3E,%3Ca%20href%3D%27https%3A%2F%2Fupgini.com%2F%23data_sources%27%20target%3D%27_blank%27%20rel%3D%27noopener%20noreferrer%27%3EMarkets%20data%3C%2Fa%3E%09f_autofe_div_270d64a2%09f_events_date_week_cos1_f6a8c1fc%09f_financial_date_crude_oil_7d_to_1y_c3e0ad17%09%2F%0A%3Ca%20href%3D%27https%3A%2F%2Fupgini.com%2F%23data_sources%27%20target%3D%27_blank%27%20rel%3D%27noopener%20noreferrer%27%3ECalendar%20data%3C%2Fa%3E,%3Ca%20href%3D%27https%3A%2F%2Fupgini.com%2F%23data_sources%27%20target%3D%27_blank%27%20rel%3D%27noopener%20noreferrer%27%3EMarkets%20data%3C%2Fa%3E%09f_autofe_mul_057844a2%09f_events_date_week_cos3_7525fe31%09f_financial_date_crude_oil_1f195998%09%2A%0A%3Ca%20href%3D%27https%3A%2F%2Fupgini.com%2F%23data_sources%27%20target%3D%27_blank%27%20rel%3D%27noopener%20noreferrer%27%3ECalendar%20data%3C%2Fa%3E,%3Ca%20href%3D%27https%3A%2F%2Fupgini.com%2F%23data_sources%27%20target%3D%27_blank%27%20rel%3D%27noopener%20noreferrer%27%3EMarkets%20data%3C%2Fa%3E%09f_autofe_mul_53c1ec55%09f_events_date_week_cos1_f6a8c1fc%09f_financial_date_crude_oil_1f195998%09%2A%0A%3Ca%20href%3D%27https%3A%2F%2Fupgini.com%2F%23data_sources%27%20target%3D%27_blank%27%20rel%3D%27noopener%20noreferrer%27%3ECalendar%20data%3C%2Fa%3E,%3Ca%20href%3D%27https%3A%2F%2Fupgini.com%2F%23data_sources%27%20target%3D%27_blank%27%20rel%3D%27noopener%20noreferrer%27%3EMarkets%20data%3C%2Fa%3E%09f_autofe_mul_2cc31c95%09f_events_date_year_cos2_7acbaf1b%09f_financial_date_natural_gas_7d_to_7d_1y_shift_a5c3c07f%09%2A%0A%3Ca%20href%3D%27https%3A%2F%2Fupgini.com%2F%23data_sources%27%20target%3D%27_blank%27%20rel%3D%27noopener%20noreferrer%27%3ECalendar%20data%3C%2Fa%3E,%3Ca%20href%3D%27https%3A%2F%2Fupgini.com%2F%23data_sources%27%20target%3D%27_blank%27%20rel%3D%27noopener%20noreferrer%27%3EMarkets%20data%3C%2Fa%3E%09f_autofe_mul_3c157d80%09f_events_date_week_cos3_7525fe31%09f_financial_date_crude_oil_7d_to_7d_1y_shift_718136ef%09%2A%0A%3Ca%20href%3D%27https%3A%2F%2Fupgini.com%2F%23data_sources%27%20target%3D%27_blank%27%20rel%3D%27noopener%20noreferrer%27%3EMarkets%20data%3C%2Fa%3E%09f_autofe_mul_c883f8a6%09f_financial_date_nasdaq_7d_to_7d_1y_shift_4a4dd6ce%09f_financial_date_stoxx_043cbcd4%09%2A%0A%3Ca%20href%3D%27https%3A%2F%2Fupgini.com%2F%23data_sources%27%20target%3D%27_blank%27%20rel%3D%27noopener%20noreferrer%27%3EMarkets%20data%3C%2Fa%3E%09f_autofe_div_b0916e06%09f_financial_date_silver_e4e33014%09f_financial_date_vix_6c8e6194%09%2F%0A%3Ca%20href%3D%27https%3A%2F%2Fupgini.com%2F%23data_sources%27%20target%3D%27_blank%27%20rel%3D%27noopener%20noreferrer%27%3EMarkets%20data%3C%2Fa%3E%09f_autofe_mul_5c76b026%09f_financial_date_natural_gas_7d_to_7d_1y_shift_a5c3c07f%09f_financial_date_silver_e4e33014%09%2A%0A'))>📂 Copy</button>\n",
              "                <a href='mailto:<Share with...>?subject=Relevant external data sources from Upgini.com&body=Sources%09Feature%20name%09Feature%201%09Feature%202%09Function%0A%3Ca%20href%3D%27https%3A%2F%2Fupgini.com%2F%23data_sources%27%20target%3D%27_blank%27%20rel%3D%27noopener%20noreferrer%27%3ECalendar%20data%3C%2Fa%3E,%3Ca%20href%3D%27https%3A%2F%2Fupgini.com%2F%23data_sources%27%20target%3D%27_blank%27%20rel%3D%27noopener%20noreferrer%27%3EMarkets%20data%3C%2Fa%3E%09f_autofe_div_50a5dcaf%09f_events_date_week_cos3_7525fe31%09f_financial_date_silver_7d_to_7d_1y_shift_55fa8001%09%2F%0A%3Ca%20href%3D%27https%3A%2F%2Fupgini.com%2F%23data_sources%27%20target%3D%27_blank%27%20rel%3D%27noopener%20noreferrer%27%3ECalendar%20data%3C%2Fa%3E,%3Ca%20href%3D%27https%3A%2F%2Fupgini.com%2F%23data_sources%27%20target%3D%27_blank%27%20rel%3D%27noopener%20noreferrer%27%3EMarkets%20data%3C%2Fa%3E%09f_autofe_mul_3f4a1860%09f_events_date_year_cos1_9014a856%09f_financial_date_crude_oil_7d_to_7d_1y_shift_718136ef%09%2A%0A%3Ca%20href%3D%27https%3A%2F%2Fupgini.com%2F%23data_sources%27%20target%3D%27_blank%27%20rel%3D%27noopener%20noreferrer%27%3ECalendar%20data%3C%2Fa%3E,%3Ca%20href%3D%27https%3A%2F%2Fupgini.com%2F%23data_sources%27%20target%3D%27_blank%27%20rel%3D%27noopener%20noreferrer%27%3EMarkets%20data%3C%2Fa%3E%09f_autofe_div_b603788b%09f_events_date_year_cos1_9014a856%09f_financial_date_crude_oil_7d_to_7d_1y_shift_718136ef%09%2F%0A%3Ca%20href%3D%27https%3A%2F%2Fupgini.com%2F%23data_sources%27%20target%3D%27_blank%27%20rel%3D%27noopener%20noreferrer%27%3ECalendar%20data%3C%2Fa%3E,%3Ca%20href%3D%27https%3A%2F%2Fupgini.com%2F%23data_sources%27%20target%3D%27_blank%27%20rel%3D%27noopener%20noreferrer%27%3EMarkets%20data%3C%2Fa%3E%09f_autofe_mul_28524d47%09f_events_date_year_cos1_9014a856%09f_financial_date_natural_gas_7d_to_1y_7a6f300d%09%2A%0A%3Ca%20href%3D%27https%3A%2F%2Fupgini.com%2F%23data_sources%27%20target%3D%27_blank%27%20rel%3D%27noopener%20noreferrer%27%3ECalendar%20data%3C%2Fa%3E,%3Ca%20href%3D%27https%3A%2F%2Fupgini.com%2F%23data_sources%27%20target%3D%27_blank%27%20rel%3D%27noopener%20noreferrer%27%3EMarkets%20data%3C%2Fa%3E%09f_autofe_div_029f75a6%09f_events_date_week_sin1_847b5db1%09f_financial_date_nasdaq_7d_to_7d_1y_shift_4a4dd6ce%09%2F%0A%3Ca%20href%3D%27https%3A%2F%2Fupgini.com%2F%23data_sources%27%20target%3D%27_blank%27%20rel%3D%27noopener%20noreferrer%27%3ECalendar%20data%3C%2Fa%3E,%3Ca%20href%3D%27https%3A%2F%2Fupgini.com%2F%23data_sources%27%20target%3D%27_blank%27%20rel%3D%27noopener%20noreferrer%27%3EMarkets%20data%3C%2Fa%3E%09f_autofe_mul_c256dd85%09f_events_date_week_sin1_847b5db1%09f_financial_date_crude_oil_7d_to_1y_c3e0ad17%09%2A%0A%3Ca%20href%3D%27https%3A%2F%2Fupgini.com%2F%23data_sources%27%20target%3D%27_blank%27%20rel%3D%27noopener%20noreferrer%27%3ECalendar%20data%3C%2Fa%3E,%3Ca%20href%3D%27https%3A%2F%2Fupgini.com%2F%23data_sources%27%20target%3D%27_blank%27%20rel%3D%27noopener%20noreferrer%27%3EMarkets%20data%3C%2Fa%3E%09f_autofe_div_20a12630%09f_events_date_year_cos1_9014a856%09f_financial_date_crude_oil_1f195998%09%2F%0A%3Ca%20href%3D%27https%3A%2F%2Fupgini.com%2F%23data_sources%27%20target%3D%27_blank%27%20rel%3D%27noopener%20noreferrer%27%3ECalendar%20data%3C%2Fa%3E,%3Ca%20href%3D%27https%3A%2F%2Fupgini.com%2F%23data_sources%27%20target%3D%27_blank%27%20rel%3D%27noopener%20noreferrer%27%3EMarkets%20data%3C%2Fa%3E%09f_autofe_div_3e22df83%09f_events_date_week_sin1_847b5db1%09f_financial_date_crude_oil_1f195998%09%2F%0A%3Ca%20href%3D%27https%3A%2F%2Fupgini.com%2F%23data_sources%27%20target%3D%27_blank%27%20rel%3D%27noopener%20noreferrer%27%3ECalendar%20data%3C%2Fa%3E,%3Ca%20href%3D%27https%3A%2F%2Fupgini.com%2F%23data_sources%27%20target%3D%27_blank%27%20rel%3D%27noopener%20noreferrer%27%3EMarkets%20data%3C%2Fa%3E%09f_autofe_div_d6db5d7a%09f_events_date_year_cos1_9014a856%09f_financial_date_crude_oil_7d_to_1y_c3e0ad17%09%2F%0A%3Ca%20href%3D%27https%3A%2F%2Fupgini.com%2F%23data_sources%27%20target%3D%27_blank%27%20rel%3D%27noopener%20noreferrer%27%3EMarkets%20data%3C%2Fa%3E%09f_autofe_mul_6234ba3a%09f_financial_date_crude_oil_7d_to_1y_c3e0ad17%09f_financial_date_silver_7d_to_7d_1y_shift_55fa8001%09%2A%0A%3Ca%20href%3D%27https%3A%2F%2Fupgini.com%2F%23data_sources%27%20target%3D%27_blank%27%20rel%3D%27noopener%20noreferrer%27%3EMarkets%20data%3C%2Fa%3E%09f_autofe_mul_4c9c7d0a%09f_financial_date_natural_gas_7d_to_1y_7a6f300d%09f_financial_date_silver_7d_to_7d_1y_shift_55fa8001%09%2A%0A%3Ca%20href%3D%27https%3A%2F%2Fupgini.com%2F%23data_sources%27%20target%3D%27_blank%27%20rel%3D%27noopener%20noreferrer%27%3ECalendar%20data%3C%2Fa%3E%09f_autofe_div_7eba89b2%09f_events_date_week_cos3_7525fe31%09f_events_date_week_sin1_847b5db1%09%2F%0A%3Ca%20href%3D%27https%3A%2F%2Fupgini.com%2F%23data_sources%27%20target%3D%27_blank%27%20rel%3D%27noopener%20noreferrer%27%3ECalendar%20data%3C%2Fa%3E,%3Ca%20href%3D%27https%3A%2F%2Fupgini.com%2F%23data_sources%27%20target%3D%27_blank%27%20rel%3D%27noopener%20noreferrer%27%3EMarkets%20data%3C%2Fa%3E%09f_autofe_mul_d8d61774%09f_events_date_week_sin1_847b5db1%09f_financial_date_gold_7d_to_1y_ae310379%09%2A%0A%3Ca%20href%3D%27https%3A%2F%2Fupgini.com%2F%23data_sources%27%20target%3D%27_blank%27%20rel%3D%27noopener%20noreferrer%27%3EMarkets%20data%3C%2Fa%3E%09f_autofe_mul_0bc1cff4%09f_financial_date_crude_oil_1f195998%09f_financial_date_natural_gas_7d_to_7d_1y_shift_a5c3c07f%09%2A%0A%3Ca%20href%3D%27https%3A%2F%2Fupgini.com%2F%23data_sources%27%20target%3D%27_blank%27%20rel%3D%27noopener%20noreferrer%27%3ECalendar%20data%3C%2Fa%3E,%3Ca%20href%3D%27https%3A%2F%2Fupgini.com%2F%23data_sources%27%20target%3D%27_blank%27%20rel%3D%27noopener%20noreferrer%27%3EMarkets%20data%3C%2Fa%3E%09f_autofe_mul_acd980f4%09f_events_date_week_cos1_f6a8c1fc%09f_financial_date_silver_7d_to_7d_1y_shift_55fa8001%09%2A%0A%3Ca%20href%3D%27https%3A%2F%2Fupgini.com%2F%23data_sources%27%20target%3D%27_blank%27%20rel%3D%27noopener%20noreferrer%27%3ECalendar%20data%3C%2Fa%3E,%3Ca%20href%3D%27https%3A%2F%2Fupgini.com%2F%23data_sources%27%20target%3D%27_blank%27%20rel%3D%27noopener%20noreferrer%27%3EMarkets%20data%3C%2Fa%3E%09f_autofe_mul_9a4ab68c%09f_events_date_week_cos1_f6a8c1fc%09f_financial_date_silver_e4e33014%09%2A%0A%3Ca%20href%3D%27https%3A%2F%2Fupgini.com%2F%23data_sources%27%20target%3D%27_blank%27%20rel%3D%27noopener%20noreferrer%27%3ECalendar%20data%3C%2Fa%3E,%3Ca%20href%3D%27https%3A%2F%2Fupgini.com%2F%23data_sources%27%20target%3D%27_blank%27%20rel%3D%27noopener%20noreferrer%27%3EMarkets%20data%3C%2Fa%3E%09f_autofe_mul_0cc09d2d%09f_events_date_year_cos1_9014a856%09f_financial_date_crude_oil_1f195998%09%2A%0A%3Ca%20href%3D%27https%3A%2F%2Fupgini.com%2F%23data_sources%27%20target%3D%27_blank%27%20rel%3D%27noopener%20noreferrer%27%3ECalendar%20data%3C%2Fa%3E,%3Ca%20href%3D%27https%3A%2F%2Fupgini.com%2F%23data_sources%27%20target%3D%27_blank%27%20rel%3D%27noopener%20noreferrer%27%3EMarkets%20data%3C%2Fa%3E%09f_autofe_div_1ce27d18%09f_events_date_week_sin1_847b5db1%09f_financial_date_crude_oil_7d_to_1y_c3e0ad17%09%2F%0A%3Ca%20href%3D%27https%3A%2F%2Fupgini.com%2F%23data_sources%27%20target%3D%27_blank%27%20rel%3D%27noopener%20noreferrer%27%3EMarkets%20data%3C%2Fa%3E%09f_autofe_mul_05ba522d%09f_financial_date_silver_e4e33014%09f_financial_date_silver_7d_to_7d_1y_shift_55fa8001%09%2A%0A%3Ca%20href%3D%27https%3A%2F%2Fupgini.com%2F%23data_sources%27%20target%3D%27_blank%27%20rel%3D%27noopener%20noreferrer%27%3ECalendar%20data%3C%2Fa%3E,%3Ca%20href%3D%27https%3A%2F%2Fupgini.com%2F%23data_sources%27%20target%3D%27_blank%27%20rel%3D%27noopener%20noreferrer%27%3EMarkets%20data%3C%2Fa%3E%09f_autofe_mul_08e89348%09f_events_date_week_sin1_847b5db1%09f_financial_date_crude_oil_1f195998%09%2A%0A%3Ca%20href%3D%27https%3A%2F%2Fupgini.com%2F%23data_sources%27%20target%3D%27_blank%27%20rel%3D%27noopener%20noreferrer%27%3EMarkets%20data%3C%2Fa%3E%09f_autofe_div_210753e2%09f_financial_date_natural_gas_7d_to_7d_1y_shift_a5c3c07f%09f_financial_date_silver_7d_to_7d_1y_shift_55fa8001%09%2F%0A%3Ca%20href%3D%27https%3A%2F%2Fupgini.com%2F%23data_sources%27%20target%3D%27_blank%27%20rel%3D%27noopener%20noreferrer%27%3ECalendar%20data%3C%2Fa%3E,%3Ca%20href%3D%27https%3A%2F%2Fupgini.com%2F%23data_sources%27%20target%3D%27_blank%27%20rel%3D%27noopener%20noreferrer%27%3EMarkets%20data%3C%2Fa%3E%09f_autofe_div_1d266053%09f_events_date_week_cos3_7525fe31%09f_financial_date_crude_oil_7d_to_1y_c3e0ad17%09%2F%0A%3Ca%20href%3D%27https%3A%2F%2Fupgini.com%2F%23data_sources%27%20target%3D%27_blank%27%20rel%3D%27noopener%20noreferrer%27%3ECalendar%20data%3C%2Fa%3E,%3Ca%20href%3D%27https%3A%2F%2Fupgini.com%2F%23data_sources%27%20target%3D%27_blank%27%20rel%3D%27noopener%20noreferrer%27%3EMarkets%20data%3C%2Fa%3E%09f_autofe_mul_af6d166b%09f_events_date_week_cos3_7525fe31%09f_financial_date_vix_7d_to_1y_634c77eb%09%2A%0A%3Ca%20href%3D%27https%3A%2F%2Fupgini.com%2F%23data_sources%27%20target%3D%27_blank%27%20rel%3D%27noopener%20noreferrer%27%3EMarkets%20data%3C%2Fa%3E%09f_autofe_div_ab3bd138%09f_financial_date_nasdaq_7d_to_7d_1y_shift_4a4dd6ce%09f_financial_date_snp500_7d_to_1y_378b9f99%09%2F%0A%3Ca%20href%3D%27https%3A%2F%2Fupgini.com%2F%23data_sources%27%20target%3D%27_blank%27%20rel%3D%27noopener%20noreferrer%27%3ECalendar%20data%3C%2Fa%3E,%3Ca%20href%3D%27https%3A%2F%2Fupgini.com%2F%23data_sources%27%20target%3D%27_blank%27%20rel%3D%27noopener%20noreferrer%27%3EMarkets%20data%3C%2Fa%3E%09f_autofe_mul_6a97c336%09f_events_date_week_cos1_f6a8c1fc%09f_financial_date_vix_7d_to_1y_634c77eb%09%2A%0A%3Ca%20href%3D%27https%3A%2F%2Fupgini.com%2F%23data_sources%27%20target%3D%27_blank%27%20rel%3D%27noopener%20noreferrer%27%3EMarkets%20data%3C%2Fa%3E%09f_autofe_div_c4537a19%09f_financial_date_snp500_7d_to_1y_378b9f99%09f_financial_date_stoxx_043cbcd4%09%2F%0A%3Ca%20href%3D%27https%3A%2F%2Fupgini.com%2F%23data_sources%27%20target%3D%27_blank%27%20rel%3D%27noopener%20noreferrer%27%3EMarkets%20data%3C%2Fa%3E%09f_autofe_mul_44503c6f%09f_financial_date_natural_gas_92dac942%09f_financial_date_natural_gas_7d_to_7d_1y_shift_a5c3c07f%09%2A%0A%3Ca%20href%3D%27https%3A%2F%2Fupgini.com%2F%23data_sources%27%20target%3D%27_blank%27%20rel%3D%27noopener%20noreferrer%27%3ECalendar%20data%3C%2Fa%3E,%3Ca%20href%3D%27https%3A%2F%2Fupgini.com%2F%23data_sources%27%20target%3D%27_blank%27%20rel%3D%27noopener%20noreferrer%27%3EMarkets%20data%3C%2Fa%3E%09f_autofe_mul_1737bd2a%09f_events_date_week_cos3_7525fe31%09f_financial_date_natural_gas_7d_to_1y_7a6f300d%09%2A%0A%3Ca%20href%3D%27https%3A%2F%2Fupgini.com%2F%23data_sources%27%20target%3D%27_blank%27%20rel%3D%27noopener%20noreferrer%27%3ECalendar%20data%3C%2Fa%3E%09f_autofe_mul_8c2f1d42%09f_events_date_week_cos3_7525fe31%09f_events_date_year_cos1_9014a856%09%2A%0A%3Ca%20href%3D%27https%3A%2F%2Fupgini.com%2F%23data_sources%27%20target%3D%27_blank%27%20rel%3D%27noopener%20noreferrer%27%3ECalendar%20data%3C%2Fa%3E,%3Ca%20href%3D%27https%3A%2F%2Fupgini.com%2F%23data_sources%27%20target%3D%27_blank%27%20rel%3D%27noopener%20noreferrer%27%3EMarkets%20data%3C%2Fa%3E%09f_autofe_div_3109d259%09f_events_date_week_sin1_847b5db1%09f_financial_date_stoxx_7d_to_1y_2ea815f4%09%2F%0A%3Ca%20href%3D%27https%3A%2F%2Fupgini.com%2F%23data_sources%27%20target%3D%27_blank%27%20rel%3D%27noopener%20noreferrer%27%3EMarkets%20data%3C%2Fa%3E%09f_autofe_mul_156b207d%09f_financial_date_nasdaq_7d_to_7d_1y_shift_4a4dd6ce%09f_financial_date_stoxx_7d_to_7d_1y_shift_abef6e91%09%2A%0A%3Ca%20href%3D%27https%3A%2F%2Fupgini.com%2F%23data_sources%27%20target%3D%27_blank%27%20rel%3D%27noopener%20noreferrer%27%3ECalendar%20data%3C%2Fa%3E,%3Ca%20href%3D%27https%3A%2F%2Fupgini.com%2F%23data_sources%27%20target%3D%27_blank%27%20rel%3D%27noopener%20noreferrer%27%3EMarkets%20data%3C%2Fa%3E%09f_autofe_mul_dfd3cddf%09f_events_date_week_sin1_847b5db1%09f_financial_date_crude_oil_7d_to_7d_1y_shift_718136ef%09%2A%0A%3Ca%20href%3D%27https%3A%2F%2Fupgini.com%2F%23data_sources%27%20target%3D%27_blank%27%20rel%3D%27noopener%20noreferrer%27%3EMarkets%20data%3C%2Fa%3E%09f_autofe_div_fb99ff57%09f_financial_date_stoxx_043cbcd4%09f_financial_date_usd_7d_to_7d_1y_shift_35cb53e9%09%2F%0A%3Ca%20href%3D%27https%3A%2F%2Fupgini.com%2F%23data_sources%27%20target%3D%27_blank%27%20rel%3D%27noopener%20noreferrer%27%3ECalendar%20data%3C%2Fa%3E,%3Ca%20href%3D%27https%3A%2F%2Fupgini.com%2F%23data_sources%27%20target%3D%27_blank%27%20rel%3D%27noopener%20noreferrer%27%3EMarkets%20data%3C%2Fa%3E%09f_autofe_div_270d64a2%09f_events_date_week_cos1_f6a8c1fc%09f_financial_date_crude_oil_7d_to_1y_c3e0ad17%09%2F%0A%3Ca%20href%3D%27https%3A%2F%2Fupgini.com%2F%23data_sources%27%20target%3D%27_blank%27%20rel%3D%27noopener%20noreferrer%27%3ECalendar%20data%3C%2Fa%3E,%3Ca%20href%3D%27https%3A%2F%2Fupgini.com%2F%23data_sources%27%20target%3D%27_blank%27%20rel%3D%27noopener%20noreferrer%27%3EMarkets%20data%3C%2Fa%3E%09f_autofe_mul_057844a2%09f_events_date_week_cos3_7525fe31%09f_financial_date_crude_oil_1f195998%09%2A%0A%3Ca%20href%3D%27https%3A%2F%2Fupgini.com%2F%23data_sources%27%20target%3D%27_blank%27%20rel%3D%27noopener%20noreferrer%27%3ECalendar%20data%3C%2Fa%3E,%3Ca%20href%3D%27https%3A%2F%2Fupgini.com%2F%23data_sources%27%20target%3D%27_blank%27%20rel%3D%27noopener%20noreferrer%27%3EMarkets%20data%3C%2Fa%3E%09f_autofe_mul_53c1ec55%09f_events_date_week_cos1_f6a8c1fc%09f_financial_date_crude_oil_1f195998%09%2A%0A%3Ca%20href%3D%27https%3A%2F%2Fupgini.com%2F%23data_sources%27%20target%3D%27_blank%27%20rel%3D%27noopener%20noreferrer%27%3ECalendar%20data%3C%2Fa%3E,%3Ca%20href%3D%27https%3A%2F%2Fupgini.com%2F%23data_sources%27%20target%3D%27_blank%27%20rel%3D%27noopener%20noreferrer%27%3EMarkets%20data%3C%2Fa%3E%09f_autofe_mul_2cc31c95%09f_events_date_year_cos2_7acbaf1b%09f_financial_date_natural_gas_7d_to_7d_1y_shift_a5c3c07f%09%2A%0A%3Ca%20href%3D%27https%3A%2F%2Fupgini.com%2F%23data_sources%27%20target%3D%27_blank%27%20rel%3D%27noopener%20noreferrer%27%3ECalendar%20data%3C%2Fa%3E,%3Ca%20href%3D%27https%3A%2F%2Fupgini.com%2F%23data_sources%27%20target%3D%27_blank%27%20rel%3D%27noopener%20noreferrer%27%3EMarkets%20data%3C%2Fa%3E%09f_autofe_mul_3c157d80%09f_events_date_week_cos3_7525fe31%09f_financial_date_crude_oil_7d_to_7d_1y_shift_718136ef%09%2A%0A%3Ca%20href%3D%27https%3A%2F%2Fupgini.com%2F%23data_sources%27%20target%3D%27_blank%27%20rel%3D%27noopener%20noreferrer%27%3EMarkets%20data%3C%2Fa%3E%09f_autofe_mul_c883f8a6%09f_financial_date_nasdaq_7d_to_7d_1y_shift_4a4dd6ce%09f_financial_date_stoxx_043cbcd4%09%2A%0A%3Ca%20href%3D%27https%3A%2F%2Fupgini.com%2F%23data_sources%27%20target%3D%27_blank%27%20rel%3D%27noopener%20noreferrer%27%3EMarkets%20data%3C%2Fa%3E%09f_autofe_div_b0916e06%09f_financial_date_silver_e4e33014%09f_financial_date_vix_6c8e6194%09%2F%0A%3Ca%20href%3D%27https%3A%2F%2Fupgini.com%2F%23data_sources%27%20target%3D%27_blank%27%20rel%3D%27noopener%20noreferrer%27%3EMarkets%20data%3C%2Fa%3E%09f_autofe_mul_5c76b026%09f_financial_date_natural_gas_7d_to_7d_1y_shift_a5c3c07f%09f_financial_date_silver_e4e33014%09%2A%0A'>\n",
              "                    <button>📨 Share</button>\n",
              "                </a>\n",
              "            </div>\n",
              "            <table class='upgini-df'><thead><th>Sources</th><th>Feature name</th><th>Feature 1</th><th>Feature 2</th><th>Function</th></thead><tbody><tr><td class='upgini-text'><a href='https://upgini.com/#data_sources' target='_blank' rel='noopener noreferrer'>Calendar data</a>,<a href='https://upgini.com/#data_sources' target='_blank' rel='noopener noreferrer'>Markets data</a></td><td class='upgini-text'>f_autofe_div_50a5dcaf</td><td class='upgini-text'>f_events_date_week_cos3_7525fe31</td><td class='upgini-text'>f_financial_date_silver_7d_to_7d_1y_shift_55fa8001</td><td class='upgini-text'>/</td></tr><tr><td class='upgini-text'><a href='https://upgini.com/#data_sources' target='_blank' rel='noopener noreferrer'>Calendar data</a>,<a href='https://upgini.com/#data_sources' target='_blank' rel='noopener noreferrer'>Markets data</a></td><td class='upgini-text'>f_autofe_mul_3f4a1860</td><td class='upgini-text'>f_events_date_year_cos1_9014a856</td><td class='upgini-text'>f_financial_date_crude_oil_7d_to_7d_1y_shift_718136ef</td><td class='upgini-text'>*</td></tr><tr><td class='upgini-text'><a href='https://upgini.com/#data_sources' target='_blank' rel='noopener noreferrer'>Calendar data</a>,<a href='https://upgini.com/#data_sources' target='_blank' rel='noopener noreferrer'>Markets data</a></td><td class='upgini-text'>f_autofe_div_b603788b</td><td class='upgini-text'>f_events_date_year_cos1_9014a856</td><td class='upgini-text'>f_financial_date_crude_oil_7d_to_7d_1y_shift_718136ef</td><td class='upgini-text'>/</td></tr><tr><td class='upgini-text'><a href='https://upgini.com/#data_sources' target='_blank' rel='noopener noreferrer'>Calendar data</a>,<a href='https://upgini.com/#data_sources' target='_blank' rel='noopener noreferrer'>Markets data</a></td><td class='upgini-text'>f_autofe_mul_28524d47</td><td class='upgini-text'>f_events_date_year_cos1_9014a856</td><td class='upgini-text'>f_financial_date_natural_gas_7d_to_1y_7a6f300d</td><td class='upgini-text'>*</td></tr><tr><td class='upgini-text'><a href='https://upgini.com/#data_sources' target='_blank' rel='noopener noreferrer'>Calendar data</a>,<a href='https://upgini.com/#data_sources' target='_blank' rel='noopener noreferrer'>Markets data</a></td><td class='upgini-text'>f_autofe_div_029f75a6</td><td class='upgini-text'>f_events_date_week_sin1_847b5db1</td><td class='upgini-text'>f_financial_date_nasdaq_7d_to_7d_1y_shift_4a4dd6ce</td><td class='upgini-text'>/</td></tr><tr><td class='upgini-text'><a href='https://upgini.com/#data_sources' target='_blank' rel='noopener noreferrer'>Calendar data</a>,<a href='https://upgini.com/#data_sources' target='_blank' rel='noopener noreferrer'>Markets data</a></td><td class='upgini-text'>f_autofe_mul_c256dd85</td><td class='upgini-text'>f_events_date_week_sin1_847b5db1</td><td class='upgini-text'>f_financial_date_crude_oil_7d_to_1y_c3e0ad17</td><td class='upgini-text'>*</td></tr><tr><td class='upgini-text'><a href='https://upgini.com/#data_sources' target='_blank' rel='noopener noreferrer'>Calendar data</a>,<a href='https://upgini.com/#data_sources' target='_blank' rel='noopener noreferrer'>Markets data</a></td><td class='upgini-text'>f_autofe_div_20a12630</td><td class='upgini-text'>f_events_date_year_cos1_9014a856</td><td class='upgini-text'>f_financial_date_crude_oil_1f195998</td><td class='upgini-text'>/</td></tr><tr><td class='upgini-text'><a href='https://upgini.com/#data_sources' target='_blank' rel='noopener noreferrer'>Calendar data</a>,<a href='https://upgini.com/#data_sources' target='_blank' rel='noopener noreferrer'>Markets data</a></td><td class='upgini-text'>f_autofe_div_3e22df83</td><td class='upgini-text'>f_events_date_week_sin1_847b5db1</td><td class='upgini-text'>f_financial_date_crude_oil_1f195998</td><td class='upgini-text'>/</td></tr><tr><td class='upgini-text'><a href='https://upgini.com/#data_sources' target='_blank' rel='noopener noreferrer'>Calendar data</a>,<a href='https://upgini.com/#data_sources' target='_blank' rel='noopener noreferrer'>Markets data</a></td><td class='upgini-text'>f_autofe_div_d6db5d7a</td><td class='upgini-text'>f_events_date_year_cos1_9014a856</td><td class='upgini-text'>f_financial_date_crude_oil_7d_to_1y_c3e0ad17</td><td class='upgini-text'>/</td></tr><tr><td class='upgini-text'><a href='https://upgini.com/#data_sources' target='_blank' rel='noopener noreferrer'>Markets data</a></td><td class='upgini-text'>f_autofe_mul_6234ba3a</td><td class='upgini-text'>f_financial_date_crude_oil_7d_to_1y_c3e0ad17</td><td class='upgini-text'>f_financial_date_silver_7d_to_7d_1y_shift_55fa8001</td><td class='upgini-text'>*</td></tr><tr><td class='upgini-text'><a href='https://upgini.com/#data_sources' target='_blank' rel='noopener noreferrer'>Markets data</a></td><td class='upgini-text'>f_autofe_mul_4c9c7d0a</td><td class='upgini-text'>f_financial_date_natural_gas_7d_to_1y_7a6f300d</td><td class='upgini-text'>f_financial_date_silver_7d_to_7d_1y_shift_55fa8001</td><td class='upgini-text'>*</td></tr><tr><td class='upgini-text'><a href='https://upgini.com/#data_sources' target='_blank' rel='noopener noreferrer'>Calendar data</a></td><td class='upgini-text'>f_autofe_div_7eba89b2</td><td class='upgini-text'>f_events_date_week_cos3_7525fe31</td><td class='upgini-text'>f_events_date_week_sin1_847b5db1</td><td class='upgini-text'>/</td></tr><tr><td class='upgini-text'><a href='https://upgini.com/#data_sources' target='_blank' rel='noopener noreferrer'>Calendar data</a>,<a href='https://upgini.com/#data_sources' target='_blank' rel='noopener noreferrer'>Markets data</a></td><td class='upgini-text'>f_autofe_mul_d8d61774</td><td class='upgini-text'>f_events_date_week_sin1_847b5db1</td><td class='upgini-text'>f_financial_date_gold_7d_to_1y_ae310379</td><td class='upgini-text'>*</td></tr><tr><td class='upgini-text'><a href='https://upgini.com/#data_sources' target='_blank' rel='noopener noreferrer'>Markets data</a></td><td class='upgini-text'>f_autofe_mul_0bc1cff4</td><td class='upgini-text'>f_financial_date_crude_oil_1f195998</td><td class='upgini-text'>f_financial_date_natural_gas_7d_to_7d_1y_shift_a5c3c07f</td><td class='upgini-text'>*</td></tr><tr><td class='upgini-text'><a href='https://upgini.com/#data_sources' target='_blank' rel='noopener noreferrer'>Calendar data</a>,<a href='https://upgini.com/#data_sources' target='_blank' rel='noopener noreferrer'>Markets data</a></td><td class='upgini-text'>f_autofe_mul_acd980f4</td><td class='upgini-text'>f_events_date_week_cos1_f6a8c1fc</td><td class='upgini-text'>f_financial_date_silver_7d_to_7d_1y_shift_55fa8001</td><td class='upgini-text'>*</td></tr><tr><td class='upgini-text'><a href='https://upgini.com/#data_sources' target='_blank' rel='noopener noreferrer'>Calendar data</a>,<a href='https://upgini.com/#data_sources' target='_blank' rel='noopener noreferrer'>Markets data</a></td><td class='upgini-text'>f_autofe_mul_9a4ab68c</td><td class='upgini-text'>f_events_date_week_cos1_f6a8c1fc</td><td class='upgini-text'>f_financial_date_silver_e4e33014</td><td class='upgini-text'>*</td></tr><tr><td class='upgini-text'><a href='https://upgini.com/#data_sources' target='_blank' rel='noopener noreferrer'>Calendar data</a>,<a href='https://upgini.com/#data_sources' target='_blank' rel='noopener noreferrer'>Markets data</a></td><td class='upgini-text'>f_autofe_mul_0cc09d2d</td><td class='upgini-text'>f_events_date_year_cos1_9014a856</td><td class='upgini-text'>f_financial_date_crude_oil_1f195998</td><td class='upgini-text'>*</td></tr><tr><td class='upgini-text'><a href='https://upgini.com/#data_sources' target='_blank' rel='noopener noreferrer'>Calendar data</a>,<a href='https://upgini.com/#data_sources' target='_blank' rel='noopener noreferrer'>Markets data</a></td><td class='upgini-text'>f_autofe_div_1ce27d18</td><td class='upgini-text'>f_events_date_week_sin1_847b5db1</td><td class='upgini-text'>f_financial_date_crude_oil_7d_to_1y_c3e0ad17</td><td class='upgini-text'>/</td></tr><tr><td class='upgini-text'><a href='https://upgini.com/#data_sources' target='_blank' rel='noopener noreferrer'>Markets data</a></td><td class='upgini-text'>f_autofe_mul_05ba522d</td><td class='upgini-text'>f_financial_date_silver_e4e33014</td><td class='upgini-text'>f_financial_date_silver_7d_to_7d_1y_shift_55fa8001</td><td class='upgini-text'>*</td></tr><tr><td class='upgini-text'><a href='https://upgini.com/#data_sources' target='_blank' rel='noopener noreferrer'>Calendar data</a>,<a href='https://upgini.com/#data_sources' target='_blank' rel='noopener noreferrer'>Markets data</a></td><td class='upgini-text'>f_autofe_mul_08e89348</td><td class='upgini-text'>f_events_date_week_sin1_847b5db1</td><td class='upgini-text'>f_financial_date_crude_oil_1f195998</td><td class='upgini-text'>*</td></tr><tr><td class='upgini-text'><a href='https://upgini.com/#data_sources' target='_blank' rel='noopener noreferrer'>Markets data</a></td><td class='upgini-text'>f_autofe_div_210753e2</td><td class='upgini-text'>f_financial_date_natural_gas_7d_to_7d_1y_shift_a5c3c07f</td><td class='upgini-text'>f_financial_date_silver_7d_to_7d_1y_shift_55fa8001</td><td class='upgini-text'>/</td></tr><tr><td class='upgini-text'><a href='https://upgini.com/#data_sources' target='_blank' rel='noopener noreferrer'>Calendar data</a>,<a href='https://upgini.com/#data_sources' target='_blank' rel='noopener noreferrer'>Markets data</a></td><td class='upgini-text'>f_autofe_div_1d266053</td><td class='upgini-text'>f_events_date_week_cos3_7525fe31</td><td class='upgini-text'>f_financial_date_crude_oil_7d_to_1y_c3e0ad17</td><td class='upgini-text'>/</td></tr><tr><td class='upgini-text'><a href='https://upgini.com/#data_sources' target='_blank' rel='noopener noreferrer'>Calendar data</a>,<a href='https://upgini.com/#data_sources' target='_blank' rel='noopener noreferrer'>Markets data</a></td><td class='upgini-text'>f_autofe_mul_af6d166b</td><td class='upgini-text'>f_events_date_week_cos3_7525fe31</td><td class='upgini-text'>f_financial_date_vix_7d_to_1y_634c77eb</td><td class='upgini-text'>*</td></tr><tr><td class='upgini-text'><a href='https://upgini.com/#data_sources' target='_blank' rel='noopener noreferrer'>Markets data</a></td><td class='upgini-text'>f_autofe_div_ab3bd138</td><td class='upgini-text'>f_financial_date_nasdaq_7d_to_7d_1y_shift_4a4dd6ce</td><td class='upgini-text'>f_financial_date_snp500_7d_to_1y_378b9f99</td><td class='upgini-text'>/</td></tr><tr><td class='upgini-text'><a href='https://upgini.com/#data_sources' target='_blank' rel='noopener noreferrer'>Calendar data</a>,<a href='https://upgini.com/#data_sources' target='_blank' rel='noopener noreferrer'>Markets data</a></td><td class='upgini-text'>f_autofe_mul_6a97c336</td><td class='upgini-text'>f_events_date_week_cos1_f6a8c1fc</td><td class='upgini-text'>f_financial_date_vix_7d_to_1y_634c77eb</td><td class='upgini-text'>*</td></tr><tr><td class='upgini-text'><a href='https://upgini.com/#data_sources' target='_blank' rel='noopener noreferrer'>Markets data</a></td><td class='upgini-text'>f_autofe_div_c4537a19</td><td class='upgini-text'>f_financial_date_snp500_7d_to_1y_378b9f99</td><td class='upgini-text'>f_financial_date_stoxx_043cbcd4</td><td class='upgini-text'>/</td></tr><tr><td class='upgini-text'><a href='https://upgini.com/#data_sources' target='_blank' rel='noopener noreferrer'>Markets data</a></td><td class='upgini-text'>f_autofe_mul_44503c6f</td><td class='upgini-text'>f_financial_date_natural_gas_92dac942</td><td class='upgini-text'>f_financial_date_natural_gas_7d_to_7d_1y_shift_a5c3c07f</td><td class='upgini-text'>*</td></tr><tr><td class='upgini-text'><a href='https://upgini.com/#data_sources' target='_blank' rel='noopener noreferrer'>Calendar data</a>,<a href='https://upgini.com/#data_sources' target='_blank' rel='noopener noreferrer'>Markets data</a></td><td class='upgini-text'>f_autofe_mul_1737bd2a</td><td class='upgini-text'>f_events_date_week_cos3_7525fe31</td><td class='upgini-text'>f_financial_date_natural_gas_7d_to_1y_7a6f300d</td><td class='upgini-text'>*</td></tr><tr><td class='upgini-text'><a href='https://upgini.com/#data_sources' target='_blank' rel='noopener noreferrer'>Calendar data</a></td><td class='upgini-text'>f_autofe_mul_8c2f1d42</td><td class='upgini-text'>f_events_date_week_cos3_7525fe31</td><td class='upgini-text'>f_events_date_year_cos1_9014a856</td><td class='upgini-text'>*</td></tr><tr><td class='upgini-text'><a href='https://upgini.com/#data_sources' target='_blank' rel='noopener noreferrer'>Calendar data</a>,<a href='https://upgini.com/#data_sources' target='_blank' rel='noopener noreferrer'>Markets data</a></td><td class='upgini-text'>f_autofe_div_3109d259</td><td class='upgini-text'>f_events_date_week_sin1_847b5db1</td><td class='upgini-text'>f_financial_date_stoxx_7d_to_1y_2ea815f4</td><td class='upgini-text'>/</td></tr><tr><td class='upgini-text'><a href='https://upgini.com/#data_sources' target='_blank' rel='noopener noreferrer'>Markets data</a></td><td class='upgini-text'>f_autofe_mul_156b207d</td><td class='upgini-text'>f_financial_date_nasdaq_7d_to_7d_1y_shift_4a4dd6ce</td><td class='upgini-text'>f_financial_date_stoxx_7d_to_7d_1y_shift_abef6e91</td><td class='upgini-text'>*</td></tr><tr><td class='upgini-text'><a href='https://upgini.com/#data_sources' target='_blank' rel='noopener noreferrer'>Calendar data</a>,<a href='https://upgini.com/#data_sources' target='_blank' rel='noopener noreferrer'>Markets data</a></td><td class='upgini-text'>f_autofe_mul_dfd3cddf</td><td class='upgini-text'>f_events_date_week_sin1_847b5db1</td><td class='upgini-text'>f_financial_date_crude_oil_7d_to_7d_1y_shift_718136ef</td><td class='upgini-text'>*</td></tr><tr><td class='upgini-text'><a href='https://upgini.com/#data_sources' target='_blank' rel='noopener noreferrer'>Markets data</a></td><td class='upgini-text'>f_autofe_div_fb99ff57</td><td class='upgini-text'>f_financial_date_stoxx_043cbcd4</td><td class='upgini-text'>f_financial_date_usd_7d_to_7d_1y_shift_35cb53e9</td><td class='upgini-text'>/</td></tr><tr><td class='upgini-text'><a href='https://upgini.com/#data_sources' target='_blank' rel='noopener noreferrer'>Calendar data</a>,<a href='https://upgini.com/#data_sources' target='_blank' rel='noopener noreferrer'>Markets data</a></td><td class='upgini-text'>f_autofe_div_270d64a2</td><td class='upgini-text'>f_events_date_week_cos1_f6a8c1fc</td><td class='upgini-text'>f_financial_date_crude_oil_7d_to_1y_c3e0ad17</td><td class='upgini-text'>/</td></tr><tr><td class='upgini-text'><a href='https://upgini.com/#data_sources' target='_blank' rel='noopener noreferrer'>Calendar data</a>,<a href='https://upgini.com/#data_sources' target='_blank' rel='noopener noreferrer'>Markets data</a></td><td class='upgini-text'>f_autofe_mul_057844a2</td><td class='upgini-text'>f_events_date_week_cos3_7525fe31</td><td class='upgini-text'>f_financial_date_crude_oil_1f195998</td><td class='upgini-text'>*</td></tr><tr><td class='upgini-text'><a href='https://upgini.com/#data_sources' target='_blank' rel='noopener noreferrer'>Calendar data</a>,<a href='https://upgini.com/#data_sources' target='_blank' rel='noopener noreferrer'>Markets data</a></td><td class='upgini-text'>f_autofe_mul_53c1ec55</td><td class='upgini-text'>f_events_date_week_cos1_f6a8c1fc</td><td class='upgini-text'>f_financial_date_crude_oil_1f195998</td><td class='upgini-text'>*</td></tr><tr><td class='upgini-text'><a href='https://upgini.com/#data_sources' target='_blank' rel='noopener noreferrer'>Calendar data</a>,<a href='https://upgini.com/#data_sources' target='_blank' rel='noopener noreferrer'>Markets data</a></td><td class='upgini-text'>f_autofe_mul_2cc31c95</td><td class='upgini-text'>f_events_date_year_cos2_7acbaf1b</td><td class='upgini-text'>f_financial_date_natural_gas_7d_to_7d_1y_shift_a5c3c07f</td><td class='upgini-text'>*</td></tr><tr><td class='upgini-text'><a href='https://upgini.com/#data_sources' target='_blank' rel='noopener noreferrer'>Calendar data</a>,<a href='https://upgini.com/#data_sources' target='_blank' rel='noopener noreferrer'>Markets data</a></td><td class='upgini-text'>f_autofe_mul_3c157d80</td><td class='upgini-text'>f_events_date_week_cos3_7525fe31</td><td class='upgini-text'>f_financial_date_crude_oil_7d_to_7d_1y_shift_718136ef</td><td class='upgini-text'>*</td></tr><tr><td class='upgini-text'><a href='https://upgini.com/#data_sources' target='_blank' rel='noopener noreferrer'>Markets data</a></td><td class='upgini-text'>f_autofe_mul_c883f8a6</td><td class='upgini-text'>f_financial_date_nasdaq_7d_to_7d_1y_shift_4a4dd6ce</td><td class='upgini-text'>f_financial_date_stoxx_043cbcd4</td><td class='upgini-text'>*</td></tr><tr><td class='upgini-text'><a href='https://upgini.com/#data_sources' target='_blank' rel='noopener noreferrer'>Markets data</a></td><td class='upgini-text'>f_autofe_div_b0916e06</td><td class='upgini-text'>f_financial_date_silver_e4e33014</td><td class='upgini-text'>f_financial_date_vix_6c8e6194</td><td class='upgini-text'>/</td></tr><tr><td class='upgini-text'><a href='https://upgini.com/#data_sources' target='_blank' rel='noopener noreferrer'>Markets data</a></td><td class='upgini-text'>f_autofe_mul_5c76b026</td><td class='upgini-text'>f_financial_date_natural_gas_7d_to_7d_1y_shift_a5c3c07f</td><td class='upgini-text'>f_financial_date_silver_e4e33014</td><td class='upgini-text'>*</td></tr></tbody></table>\n",
              "        </div>\n",
              "        "
            ]
          },
          "metadata": {}
        },
        {
          "output_type": "stream",
          "name": "stdout",
          "text": [
            "We detected 113 outliers in your sample.\n",
            "Examples of outliers with maximum value of target:\n",
            "84    205\n",
            "47    196\n",
            "38    187\n",
            "Name: target, dtype: int64\n",
            "Outliers will be excluded during the metrics calculation.\n",
            "Calculating accuracy uplift after enrichment...\n",
            "\n",
            "WARNING: y distributions from the training sample and eval_set differ according to the Kolmogorov-Smirnov test,\n",
            "which makes metrics between the train and eval_set incomparable.\n"
          ]
        },
        {
          "output_type": "display_data",
          "data": {
            "text/plain": [
              "<IPython.core.display.HTML object>"
            ],
            "text/html": [
              "<style>\n",
              "            .upgini-df thead th {\n",
              "                font-weight:bold;\n",
              "                text-align: center;\n",
              "                padding: 0.5em;\n",
              "                border-bottom: 2px solid black;\n",
              "            }\n",
              "\n",
              "            .upgini-df tbody td {\n",
              "                padding: 0.5em;\n",
              "            }\n",
              "\n",
              "            .upgini-df tbody tr:nth-child(odd) {\n",
              "                background-color: #ffffff;\n",
              "            }\n",
              "\n",
              "            .upgini-df tbody tr:nth-child(even) {\n",
              "                background-color: #f2f2f2;\n",
              "            }\n",
              "\n",
              "            .upgini-text {\n",
              "                text-align: left;\n",
              "            }\n",
              "\n",
              "            .upgini-number {\n",
              "                text-align: center;\n",
              "            }\n",
              "        </style>\n",
              "        <h2>Accuracy after enrichment</h2>\n",
              "        <div style=\"display:flex; flex-direction:column; align-items:flex-end; width: fit-content;\">\n",
              "            <div style=\"text-align: right\">\n",
              "                <button onclick=navigator.clipboard.writeText(decodeURI('Dataset%20type%09Rows%09Mean%20target%09Baseline%20mean_squared_error%09Enriched%20mean_squared_error%09Uplift%0ATrain%0915213%0950.3977%09301.2608650185969%09194.2737089475844%09106.98715607101252%0AEval%201%093787%0959.2424%09485.3568918678273%09362.22741690625435%09123.12947496157295%0A'))>📂 Copy</button>\n",
              "                <a href='mailto:<Share with...>?subject=Relevant external data sources from Upgini.com&body=Dataset%20type%09Rows%09Mean%20target%09Baseline%20mean_squared_error%09Enriched%20mean_squared_error%09Uplift%0ATrain%0915213%0950.3977%09301.2608650185969%09194.2737089475844%09106.98715607101252%0AEval%201%093787%0959.2424%09485.3568918678273%09362.22741690625435%09123.12947496157295%0A'>\n",
              "                    <button>📨 Share</button>\n",
              "                </a>\n",
              "            </div>\n",
              "            <table class='upgini-df'><thead><th>Dataset type</th><th>Rows</th><th>Mean target</th><th>Baseline mean_squared_error</th><th>Enriched mean_squared_error</th><th>Uplift</th></thead><tbody><tr><td class='upgini-text'>Train</td><td class='upgini-number'>15213</td><td class='upgini-number'>50.3977</td><td class='upgini-number'>301.2609</td><td class='upgini-number'>194.2737</td><td class='upgini-number'>106.9872</td></tr><tr><td class='upgini-text'>Eval 1</td><td class='upgini-number'>3787</td><td class='upgini-number'>59.2424</td><td class='upgini-number'>485.3569</td><td class='upgini-number'>362.2274</td><td class='upgini-number'>123.1295</td></tr></tbody></table>\n",
              "        </div>\n",
              "        "
            ]
          },
          "metadata": {}
        },
        {
          "output_type": "display_data",
          "data": {
            "text/plain": [
              "<IPython.core.display.HTML object>"
            ],
            "text/html": [
              "<a download=\"upgini-report-2e21aafb-a113-4996-a67b-c5af19df3359.pdf\" href=\"data:application/pdf;base64,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\" target=\"_blank\">\n",
              "        <button>📊 Download PDF report</button></a>"
            ]
          },
          "metadata": {}
        }
      ]
    },
    {
      "cell_type": "code",
      "source": [
        "from catboost import CatBoostRegressor\n",
        "from catboost.utils import eval_metric\n",
        "\n",
        "model = CatBoostRegressor(verbose=False, allow_writing_files=False, random_state=0)\n",
        "\n",
        "enricher.calculate_metrics(\n",
        "    train_features, train_target,\n",
        "    eval_set=[(test_features, test_target)],\n",
        "    estimator = model,\n",
        "    scoring = \"mean_absolute_percentage_error\"\n",
        ")"
      ],
      "metadata": {
        "colab": {
          "base_uri": "https://localhost:8080/",
          "height": 184
        },
        "id": "c0hzXzK6vqjn",
        "outputId": "e807dfc8-31c6-432d-f9ee-307eabc915ca"
      },
      "execution_count": 19,
      "outputs": [
        {
          "output_type": "stream",
          "name": "stdout",
          "text": [
            "Calculating accuracy uplift after enrichment...\n",
            "-\r\n",
            "WARNING: y distributions from the training sample and eval_set differ according to the Kolmogorov-Smirnov test,\n",
            "which makes metrics between the train and eval_set incomparable.\n"
          ]
        },
        {
          "output_type": "execute_result",
          "data": {
            "text/plain": [
              "  Dataset type   Rows  Mean target  Baseline mean_absolute_percentage_error  \\\n",
              "0        Train  15213      50.3977                                 0.252850   \n",
              "1       Eval 1   3787      59.2424                                 0.264187   \n",
              "\n",
              "   Enriched mean_absolute_percentage_error    Uplift  \n",
              "0                                 0.168123  0.084727  \n",
              "1                                 0.188280  0.075907  "
            ],
            "text/html": [
              "\n",
              "  <div id=\"df-bab158c5-9738-446d-a213-ee1d6242ecf2\" class=\"colab-df-container\">\n",
              "    <div>\n",
              "<style scoped>\n",
              "    .dataframe tbody tr th:only-of-type {\n",
              "        vertical-align: middle;\n",
              "    }\n",
              "\n",
              "    .dataframe tbody tr th {\n",
              "        vertical-align: top;\n",
              "    }\n",
              "\n",
              "    .dataframe thead th {\n",
              "        text-align: right;\n",
              "    }\n",
              "</style>\n",
              "<table border=\"1\" class=\"dataframe\">\n",
              "  <thead>\n",
              "    <tr style=\"text-align: right;\">\n",
              "      <th></th>\n",
              "      <th>Dataset type</th>\n",
              "      <th>Rows</th>\n",
              "      <th>Mean target</th>\n",
              "      <th>Baseline mean_absolute_percentage_error</th>\n",
              "      <th>Enriched mean_absolute_percentage_error</th>\n",
              "      <th>Uplift</th>\n",
              "    </tr>\n",
              "  </thead>\n",
              "  <tbody>\n",
              "    <tr>\n",
              "      <th>0</th>\n",
              "      <td>Train</td>\n",
              "      <td>15213</td>\n",
              "      <td>50.3977</td>\n",
              "      <td>0.252850</td>\n",
              "      <td>0.168123</td>\n",
              "      <td>0.084727</td>\n",
              "    </tr>\n",
              "    <tr>\n",
              "      <th>1</th>\n",
              "      <td>Eval 1</td>\n",
              "      <td>3787</td>\n",
              "      <td>59.2424</td>\n",
              "      <td>0.264187</td>\n",
              "      <td>0.188280</td>\n",
              "      <td>0.075907</td>\n",
              "    </tr>\n",
              "  </tbody>\n",
              "</table>\n",
              "</div>\n",
              "    <div class=\"colab-df-buttons\">\n",
              "\n",
              "  <div class=\"colab-df-container\">\n",
              "    <button class=\"colab-df-convert\" onclick=\"convertToInteractive('df-bab158c5-9738-446d-a213-ee1d6242ecf2')\"\n",
              "            title=\"Convert this dataframe to an interactive table.\"\n",
              "            style=\"display:none;\">\n",
              "\n",
              "  <svg xmlns=\"http://www.w3.org/2000/svg\" height=\"24px\" viewBox=\"0 -960 960 960\">\n",
              "    <path d=\"M120-120v-720h720v720H120Zm60-500h600v-160H180v160Zm220 220h160v-160H400v160Zm0 220h160v-160H400v160ZM180-400h160v-160H180v160Zm440 0h160v-160H620v160ZM180-180h160v-160H180v160Zm440 0h160v-160H620v160Z\"/>\n",
              "  </svg>\n",
              "    </button>\n",
              "\n",
              "  <style>\n",
              "    .colab-df-container {\n",
              "      display:flex;\n",
              "      gap: 12px;\n",
              "    }\n",
              "\n",
              "    .colab-df-convert {\n",
              "      background-color: #E8F0FE;\n",
              "      border: none;\n",
              "      border-radius: 50%;\n",
              "      cursor: pointer;\n",
              "      display: none;\n",
              "      fill: #1967D2;\n",
              "      height: 32px;\n",
              "      padding: 0 0 0 0;\n",
              "      width: 32px;\n",
              "    }\n",
              "\n",
              "    .colab-df-convert:hover {\n",
              "      background-color: #E2EBFA;\n",
              "      box-shadow: 0px 1px 2px rgba(60, 64, 67, 0.3), 0px 1px 3px 1px rgba(60, 64, 67, 0.15);\n",
              "      fill: #174EA6;\n",
              "    }\n",
              "\n",
              "    .colab-df-buttons div {\n",
              "      margin-bottom: 4px;\n",
              "    }\n",
              "\n",
              "    [theme=dark] .colab-df-convert {\n",
              "      background-color: #3B4455;\n",
              "      fill: #D2E3FC;\n",
              "    }\n",
              "\n",
              "    [theme=dark] .colab-df-convert:hover {\n",
              "      background-color: #434B5C;\n",
              "      box-shadow: 0px 1px 3px 1px rgba(0, 0, 0, 0.15);\n",
              "      filter: drop-shadow(0px 1px 2px rgba(0, 0, 0, 0.3));\n",
              "      fill: #FFFFFF;\n",
              "    }\n",
              "  </style>\n",
              "\n",
              "    <script>\n",
              "      const buttonEl =\n",
              "        document.querySelector('#df-bab158c5-9738-446d-a213-ee1d6242ecf2 button.colab-df-convert');\n",
              "      buttonEl.style.display =\n",
              "        google.colab.kernel.accessAllowed ? 'block' : 'none';\n",
              "\n",
              "      async function convertToInteractive(key) {\n",
              "        const element = document.querySelector('#df-bab158c5-9738-446d-a213-ee1d6242ecf2');\n",
              "        const dataTable =\n",
              "          await google.colab.kernel.invokeFunction('convertToInteractive',\n",
              "                                                    [key], {});\n",
              "        if (!dataTable) return;\n",
              "\n",
              "        const docLinkHtml = 'Like what you see? Visit the ' +\n",
              "          '<a target=\"_blank\" href=https://colab.research.google.com/notebooks/data_table.ipynb>data table notebook</a>'\n",
              "          + ' to learn more about interactive tables.';\n",
              "        element.innerHTML = '';\n",
              "        dataTable['output_type'] = 'display_data';\n",
              "        await google.colab.output.renderOutput(dataTable, element);\n",
              "        const docLink = document.createElement('div');\n",
              "        docLink.innerHTML = docLinkHtml;\n",
              "        element.appendChild(docLink);\n",
              "      }\n",
              "    </script>\n",
              "  </div>\n",
              "\n",
              "\n",
              "<div id=\"df-c3f3ba2b-4726-479d-8408-a4fe7485b988\">\n",
              "  <button class=\"colab-df-quickchart\" onclick=\"quickchart('df-c3f3ba2b-4726-479d-8408-a4fe7485b988')\"\n",
              "            title=\"Suggest charts\"\n",
              "            style=\"display:none;\">\n",
              "\n",
              "<svg xmlns=\"http://www.w3.org/2000/svg\" height=\"24px\"viewBox=\"0 0 24 24\"\n",
              "     width=\"24px\">\n",
              "    <g>\n",
              "        <path d=\"M19 3H5c-1.1 0-2 .9-2 2v14c0 1.1.9 2 2 2h14c1.1 0 2-.9 2-2V5c0-1.1-.9-2-2-2zM9 17H7v-7h2v7zm4 0h-2V7h2v10zm4 0h-2v-4h2v4z\"/>\n",
              "    </g>\n",
              "</svg>\n",
              "  </button>\n",
              "\n",
              "<style>\n",
              "  .colab-df-quickchart {\n",
              "      --bg-color: #E8F0FE;\n",
              "      --fill-color: #1967D2;\n",
              "      --hover-bg-color: #E2EBFA;\n",
              "      --hover-fill-color: #174EA6;\n",
              "      --disabled-fill-color: #AAA;\n",
              "      --disabled-bg-color: #DDD;\n",
              "  }\n",
              "\n",
              "  [theme=dark] .colab-df-quickchart {\n",
              "      --bg-color: #3B4455;\n",
              "      --fill-color: #D2E3FC;\n",
              "      --hover-bg-color: #434B5C;\n",
              "      --hover-fill-color: #FFFFFF;\n",
              "      --disabled-bg-color: #3B4455;\n",
              "      --disabled-fill-color: #666;\n",
              "  }\n",
              "\n",
              "  .colab-df-quickchart {\n",
              "    background-color: var(--bg-color);\n",
              "    border: none;\n",
              "    border-radius: 50%;\n",
              "    cursor: pointer;\n",
              "    display: none;\n",
              "    fill: var(--fill-color);\n",
              "    height: 32px;\n",
              "    padding: 0;\n",
              "    width: 32px;\n",
              "  }\n",
              "\n",
              "  .colab-df-quickchart:hover {\n",
              "    background-color: var(--hover-bg-color);\n",
              "    box-shadow: 0 1px 2px rgba(60, 64, 67, 0.3), 0 1px 3px 1px rgba(60, 64, 67, 0.15);\n",
              "    fill: var(--button-hover-fill-color);\n",
              "  }\n",
              "\n",
              "  .colab-df-quickchart-complete:disabled,\n",
              "  .colab-df-quickchart-complete:disabled:hover {\n",
              "    background-color: var(--disabled-bg-color);\n",
              "    fill: var(--disabled-fill-color);\n",
              "    box-shadow: none;\n",
              "  }\n",
              "\n",
              "  .colab-df-spinner {\n",
              "    border: 2px solid var(--fill-color);\n",
              "    border-color: transparent;\n",
              "    border-bottom-color: var(--fill-color);\n",
              "    animation:\n",
              "      spin 1s steps(1) infinite;\n",
              "  }\n",
              "\n",
              "  @keyframes spin {\n",
              "    0% {\n",
              "      border-color: transparent;\n",
              "      border-bottom-color: var(--fill-color);\n",
              "      border-left-color: var(--fill-color);\n",
              "    }\n",
              "    20% {\n",
              "      border-color: transparent;\n",
              "      border-left-color: var(--fill-color);\n",
              "      border-top-color: var(--fill-color);\n",
              "    }\n",
              "    30% {\n",
              "      border-color: transparent;\n",
              "      border-left-color: var(--fill-color);\n",
              "      border-top-color: var(--fill-color);\n",
              "      border-right-color: var(--fill-color);\n",
              "    }\n",
              "    40% {\n",
              "      border-color: transparent;\n",
              "      border-right-color: var(--fill-color);\n",
              "      border-top-color: var(--fill-color);\n",
              "    }\n",
              "    60% {\n",
              "      border-color: transparent;\n",
              "      border-right-color: var(--fill-color);\n",
              "    }\n",
              "    80% {\n",
              "      border-color: transparent;\n",
              "      border-right-color: var(--fill-color);\n",
              "      border-bottom-color: var(--fill-color);\n",
              "    }\n",
              "    90% {\n",
              "      border-color: transparent;\n",
              "      border-bottom-color: var(--fill-color);\n",
              "    }\n",
              "  }\n",
              "</style>\n",
              "\n",
              "  <script>\n",
              "    async function quickchart(key) {\n",
              "      const quickchartButtonEl =\n",
              "        document.querySelector('#' + key + ' button');\n",
              "      quickchartButtonEl.disabled = true;  // To prevent multiple clicks.\n",
              "      quickchartButtonEl.classList.add('colab-df-spinner');\n",
              "      try {\n",
              "        const charts = await google.colab.kernel.invokeFunction(\n",
              "            'suggestCharts', [key], {});\n",
              "      } catch (error) {\n",
              "        console.error('Error during call to suggestCharts:', error);\n",
              "      }\n",
              "      quickchartButtonEl.classList.remove('colab-df-spinner');\n",
              "      quickchartButtonEl.classList.add('colab-df-quickchart-complete');\n",
              "    }\n",
              "    (() => {\n",
              "      let quickchartButtonEl =\n",
              "        document.querySelector('#df-c3f3ba2b-4726-479d-8408-a4fe7485b988 button');\n",
              "      quickchartButtonEl.style.display =\n",
              "        google.colab.kernel.accessAllowed ? 'block' : 'none';\n",
              "    })();\n",
              "  </script>\n",
              "</div>\n",
              "\n",
              "    </div>\n",
              "  </div>\n"
            ]
          },
          "metadata": {},
          "execution_count": 19
        }
      ]
    },
    {
      "cell_type": "code",
      "source": [
        "enriched_train_features=enricher.transform(train_features, keep_input=True)\n",
        "enriched_test_features=enricher.transform(test_features, keep_input=True)\n",
        "#enriched_train_features.head()"
      ],
      "metadata": {
        "colab": {
          "base_uri": "https://localhost:8080/",
          "height": 343,
          "referenced_widgets": [
            "979923b3e22e4cbc863638232cc8d654",
            "4977b8830c4540e48fc0ed942f18356c",
            "7d251b67719e49ad957f59a95963a4b8"
          ]
        },
        "id": "nPXkV4N74LgJ",
        "outputId": "80eadde3-3c67-422a-bc7d-dddffd31df2e"
      },
      "execution_count": 23,
      "outputs": [
        {
          "output_type": "display_data",
          "data": {
            "text/plain": [
              "[                                                            ] 0% Checking dataset..."
            ],
            "text/html": [
              "<progress style='width:60ex' max='100' value='0'></progress>  0% Checking dataset...</br>"
            ]
          },
          "metadata": {}
        },
        {
          "output_type": "stream",
          "name": "stdout",
          "text": [
            "You are trying to launch enrichment for 15213 rows, which will exceed the rest limit 10000.\n"
          ]
        },
        {
          "output_type": "display_data",
          "data": {
            "text/plain": [
              "Button(button_style='danger', description='Request a quote', style=ButtonStyle())"
            ],
            "application/vnd.jupyter.widget-view+json": {
              "version_major": 2,
              "version_minor": 0,
              "model_id": "979923b3e22e4cbc863638232cc8d654"
            }
          },
          "metadata": {}
        },
        {
          "output_type": "display_data",
          "data": {
            "text/plain": [
              "[============================================================] 100% Finished"
            ],
            "text/html": [
              "<progress style='width:60ex' max='100' value='100'></progress>  100% Finished</br>"
            ]
          },
          "metadata": {}
        },
        {
          "output_type": "stream",
          "name": "stdout",
          "text": [
            "You use Trial access to Upgini data enrichment. Limit for Trial: 10000 rows. You have already enriched: 0 rows.\n",
            "\n",
            "WARNING: Search started with DATE search key only\n",
            "Try to add other keys like the COUNTRY, POSTAL_CODE, PHONE NUMBER, EMAIL/HEM, IPv4 to your training dataset\n",
            "for search through all the available data sources.\n",
            "See docs https://github.com/upgini/upgini#-total-239-countries-and-up-to-41-years-of-history\n"
          ]
        },
        {
          "output_type": "display_data",
          "data": {
            "text/plain": [
              "<IPython.core.display.HTML object>"
            ],
            "text/html": [
              "<table><tr><th style='font-weight:bold'>Column name</th><th style='font-weight:bold'>Status</th><th style='font-weight:bold'>Errors</th></tr><tr><td>date</td><td style='background-color:#DAF7A6;color:black'>All valid</td><td>-</td></tr></table>"
            ]
          },
          "metadata": {}
        },
        {
          "output_type": "stream",
          "name": "stdout",
          "text": [
            "\n",
            "Running search request, search_id=35be6993-746c-4c44-aa38-2737e7579445\n",
            "We'll send email notification once it's completed, just use your personal api_key from profile.upgini.com\n",
            "\n",
            "Retrieving selected features from data sources...\n"
          ]
        }
      ]
    },
    {
      "cell_type": "markdown",
      "source": [
        "Error Rate when we use the \"Original Dataset\""
      ],
      "metadata": {
        "id": "jVDXPt_4-EWd"
      }
    },
    {
      "cell_type": "code",
      "source": [
        "model.fit(train_features, train_target)\n",
        "preds = model.predict(test_features)\n",
        "eval_metric(test_target.values, preds, \"SMAPE\")"
      ],
      "metadata": {
        "colab": {
          "base_uri": "https://localhost:8080/"
        },
        "id": "3BAK-RO38z00",
        "outputId": "3982e252-52f1-4f49-c72e-005961b49712"
      },
      "execution_count": 25,
      "outputs": [
        {
          "output_type": "execute_result",
          "data": {
            "text/plain": [
              "[37.65141857448004]"
            ]
          },
          "metadata": {},
          "execution_count": 25
        }
      ]
    },
    {
      "cell_type": "markdown",
      "source": [
        "Calculating Error rate with \"Enriched Dataset\""
      ],
      "metadata": {
        "id": "_2ltzkAz-Q94"
      }
    },
    {
      "cell_type": "code",
      "source": [
        "model.fit(enriched_train_features, train_target)\n",
        "enriched_preds = model.predict(enriched_test_features)\n",
        "eval_metric(test_target.values, enriched_preds, \"SMAPE\")"
      ],
      "metadata": {
        "colab": {
          "base_uri": "https://localhost:8080/",
          "height": 417
        },
        "id": "q_WB2F2H-CvD",
        "outputId": "1e0c9056-3451-4f39-9d25-5bd99dac42cc"
      },
      "execution_count": 27,
      "outputs": [
        {
          "output_type": "error",
          "ename": "CatBoostError",
          "evalue": "X must not be None",
          "traceback": [
            "\u001b[0;31m---------------------------------------------------------------------------\u001b[0m",
            "\u001b[0;31mCatBoostError\u001b[0m                             Traceback (most recent call last)",
            "\u001b[0;32m<ipython-input-27-fa7ae0b03aff>\u001b[0m in \u001b[0;36m<cell line: 1>\u001b[0;34m()\u001b[0m\n\u001b[0;32m----> 1\u001b[0;31m \u001b[0mmodel\u001b[0m\u001b[0;34m.\u001b[0m\u001b[0mfit\u001b[0m\u001b[0;34m(\u001b[0m\u001b[0menriched_train_features\u001b[0m\u001b[0;34m,\u001b[0m \u001b[0mtrain_target\u001b[0m\u001b[0;34m)\u001b[0m\u001b[0;34m\u001b[0m\u001b[0;34m\u001b[0m\u001b[0m\n\u001b[0m\u001b[1;32m      2\u001b[0m \u001b[0menriched_preds\u001b[0m \u001b[0;34m=\u001b[0m \u001b[0mmodel\u001b[0m\u001b[0;34m.\u001b[0m\u001b[0mpredict\u001b[0m\u001b[0;34m(\u001b[0m\u001b[0menriched_test_features\u001b[0m\u001b[0;34m)\u001b[0m\u001b[0;34m\u001b[0m\u001b[0;34m\u001b[0m\u001b[0m\n\u001b[1;32m      3\u001b[0m \u001b[0meval_metric\u001b[0m\u001b[0;34m(\u001b[0m\u001b[0mtest_target\u001b[0m\u001b[0;34m.\u001b[0m\u001b[0mvalues\u001b[0m\u001b[0;34m,\u001b[0m \u001b[0menriched_preds\u001b[0m\u001b[0;34m,\u001b[0m \u001b[0;34m\"SMAPE\"\u001b[0m\u001b[0;34m)\u001b[0m\u001b[0;34m\u001b[0m\u001b[0;34m\u001b[0m\u001b[0m\n",
            "\u001b[0;32m/usr/local/lib/python3.10/dist-packages/catboost/core.py\u001b[0m in \u001b[0;36mfit\u001b[0;34m(self, X, y, cat_features, text_features, embedding_features, sample_weight, baseline, use_best_model, eval_set, verbose, logging_level, plot, plot_file, column_description, verbose_eval, metric_period, silent, early_stopping_rounds, save_snapshot, snapshot_file, snapshot_interval, init_model, callbacks, log_cout, log_cerr)\u001b[0m\n\u001b[1;32m   5701\u001b[0m             \u001b[0mCatBoostRegressor\u001b[0m\u001b[0;34m.\u001b[0m\u001b[0m_check_is_compatible_loss\u001b[0m\u001b[0;34m(\u001b[0m\u001b[0mparams\u001b[0m\u001b[0;34m[\u001b[0m\u001b[0;34m'loss_function'\u001b[0m\u001b[0;34m]\u001b[0m\u001b[0;34m)\u001b[0m\u001b[0;34m\u001b[0m\u001b[0;34m\u001b[0m\u001b[0m\n\u001b[1;32m   5702\u001b[0m \u001b[0;34m\u001b[0m\u001b[0m\n\u001b[0;32m-> 5703\u001b[0;31m         return self._fit(X, y, cat_features, text_features, embedding_features, None, sample_weight, None, None, None, None, baseline,\n\u001b[0m\u001b[1;32m   5704\u001b[0m                          \u001b[0muse_best_model\u001b[0m\u001b[0;34m,\u001b[0m \u001b[0meval_set\u001b[0m\u001b[0;34m,\u001b[0m \u001b[0mverbose\u001b[0m\u001b[0;34m,\u001b[0m \u001b[0mlogging_level\u001b[0m\u001b[0;34m,\u001b[0m \u001b[0mplot\u001b[0m\u001b[0;34m,\u001b[0m \u001b[0mplot_file\u001b[0m\u001b[0;34m,\u001b[0m \u001b[0mcolumn_description\u001b[0m\u001b[0;34m,\u001b[0m\u001b[0;34m\u001b[0m\u001b[0;34m\u001b[0m\u001b[0m\n\u001b[1;32m   5705\u001b[0m                          \u001b[0mverbose_eval\u001b[0m\u001b[0;34m,\u001b[0m \u001b[0mmetric_period\u001b[0m\u001b[0;34m,\u001b[0m \u001b[0msilent\u001b[0m\u001b[0;34m,\u001b[0m \u001b[0mearly_stopping_rounds\u001b[0m\u001b[0;34m,\u001b[0m\u001b[0;34m\u001b[0m\u001b[0;34m\u001b[0m\u001b[0m\n",
            "\u001b[0;32m/usr/local/lib/python3.10/dist-packages/catboost/core.py\u001b[0m in \u001b[0;36m_fit\u001b[0;34m(self, X, y, cat_features, text_features, embedding_features, pairs, sample_weight, group_id, group_weight, subgroup_id, pairs_weight, baseline, use_best_model, eval_set, verbose, logging_level, plot, plot_file, column_description, verbose_eval, metric_period, silent, early_stopping_rounds, save_snapshot, snapshot_file, snapshot_interval, init_model, callbacks, log_cout, log_cerr)\u001b[0m\n\u001b[1;32m   2296\u001b[0m \u001b[0;34m\u001b[0m\u001b[0m\n\u001b[1;32m   2297\u001b[0m         \u001b[0;32mif\u001b[0m \u001b[0mX\u001b[0m \u001b[0;32mis\u001b[0m \u001b[0;32mNone\u001b[0m\u001b[0;34m:\u001b[0m\u001b[0;34m\u001b[0m\u001b[0;34m\u001b[0m\u001b[0m\n\u001b[0;32m-> 2298\u001b[0;31m             \u001b[0;32mraise\u001b[0m \u001b[0mCatBoostError\u001b[0m\u001b[0;34m(\u001b[0m\u001b[0;34m\"X must not be None\"\u001b[0m\u001b[0;34m)\u001b[0m\u001b[0;34m\u001b[0m\u001b[0;34m\u001b[0m\u001b[0m\n\u001b[0m\u001b[1;32m   2299\u001b[0m \u001b[0;34m\u001b[0m\u001b[0m\n\u001b[1;32m   2300\u001b[0m         \u001b[0;32mif\u001b[0m \u001b[0my\u001b[0m \u001b[0;32mis\u001b[0m \u001b[0;32mNone\u001b[0m \u001b[0;32mand\u001b[0m \u001b[0;32mnot\u001b[0m \u001b[0misinstance\u001b[0m\u001b[0;34m(\u001b[0m\u001b[0mX\u001b[0m\u001b[0;34m,\u001b[0m \u001b[0mPATH_TYPES\u001b[0m \u001b[0;34m+\u001b[0m \u001b[0;34m(\u001b[0m\u001b[0mPool\u001b[0m\u001b[0;34m,\u001b[0m\u001b[0;34m)\u001b[0m\u001b[0;34m)\u001b[0m\u001b[0;34m:\u001b[0m\u001b[0;34m\u001b[0m\u001b[0;34m\u001b[0m\u001b[0m\n",
            "\u001b[0;31mCatBoostError\u001b[0m: X must not be None"
          ]
        }
      ]
    },
    {
      "cell_type": "markdown",
      "source": [
        "In the above code block \"if X was not None\" then the error rate would have been \"LESS\" than the error rate with the original dataset.\n",
        "\n",
        "This gives us an idea that using an enriched dataset using Upgini gives us somewhat better results."
      ],
      "metadata": {
        "id": "RPLtT2AhFUpJ"
      }
    }
  ]
}